{
 "cells": [
  {
   "cell_type": "markdown",
   "metadata": {
    "_cell_guid": "b1076dfc-b9ad-4769-8c92-a6c4dae69d19",
    "_uuid": "8f2839f25d086af736a60e9eeb907d3b93b6e0e5",
    "id": "i43UyS95dd44"
   },
   "source": [
    "# Insurance cost prediction using linear regression\n",
    "\n",
    "Make a submisson here: https://jovian.ai/learn/deep-learning-with-pytorch-zero-to-gans/assignment/assignment-2-train-your-first-model\n",
    "\n",
    "In this assignment we're going to use information like a person's age, sex, BMI, no. of children and smoking habit to predict the price of yearly medical bills. This kind of model is useful for insurance companies to determine the yearly insurance premium for a person. The dataset for this problem is taken from [Kaggle](https://www.kaggle.com/mirichoi0218/insurance).\n",
    "\n",
    "\n",
    "We will create a model with the following steps:\n",
    "1. Download and explore the dataset\n",
    "2. Prepare the dataset for training\n",
    "3. Create a linear regression model\n",
    "4. Train the model to fit the data\n",
    "5. Make predictions using the trained model\n",
    "\n",
    "\n",
    "This assignment builds upon the concepts from the first 2 lessons. It will help to review these Jupyter notebooks:\n",
    "- PyTorch basics: https://jovian.ai/aakashns/01-pytorch-basics\n",
    "- Linear Regression: https://jovian.ai/aakashns/02-linear-regression\n",
    "- Logistic Regression: https://jovian.ai/aakashns/03-logistic-regression\n",
    "- Linear regression (minimal): https://jovian.ai/aakashns/housing-linear-minimal\n",
    "- Logistic regression (minimal): https://jovian.ai/aakashns/mnist-logistic-minimal\n",
    "\n",
    "As you go through this notebook, you will find a **???** in certain places. Your job is to replace the **???** with appropriate code or values, to ensure that the notebook runs properly end-to-end . In some cases, you'll be required to choose some hyperparameters (learning rate, batch size etc.). Try to experiment with the hypeparameters to get the lowest loss.\n"
   ]
  },
  {
   "cell_type": "code",
   "execution_count": 178,
   "metadata": {
    "executionInfo": {
     "elapsed": 12,
     "status": "ok",
     "timestamp": 1679770925001,
     "user": {
      "displayName": "Faisal Osman",
      "userId": "03675104962384198116"
     },
     "user_tz": -360
    },
    "id": "xA_mUlhDdd49"
   },
   "outputs": [],
   "source": [
    "# Uncomment and run the appropriate command for your operating system, if required\n",
    "\n",
    "# Linux / Binder\n",
    "# !pip install numpy matplotlib pandas torch==1.7.0+cpu torchvision==0.8.1+cpu torchaudio==0.7.0 -f https://download.pytorch.org/whl/torch_stable.html\n",
    "\n",
    "# Windows\n",
    "# !pip install numpy matplotlib pandas torch==1.7.0+cpu torchvision==0.8.1+cpu torchaudio==0.7.0 -f https://download.pytorch.org/whl/torch_stable.html\n",
    "\n",
    "# MacOS\n",
    "# !pip install numpy matplotlib pandas torch torchvision torchaudio"
   ]
  },
  {
   "cell_type": "code",
   "execution_count": 1,
   "metadata": {
    "colab": {
     "base_uri": "https://localhost:8080/"
    },
    "executionInfo": {
     "elapsed": 7353,
     "status": "ok",
     "timestamp": 1679766355508,
     "user": {
      "displayName": "Faisal Osman",
      "userId": "03675104962384198116"
     },
     "user_tz": -360
    },
    "id": "wSn3HFoKgHbp",
    "outputId": "a08afcf8-23b2-43f6-ff81-d79ff885dcda"
   },
   "outputs": [
    {
     "name": "stdout",
     "output_type": "stream",
     "text": [
      "\u001b[?25l     \u001b[90m━━━━━━━━━━━━━━━━━━━━━━━━━━━━━━━━━━━━━━━━\u001b[0m \u001b[32m0.0/68.6 KB\u001b[0m \u001b[31m?\u001b[0m eta \u001b[36m-:--:--\u001b[0m\r",
      "\u001b[2K     \u001b[90m━━━━━━━━━━━━━━━━━━━━━━━━━━━━━━━━━━━━━━━━\u001b[0m \u001b[32m68.6/68.6 KB\u001b[0m \u001b[31m2.4 MB/s\u001b[0m eta \u001b[36m0:00:00\u001b[0m\n",
      "\u001b[?25h  Preparing metadata (setup.py) ... \u001b[?25l\u001b[?25hdone\n",
      "  Building wheel for uuid (setup.py) ... \u001b[?25l\u001b[?25hdone\n"
     ]
    }
   ],
   "source": [
    "!pip install jovian --upgrade --quiet"
   ]
  },
  {
   "cell_type": "code",
   "execution_count": 2,
   "metadata": {
    "executionInfo": {
     "elapsed": 3421,
     "status": "ok",
     "timestamp": 1679766358921,
     "user": {
      "displayName": "Faisal Osman",
      "userId": "03675104962384198116"
     },
     "user_tz": -360
    },
    "id": "E8N6DjaWdd5I"
   },
   "outputs": [],
   "source": [
    "import torch\n",
    "import jovian\n",
    "import torchvision\n",
    "import torch.nn as nn\n",
    "import pandas as pd\n",
    "import matplotlib.pyplot as plt\n",
    "import torch.nn.functional as F\n",
    "from torchvision.datasets.utils import download_url\n",
    "from torch.utils.data import DataLoader, TensorDataset, random_split"
   ]
  },
  {
   "cell_type": "code",
   "execution_count": 3,
   "metadata": {
    "executionInfo": {
     "elapsed": 9,
     "status": "ok",
     "timestamp": 1679766358922,
     "user": {
      "displayName": "Faisal Osman",
      "userId": "03675104962384198116"
     },
     "user_tz": -360
    },
    "id": "l29eB1itdd5I"
   },
   "outputs": [],
   "source": [
    "project_name='02-insurance-linear-regression2023' # will be used by jovian.commit"
   ]
  },
  {
   "cell_type": "markdown",
   "metadata": {
    "id": "qrN7ZsjUdd5I"
   },
   "source": [
    "## Step 1: Download and explore the data\n",
    "\n",
    "Let us begin by downloading the data. We'll use the `download_url` function from PyTorch to get the data as a CSV (comma-separated values) file. "
   ]
  },
  {
   "cell_type": "code",
   "execution_count": 4,
   "metadata": {
    "_cell_guid": "79c7e3d0-c299-4dcb-8224-4455121ee9b0",
    "_uuid": "d629ff2d2480ee46fbb7e2d37f6b5fab8052498a",
    "colab": {
     "base_uri": "https://localhost:8080/",
     "height": 86,
     "referenced_widgets": [
      "4b767a15e6ca4cebb444468ce4ee1af0",
      "880c144049544c2aa45be0ddcac2db30",
      "4da9af30628847d4a855414659d35dc6",
      "84a9d1caa40a4a9799eaa6dca9968453",
      "c65ad8300bbe44eb920f8e4cb5463fe6",
      "c019dfac5dee4097b12c47432018dcb7",
      "830a62a80b7e464da22b7df4df5baab4",
      "9ec2124561da4dc9ae6ff593ee2732d9",
      "51dd7200503d4f4db55410beffa60067",
      "0483c24a29c8464c82e62e3e90fb238f",
      "53a32282ef474f92b4f052b697c269e7"
     ]
    },
    "executionInfo": {
     "elapsed": 522,
     "status": "ok",
     "timestamp": 1679766359436,
     "user": {
      "displayName": "Faisal Osman",
      "userId": "03675104962384198116"
     },
     "user_tz": -360
    },
    "id": "cQlPCywSdd5J",
    "outputId": "da7d17c1-907a-499c-a75f-1b9393088606"
   },
   "outputs": [
    {
     "name": "stdout",
     "output_type": "stream",
     "text": [
      "Downloading https://gist.githubusercontent.com/BirajCoder/5f068dfe759c1ea6bdfce9535acdb72d/raw/c84d84e3c80f93be67f6c069cbdc0195ec36acbd/insurance.csv to ./insurance.csv\n"
     ]
    },
    {
     "data": {
      "application/vnd.jupyter.widget-view+json": {
       "model_id": "4b767a15e6ca4cebb444468ce4ee1af0",
       "version_major": 2,
       "version_minor": 0
      },
      "text/plain": [
       "  0%|          | 0/54288 [00:00<?, ?it/s]"
      ]
     },
     "metadata": {},
     "output_type": "display_data"
    }
   ],
   "source": [
    "DATASET_URL = \"https://gist.github.com/BirajCoder/5f068dfe759c1ea6bdfce9535acdb72d/raw/c84d84e3c80f93be67f6c069cbdc0195ec36acbd/insurance.csv\"\n",
    "DATA_FILENAME = \"insurance.csv\"\n",
    "download_url(DATASET_URL, '.')"
   ]
  },
  {
   "cell_type": "markdown",
   "metadata": {
    "id": "4rkYYW1Sdd5K"
   },
   "source": [
    "To load the dataset into memory, we'll use the `read_csv` function from the `pandas` library. The data will be loaded as a Pandas dataframe. See this short tutorial to learn more: https://data36.com/pandas-tutorial-1-basics-reading-data-files-dataframes-data-selection/"
   ]
  },
  {
   "cell_type": "code",
   "execution_count": 5,
   "metadata": {
    "colab": {
     "base_uri": "https://localhost:8080/",
     "height": 206
    },
    "executionInfo": {
     "elapsed": 63,
     "status": "ok",
     "timestamp": 1679766359437,
     "user": {
      "displayName": "Faisal Osman",
      "userId": "03675104962384198116"
     },
     "user_tz": -360
    },
    "id": "ElklAlJHdd5K",
    "outputId": "bef900c0-daee-4fc9-8b1e-92a10a6fab9d"
   },
   "outputs": [
    {
     "data": {
      "text/html": [
       "\n",
       "  <div id=\"df-da6d539c-51e6-4ac3-a455-95b7e3481463\">\n",
       "    <div class=\"colab-df-container\">\n",
       "      <div>\n",
       "<style scoped>\n",
       "    .dataframe tbody tr th:only-of-type {\n",
       "        vertical-align: middle;\n",
       "    }\n",
       "\n",
       "    .dataframe tbody tr th {\n",
       "        vertical-align: top;\n",
       "    }\n",
       "\n",
       "    .dataframe thead th {\n",
       "        text-align: right;\n",
       "    }\n",
       "</style>\n",
       "<table border=\"1\" class=\"dataframe\">\n",
       "  <thead>\n",
       "    <tr style=\"text-align: right;\">\n",
       "      <th></th>\n",
       "      <th>age</th>\n",
       "      <th>sex</th>\n",
       "      <th>bmi</th>\n",
       "      <th>children</th>\n",
       "      <th>smoker</th>\n",
       "      <th>region</th>\n",
       "      <th>charges</th>\n",
       "    </tr>\n",
       "  </thead>\n",
       "  <tbody>\n",
       "    <tr>\n",
       "      <th>0</th>\n",
       "      <td>19</td>\n",
       "      <td>female</td>\n",
       "      <td>27.900</td>\n",
       "      <td>0</td>\n",
       "      <td>yes</td>\n",
       "      <td>southwest</td>\n",
       "      <td>16884.92400</td>\n",
       "    </tr>\n",
       "    <tr>\n",
       "      <th>1</th>\n",
       "      <td>18</td>\n",
       "      <td>male</td>\n",
       "      <td>33.770</td>\n",
       "      <td>1</td>\n",
       "      <td>no</td>\n",
       "      <td>southeast</td>\n",
       "      <td>1725.55230</td>\n",
       "    </tr>\n",
       "    <tr>\n",
       "      <th>2</th>\n",
       "      <td>28</td>\n",
       "      <td>male</td>\n",
       "      <td>33.000</td>\n",
       "      <td>3</td>\n",
       "      <td>no</td>\n",
       "      <td>southeast</td>\n",
       "      <td>4449.46200</td>\n",
       "    </tr>\n",
       "    <tr>\n",
       "      <th>3</th>\n",
       "      <td>33</td>\n",
       "      <td>male</td>\n",
       "      <td>22.705</td>\n",
       "      <td>0</td>\n",
       "      <td>no</td>\n",
       "      <td>northwest</td>\n",
       "      <td>21984.47061</td>\n",
       "    </tr>\n",
       "    <tr>\n",
       "      <th>4</th>\n",
       "      <td>32</td>\n",
       "      <td>male</td>\n",
       "      <td>28.880</td>\n",
       "      <td>0</td>\n",
       "      <td>no</td>\n",
       "      <td>northwest</td>\n",
       "      <td>3866.85520</td>\n",
       "    </tr>\n",
       "  </tbody>\n",
       "</table>\n",
       "</div>\n",
       "      <button class=\"colab-df-convert\" onclick=\"convertToInteractive('df-da6d539c-51e6-4ac3-a455-95b7e3481463')\"\n",
       "              title=\"Convert this dataframe to an interactive table.\"\n",
       "              style=\"display:none;\">\n",
       "        \n",
       "  <svg xmlns=\"http://www.w3.org/2000/svg\" height=\"24px\"viewBox=\"0 0 24 24\"\n",
       "       width=\"24px\">\n",
       "    <path d=\"M0 0h24v24H0V0z\" fill=\"none\"/>\n",
       "    <path d=\"M18.56 5.44l.94 2.06.94-2.06 2.06-.94-2.06-.94-.94-2.06-.94 2.06-2.06.94zm-11 1L8.5 8.5l.94-2.06 2.06-.94-2.06-.94L8.5 2.5l-.94 2.06-2.06.94zm10 10l.94 2.06.94-2.06 2.06-.94-2.06-.94-.94-2.06-.94 2.06-2.06.94z\"/><path d=\"M17.41 7.96l-1.37-1.37c-.4-.4-.92-.59-1.43-.59-.52 0-1.04.2-1.43.59L10.3 9.45l-7.72 7.72c-.78.78-.78 2.05 0 2.83L4 21.41c.39.39.9.59 1.41.59.51 0 1.02-.2 1.41-.59l7.78-7.78 2.81-2.81c.8-.78.8-2.07 0-2.86zM5.41 20L4 18.59l7.72-7.72 1.47 1.35L5.41 20z\"/>\n",
       "  </svg>\n",
       "      </button>\n",
       "      \n",
       "  <style>\n",
       "    .colab-df-container {\n",
       "      display:flex;\n",
       "      flex-wrap:wrap;\n",
       "      gap: 12px;\n",
       "    }\n",
       "\n",
       "    .colab-df-convert {\n",
       "      background-color: #E8F0FE;\n",
       "      border: none;\n",
       "      border-radius: 50%;\n",
       "      cursor: pointer;\n",
       "      display: none;\n",
       "      fill: #1967D2;\n",
       "      height: 32px;\n",
       "      padding: 0 0 0 0;\n",
       "      width: 32px;\n",
       "    }\n",
       "\n",
       "    .colab-df-convert:hover {\n",
       "      background-color: #E2EBFA;\n",
       "      box-shadow: 0px 1px 2px rgba(60, 64, 67, 0.3), 0px 1px 3px 1px rgba(60, 64, 67, 0.15);\n",
       "      fill: #174EA6;\n",
       "    }\n",
       "\n",
       "    [theme=dark] .colab-df-convert {\n",
       "      background-color: #3B4455;\n",
       "      fill: #D2E3FC;\n",
       "    }\n",
       "\n",
       "    [theme=dark] .colab-df-convert:hover {\n",
       "      background-color: #434B5C;\n",
       "      box-shadow: 0px 1px 3px 1px rgba(0, 0, 0, 0.15);\n",
       "      filter: drop-shadow(0px 1px 2px rgba(0, 0, 0, 0.3));\n",
       "      fill: #FFFFFF;\n",
       "    }\n",
       "  </style>\n",
       "\n",
       "      <script>\n",
       "        const buttonEl =\n",
       "          document.querySelector('#df-da6d539c-51e6-4ac3-a455-95b7e3481463 button.colab-df-convert');\n",
       "        buttonEl.style.display =\n",
       "          google.colab.kernel.accessAllowed ? 'block' : 'none';\n",
       "\n",
       "        async function convertToInteractive(key) {\n",
       "          const element = document.querySelector('#df-da6d539c-51e6-4ac3-a455-95b7e3481463');\n",
       "          const dataTable =\n",
       "            await google.colab.kernel.invokeFunction('convertToInteractive',\n",
       "                                                     [key], {});\n",
       "          if (!dataTable) return;\n",
       "\n",
       "          const docLinkHtml = 'Like what you see? Visit the ' +\n",
       "            '<a target=\"_blank\" href=https://colab.research.google.com/notebooks/data_table.ipynb>data table notebook</a>'\n",
       "            + ' to learn more about interactive tables.';\n",
       "          element.innerHTML = '';\n",
       "          dataTable['output_type'] = 'display_data';\n",
       "          await google.colab.output.renderOutput(dataTable, element);\n",
       "          const docLink = document.createElement('div');\n",
       "          docLink.innerHTML = docLinkHtml;\n",
       "          element.appendChild(docLink);\n",
       "        }\n",
       "      </script>\n",
       "    </div>\n",
       "  </div>\n",
       "  "
      ],
      "text/plain": [
       "   age     sex     bmi  children smoker     region      charges\n",
       "0   19  female  27.900         0    yes  southwest  16884.92400\n",
       "1   18    male  33.770         1     no  southeast   1725.55230\n",
       "2   28    male  33.000         3     no  southeast   4449.46200\n",
       "3   33    male  22.705         0     no  northwest  21984.47061\n",
       "4   32    male  28.880         0     no  northwest   3866.85520"
      ]
     },
     "execution_count": 5,
     "metadata": {},
     "output_type": "execute_result"
    }
   ],
   "source": [
    "dataframe_raw = pd.read_csv(DATA_FILENAME)\n",
    "dataframe_raw.head()"
   ]
  },
  {
   "cell_type": "markdown",
   "metadata": {
    "id": "qpL2Fnowdd5K"
   },
   "source": [
    "We're going to do a slight customization of the data, so that you every participant receives a slightly different version of the dataset. Fill in your name below as a string (enter at least 5 characters)"
   ]
  },
  {
   "cell_type": "code",
   "execution_count": 6,
   "metadata": {
    "executionInfo": {
     "elapsed": 63,
     "status": "ok",
     "timestamp": 1679766359438,
     "user": {
      "displayName": "Faisal Osman",
      "userId": "03675104962384198116"
     },
     "user_tz": -360
    },
    "id": "wC_twEicdd5L"
   },
   "outputs": [],
   "source": [
    "your_name = 'Faisal'# at least 5 characters"
   ]
  },
  {
   "cell_type": "markdown",
   "metadata": {
    "id": "0akkDLLJdd5L"
   },
   "source": [
    "The `customize_dataset` function will customize the dataset slightly using your name as a source of random numbers."
   ]
  },
  {
   "cell_type": "code",
   "execution_count": 7,
   "metadata": {
    "executionInfo": {
     "elapsed": 63,
     "status": "ok",
     "timestamp": 1679766359439,
     "user": {
      "displayName": "Faisal Osman",
      "userId": "03675104962384198116"
     },
     "user_tz": -360
    },
    "id": "9sEwq41wdd5L"
   },
   "outputs": [],
   "source": [
    "def customize_dataset(dataframe_raw, rand_str):\n",
    "    dataframe = dataframe_raw.copy(deep=True)\n",
    "    # drop some rows\n",
    "    dataframe = dataframe.sample(int(0.95*len(dataframe)), random_state=int(ord(rand_str[0])))\n",
    "    # scale input\n",
    "    dataframe.bmi = dataframe.bmi * ord(rand_str[1])/100.\n",
    "    # scale target\n",
    "    dataframe.charges = dataframe.charges * ord(rand_str[2])/100.\n",
    "    # drop column\n",
    "    if ord(rand_str[3]) % 2 == 1:\n",
    "        dataframe = dataframe.drop(['region'], axis=1)\n",
    "    return dataframe"
   ]
  },
  {
   "cell_type": "code",
   "execution_count": 8,
   "metadata": {
    "colab": {
     "base_uri": "https://localhost:8080/",
     "height": 206
    },
    "executionInfo": {
     "elapsed": 63,
     "status": "ok",
     "timestamp": 1679766359439,
     "user": {
      "displayName": "Faisal Osman",
      "userId": "03675104962384198116"
     },
     "user_tz": -360
    },
    "id": "bLkYdpxhdd5L",
    "outputId": "1fa8d5ca-de16-4986-e932-e668de4ddf10"
   },
   "outputs": [
    {
     "data": {
      "text/html": [
       "\n",
       "  <div id=\"df-6cb95c26-090e-4af4-b2ad-a0a3e9bf51ef\">\n",
       "    <div class=\"colab-df-container\">\n",
       "      <div>\n",
       "<style scoped>\n",
       "    .dataframe tbody tr th:only-of-type {\n",
       "        vertical-align: middle;\n",
       "    }\n",
       "\n",
       "    .dataframe tbody tr th {\n",
       "        vertical-align: top;\n",
       "    }\n",
       "\n",
       "    .dataframe thead th {\n",
       "        text-align: right;\n",
       "    }\n",
       "</style>\n",
       "<table border=\"1\" class=\"dataframe\">\n",
       "  <thead>\n",
       "    <tr style=\"text-align: right;\">\n",
       "      <th></th>\n",
       "      <th>age</th>\n",
       "      <th>sex</th>\n",
       "      <th>bmi</th>\n",
       "      <th>children</th>\n",
       "      <th>smoker</th>\n",
       "      <th>charges</th>\n",
       "    </tr>\n",
       "  </thead>\n",
       "  <tbody>\n",
       "    <tr>\n",
       "      <th>425</th>\n",
       "      <td>45</td>\n",
       "      <td>male</td>\n",
       "      <td>23.58070</td>\n",
       "      <td>5</td>\n",
       "      <td>no</td>\n",
       "      <td>10278.309195</td>\n",
       "    </tr>\n",
       "    <tr>\n",
       "      <th>607</th>\n",
       "      <td>59</td>\n",
       "      <td>female</td>\n",
       "      <td>22.94535</td>\n",
       "      <td>0</td>\n",
       "      <td>yes</td>\n",
       "      <td>26962.717373</td>\n",
       "    </tr>\n",
       "    <tr>\n",
       "      <th>428</th>\n",
       "      <td>21</td>\n",
       "      <td>female</td>\n",
       "      <td>16.31055</td>\n",
       "      <td>1</td>\n",
       "      <td>no</td>\n",
       "      <td>3325.828642</td>\n",
       "    </tr>\n",
       "    <tr>\n",
       "      <th>1142</th>\n",
       "      <td>52</td>\n",
       "      <td>female</td>\n",
       "      <td>24.11420</td>\n",
       "      <td>0</td>\n",
       "      <td>no</td>\n",
       "      <td>28473.893469</td>\n",
       "    </tr>\n",
       "    <tr>\n",
       "      <th>1121</th>\n",
       "      <td>46</td>\n",
       "      <td>male</td>\n",
       "      <td>37.02490</td>\n",
       "      <td>2</td>\n",
       "      <td>no</td>\n",
       "      <td>8764.522515</td>\n",
       "    </tr>\n",
       "  </tbody>\n",
       "</table>\n",
       "</div>\n",
       "      <button class=\"colab-df-convert\" onclick=\"convertToInteractive('df-6cb95c26-090e-4af4-b2ad-a0a3e9bf51ef')\"\n",
       "              title=\"Convert this dataframe to an interactive table.\"\n",
       "              style=\"display:none;\">\n",
       "        \n",
       "  <svg xmlns=\"http://www.w3.org/2000/svg\" height=\"24px\"viewBox=\"0 0 24 24\"\n",
       "       width=\"24px\">\n",
       "    <path d=\"M0 0h24v24H0V0z\" fill=\"none\"/>\n",
       "    <path d=\"M18.56 5.44l.94 2.06.94-2.06 2.06-.94-2.06-.94-.94-2.06-.94 2.06-2.06.94zm-11 1L8.5 8.5l.94-2.06 2.06-.94-2.06-.94L8.5 2.5l-.94 2.06-2.06.94zm10 10l.94 2.06.94-2.06 2.06-.94-2.06-.94-.94-2.06-.94 2.06-2.06.94z\"/><path d=\"M17.41 7.96l-1.37-1.37c-.4-.4-.92-.59-1.43-.59-.52 0-1.04.2-1.43.59L10.3 9.45l-7.72 7.72c-.78.78-.78 2.05 0 2.83L4 21.41c.39.39.9.59 1.41.59.51 0 1.02-.2 1.41-.59l7.78-7.78 2.81-2.81c.8-.78.8-2.07 0-2.86zM5.41 20L4 18.59l7.72-7.72 1.47 1.35L5.41 20z\"/>\n",
       "  </svg>\n",
       "      </button>\n",
       "      \n",
       "  <style>\n",
       "    .colab-df-container {\n",
       "      display:flex;\n",
       "      flex-wrap:wrap;\n",
       "      gap: 12px;\n",
       "    }\n",
       "\n",
       "    .colab-df-convert {\n",
       "      background-color: #E8F0FE;\n",
       "      border: none;\n",
       "      border-radius: 50%;\n",
       "      cursor: pointer;\n",
       "      display: none;\n",
       "      fill: #1967D2;\n",
       "      height: 32px;\n",
       "      padding: 0 0 0 0;\n",
       "      width: 32px;\n",
       "    }\n",
       "\n",
       "    .colab-df-convert:hover {\n",
       "      background-color: #E2EBFA;\n",
       "      box-shadow: 0px 1px 2px rgba(60, 64, 67, 0.3), 0px 1px 3px 1px rgba(60, 64, 67, 0.15);\n",
       "      fill: #174EA6;\n",
       "    }\n",
       "\n",
       "    [theme=dark] .colab-df-convert {\n",
       "      background-color: #3B4455;\n",
       "      fill: #D2E3FC;\n",
       "    }\n",
       "\n",
       "    [theme=dark] .colab-df-convert:hover {\n",
       "      background-color: #434B5C;\n",
       "      box-shadow: 0px 1px 3px 1px rgba(0, 0, 0, 0.15);\n",
       "      filter: drop-shadow(0px 1px 2px rgba(0, 0, 0, 0.3));\n",
       "      fill: #FFFFFF;\n",
       "    }\n",
       "  </style>\n",
       "\n",
       "      <script>\n",
       "        const buttonEl =\n",
       "          document.querySelector('#df-6cb95c26-090e-4af4-b2ad-a0a3e9bf51ef button.colab-df-convert');\n",
       "        buttonEl.style.display =\n",
       "          google.colab.kernel.accessAllowed ? 'block' : 'none';\n",
       "\n",
       "        async function convertToInteractive(key) {\n",
       "          const element = document.querySelector('#df-6cb95c26-090e-4af4-b2ad-a0a3e9bf51ef');\n",
       "          const dataTable =\n",
       "            await google.colab.kernel.invokeFunction('convertToInteractive',\n",
       "                                                     [key], {});\n",
       "          if (!dataTable) return;\n",
       "\n",
       "          const docLinkHtml = 'Like what you see? Visit the ' +\n",
       "            '<a target=\"_blank\" href=https://colab.research.google.com/notebooks/data_table.ipynb>data table notebook</a>'\n",
       "            + ' to learn more about interactive tables.';\n",
       "          element.innerHTML = '';\n",
       "          dataTable['output_type'] = 'display_data';\n",
       "          await google.colab.output.renderOutput(dataTable, element);\n",
       "          const docLink = document.createElement('div');\n",
       "          docLink.innerHTML = docLinkHtml;\n",
       "          element.appendChild(docLink);\n",
       "        }\n",
       "      </script>\n",
       "    </div>\n",
       "  </div>\n",
       "  "
      ],
      "text/plain": [
       "      age     sex       bmi  children smoker       charges\n",
       "425    45    male  23.58070         5     no  10278.309195\n",
       "607    59  female  22.94535         0    yes  26962.717373\n",
       "428    21  female  16.31055         1     no   3325.828642\n",
       "1142   52  female  24.11420         0     no  28473.893469\n",
       "1121   46    male  37.02490         2     no   8764.522515"
      ]
     },
     "execution_count": 8,
     "metadata": {},
     "output_type": "execute_result"
    }
   ],
   "source": [
    "dataframe = customize_dataset(dataframe_raw, your_name)\n",
    "dataframe.head()"
   ]
  },
  {
   "cell_type": "markdown",
   "metadata": {
    "id": "2dsXf92Ydd5L"
   },
   "source": [
    "Let us answer some basic questions about the dataset. \n",
    "\n",
    "\n",
    "**Q1: How many rows does the dataset have?**"
   ]
  },
  {
   "cell_type": "code",
   "execution_count": 9,
   "metadata": {
    "colab": {
     "base_uri": "https://localhost:8080/"
    },
    "executionInfo": {
     "elapsed": 63,
     "status": "ok",
     "timestamp": 1679766359440,
     "user": {
      "displayName": "Faisal Osman",
      "userId": "03675104962384198116"
     },
     "user_tz": -360
    },
    "id": "LB2TSqE4iCXE",
    "outputId": "444b7de9-d13c-4e9d-e7a7-0e1cdb3b33a8"
   },
   "outputs": [
    {
     "name": "stdout",
     "output_type": "stream",
     "text": [
      "1271\n"
     ]
    }
   ],
   "source": [
    "row_count = dataframe.shape[0]  # Returns number of rows\n",
    "\n",
    "print(row_count)\n"
   ]
  },
  {
   "cell_type": "code",
   "execution_count": 10,
   "metadata": {
    "colab": {
     "base_uri": "https://localhost:8080/"
    },
    "executionInfo": {
     "elapsed": 58,
     "status": "ok",
     "timestamp": 1679766359440,
     "user": {
      "displayName": "Faisal Osman",
      "userId": "03675104962384198116"
     },
     "user_tz": -360
    },
    "id": "K0O5T2FPdd5M",
    "outputId": "478a8ca5-058b-4182-c5d0-7bdb000b598d"
   },
   "outputs": [
    {
     "name": "stdout",
     "output_type": "stream",
     "text": [
      "1271\n"
     ]
    }
   ],
   "source": [
    "num_rows = 1271\n",
    "print(num_rows)"
   ]
  },
  {
   "cell_type": "markdown",
   "metadata": {
    "id": "cqKaKWRadd5M"
   },
   "source": [
    "**Q2: How many columns doe the dataset have**"
   ]
  },
  {
   "cell_type": "code",
   "execution_count": 11,
   "metadata": {
    "colab": {
     "base_uri": "https://localhost:8080/"
    },
    "executionInfo": {
     "elapsed": 55,
     "status": "ok",
     "timestamp": 1679766359441,
     "user": {
      "displayName": "Faisal Osman",
      "userId": "03675104962384198116"
     },
     "user_tz": -360
    },
    "id": "SYJOglpeiPLc",
    "outputId": "774969b9-3e42-45f3-905b-6462d929028f"
   },
   "outputs": [
    {
     "name": "stdout",
     "output_type": "stream",
     "text": [
      "6\n"
     ]
    }
   ],
   "source": [
    "col_count = dataframe.shape[1]  # Returns number of columns\n",
    "print(col_count)"
   ]
  },
  {
   "cell_type": "code",
   "execution_count": 12,
   "metadata": {
    "colab": {
     "base_uri": "https://localhost:8080/"
    },
    "executionInfo": {
     "elapsed": 52,
     "status": "ok",
     "timestamp": 1679766359441,
     "user": {
      "displayName": "Faisal Osman",
      "userId": "03675104962384198116"
     },
     "user_tz": -360
    },
    "id": "DLy1TSyedd5M",
    "outputId": "c4729613-08cb-4c48-88af-988a4755fe50"
   },
   "outputs": [
    {
     "name": "stdout",
     "output_type": "stream",
     "text": [
      "6\n"
     ]
    }
   ],
   "source": [
    "num_cols = 6\n",
    "print(num_cols)"
   ]
  },
  {
   "cell_type": "markdown",
   "metadata": {
    "id": "wmkkPPaedd5M"
   },
   "source": [
    "**Q3: What are the column titles of the input variables?**"
   ]
  },
  {
   "cell_type": "code",
   "execution_count": 13,
   "metadata": {
    "colab": {
     "base_uri": "https://localhost:8080/"
    },
    "executionInfo": {
     "elapsed": 49,
     "status": "ok",
     "timestamp": 1679766359442,
     "user": {
      "displayName": "Faisal Osman",
      "userId": "03675104962384198116"
     },
     "user_tz": -360
    },
    "id": "aAX6VsJKiksd",
    "outputId": "8891b051-4117-4bfd-f917-1cd54cba79f8"
   },
   "outputs": [
    {
     "name": "stdout",
     "output_type": "stream",
     "text": [
      "      age     sex       bmi  children smoker       charges\n",
      "425    45    male  23.58070         5     no  10278.309195\n",
      "607    59  female  22.94535         0    yes  26962.717373\n",
      "428    21  female  16.31055         1     no   3325.828642\n",
      "1142   52  female  24.11420         0     no  28473.893469\n",
      "1121   46    male  37.02490         2     no   8764.522515\n",
      "152    32  female  36.03065         3     no   6651.060727\n",
      "1262   41  female  27.20850         1     no   7108.702125\n",
      "484    48    male  33.27100         3     no  10041.180450\n",
      "738    23    male  30.77810         3    yes  37998.556785\n",
      "114    52    male  31.23885         3     no  12062.732798\n",
      "346    33    male  34.67750         2     no   5134.499475\n",
      "621    37    male  33.07700         4    yes  42191.358300\n",
      "241    33  female  21.47095         1     no   5621.778382\n",
      "171    49    male  29.39100         0     no   8522.514000\n",
      "277    22  female  23.57100         0     no   2257.992450\n",
      "275    47  female  25.80200         2     no  10201.633050\n",
      "1097   22    male  32.75690         0     no   1758.363915\n",
      "1043   28  female  25.02600         0     no   3319.526700\n",
      "611    38  female  33.75600         2     no   6900.121200\n",
      "90     21  female  38.30530         0     no   2128.322805\n"
     ]
    }
   ],
   "source": [
    "data_top = dataframe.head(20)\n",
    "print(data_top)"
   ]
  },
  {
   "cell_type": "code",
   "execution_count": 53,
   "metadata": {
    "executionInfo": {
     "elapsed": 574,
     "status": "ok",
     "timestamp": 1679767615930,
     "user": {
      "displayName": "Faisal Osman",
      "userId": "03675104962384198116"
     },
     "user_tz": -360
    },
    "id": "2WxxeFIVdd5M"
   },
   "outputs": [],
   "source": [
    "input_cols = ['age','sex','bmi','children', 'smoker']"
   ]
  },
  {
   "cell_type": "markdown",
   "metadata": {
    "id": "VEtUa75ddd5M"
   },
   "source": [
    "**Q4: Which of the input columns are non-numeric or categorial variables ?**\n",
    "\n",
    "Hint: `sex` is one of them. List the columns that are not numbers."
   ]
  },
  {
   "cell_type": "code",
   "execution_count": 54,
   "metadata": {
    "executionInfo": {
     "elapsed": 484,
     "status": "ok",
     "timestamp": 1679767626673,
     "user": {
      "displayName": "Faisal Osman",
      "userId": "03675104962384198116"
     },
     "user_tz": -360
    },
    "id": "xe_zM32TkBTQ"
   },
   "outputs": [],
   "source": [
    "df=dataframe"
   ]
  },
  {
   "cell_type": "code",
   "execution_count": 55,
   "metadata": {
    "executionInfo": {
     "elapsed": 5,
     "status": "ok",
     "timestamp": 1679767628805,
     "user": {
      "displayName": "Faisal Osman",
      "userId": "03675104962384198116"
     },
     "user_tz": -360
    },
    "id": "K_E1JjG-j_Iw"
   },
   "outputs": [],
   "source": [
    "cols = df.columns\n",
    "num_cols = df._get_numeric_data().columns"
   ]
  },
  {
   "cell_type": "code",
   "execution_count": 56,
   "metadata": {
    "colab": {
     "base_uri": "https://localhost:8080/"
    },
    "executionInfo": {
     "elapsed": 27,
     "status": "ok",
     "timestamp": 1679767630633,
     "user": {
      "displayName": "Faisal Osman",
      "userId": "03675104962384198116"
     },
     "user_tz": -360
    },
    "id": "zriCTf6UK4JW",
    "outputId": "645bc1d5-6fb1-40d1-d881-55c506fe6ee3"
   },
   "outputs": [
    {
     "data": {
      "text/plain": [
       "['sex', 'smoker']"
      ]
     },
     "execution_count": 56,
     "metadata": {},
     "output_type": "execute_result"
    }
   ],
   "source": [
    "list(set(cols) - set(num_cols))"
   ]
  },
  {
   "cell_type": "code",
   "execution_count": 57,
   "metadata": {
    "executionInfo": {
     "elapsed": 21,
     "status": "ok",
     "timestamp": 1679767630638,
     "user": {
      "displayName": "Faisal Osman",
      "userId": "03675104962384198116"
     },
     "user_tz": -360
    },
    "id": "p3nnKR0Ndd5N"
   },
   "outputs": [],
   "source": [
    "categorical_cols = ['smoker','sex']"
   ]
  },
  {
   "cell_type": "markdown",
   "metadata": {
    "id": "wPJfUFE2dd5N"
   },
   "source": [
    "**Q5: What are the column titles of output/target variable(s)?**"
   ]
  },
  {
   "cell_type": "code",
   "execution_count": 58,
   "metadata": {
    "executionInfo": {
     "elapsed": 559,
     "status": "ok",
     "timestamp": 1679767634535,
     "user": {
      "displayName": "Faisal Osman",
      "userId": "03675104962384198116"
     },
     "user_tz": -360
    },
    "id": "MhkcWaGldd5N"
   },
   "outputs": [],
   "source": [
    "output_cols = ['charges']"
   ]
  },
  {
   "cell_type": "markdown",
   "metadata": {
    "id": "-zGC4JZ-dd5N"
   },
   "source": [
    "**Q: (Optional) What is the minimum, maximum and average value of the `charges` column? Can you show the distribution of values in a graph?**\n",
    "Use this data visualization cheatsheet for referece: https://jovian.ai/aakashns/dataviz-cheatsheet"
   ]
  },
  {
   "cell_type": "markdown",
   "metadata": {
    "id": "hiKJJQxDN_Rz"
   },
   "source": [
    "Minimum value of charges column "
   ]
  },
  {
   "cell_type": "code",
   "execution_count": 59,
   "metadata": {
    "colab": {
     "base_uri": "https://localhost:8080/"
    },
    "executionInfo": {
     "elapsed": 9,
     "status": "ok",
     "timestamp": 1679767637454,
     "user": {
      "displayName": "Faisal Osman",
      "userId": "03675104962384198116"
     },
     "user_tz": -360
    },
    "id": "BfRRA_T4dd5N",
    "outputId": "e67c2171-90d6-40bb-f4a8-0d4f381df2ba"
   },
   "outputs": [
    {
     "name": "stdout",
     "output_type": "stream",
     "text": [
      "1177.967595\n"
     ]
    }
   ],
   "source": [
    "# Write your answer here\n",
    "#Minimum value of charges column\n",
    "minValue = df['charges'].min()\n",
    "print(minValue)"
   ]
  },
  {
   "cell_type": "markdown",
   "metadata": {
    "id": "nmhBYCN5OFNu"
   },
   "source": [
    "Maximum value of charges column "
   ]
  },
  {
   "cell_type": "code",
   "execution_count": 60,
   "metadata": {
    "colab": {
     "base_uri": "https://localhost:8080/"
    },
    "executionInfo": {
     "elapsed": 3,
     "status": "ok",
     "timestamp": 1679767639501,
     "user": {
      "displayName": "Faisal Osman",
      "userId": "03675104962384198116"
     },
     "user_tz": -360
    },
    "id": "9dQxSnwXOKT9",
    "outputId": "fb74978d-2f55-47a6-a7a9-8983667a0ce2"
   },
   "outputs": [
    {
     "name": "stdout",
     "output_type": "stream",
     "text": [
      "66958.9494105\n"
     ]
    }
   ],
   "source": [
    "maxValue = df['charges'].max()\n",
    "print(maxValue)"
   ]
  },
  {
   "cell_type": "markdown",
   "metadata": {
    "id": "XhQ37Kc9Oh3s"
   },
   "source": [
    "Average value of the charges column"
   ]
  },
  {
   "cell_type": "code",
   "execution_count": 61,
   "metadata": {
    "colab": {
     "base_uri": "https://localhost:8080/"
    },
    "executionInfo": {
     "elapsed": 5,
     "status": "ok",
     "timestamp": 1679767640368,
     "user": {
      "displayName": "Faisal Osman",
      "userId": "03675104962384198116"
     },
     "user_tz": -360
    },
    "id": "gQaLOTcLOhdT",
    "outputId": "2903155b-30fa-440a-c7b0-775859fea749"
   },
   "outputs": [
    {
     "name": "stdout",
     "output_type": "stream",
     "text": [
      "13885.372412642762\n"
     ]
    }
   ],
   "source": [
    "avg_charges = df[\"charges\"].mean()\n",
    "print(avg_charges)"
   ]
  },
  {
   "cell_type": "markdown",
   "metadata": {
    "id": "y9D2HM12PM8a"
   },
   "source": [
    "Showing distribution of values in a graph"
   ]
  },
  {
   "cell_type": "code",
   "execution_count": 62,
   "metadata": {
    "executionInfo": {
     "elapsed": 5,
     "status": "ok",
     "timestamp": 1679767640910,
     "user": {
      "displayName": "Faisal Osman",
      "userId": "03675104962384198116"
     },
     "user_tz": -360
    },
    "id": "8a9ogr0XPVLs"
   },
   "outputs": [],
   "source": [
    "# Import libraries\n",
    "import matplotlib\n",
    "import matplotlib.pyplot as plt\n",
    "import seaborn as sns"
   ]
  },
  {
   "cell_type": "code",
   "execution_count": 63,
   "metadata": {
    "executionInfo": {
     "elapsed": 5,
     "status": "ok",
     "timestamp": 1679767641904,
     "user": {
      "displayName": "Faisal Osman",
      "userId": "03675104962384198116"
     },
     "user_tz": -360
    },
    "id": "lewWNAUUSJdc"
   },
   "outputs": [],
   "source": [
    "# Configuring styles\n",
    "sns.set_style(\"darkgrid\")\n",
    "matplotlib.rcParams['font.size'] = 14\n",
    "matplotlib.rcParams['figure.figsize'] = (9, 5)\n",
    "matplotlib.rcParams['figure.facecolor'] = '#00000000'"
   ]
  },
  {
   "cell_type": "code",
   "execution_count": 64,
   "metadata": {
    "colab": {
     "base_uri": "https://localhost:8080/"
    },
    "executionInfo": {
     "elapsed": 24,
     "status": "ok",
     "timestamp": 1679767643775,
     "user": {
      "displayName": "Faisal Osman",
      "userId": "03675104962384198116"
     },
     "user_tz": -360
    },
    "id": "LgvlYGmaPoBa",
    "outputId": "15f5c92a-0992-4694-8810-92512a3898e5"
   },
   "outputs": [
    {
     "name": "stdout",
     "output_type": "stream",
     "text": [
      "Charges  [10278.309195000002, 26962.717372500003, 3325.8286424999997, 28473.893469000002, 8764.522515, 6651.060727499999, 7108.702125, 10041.18045, 37998.556785, 12062.7327975, 5134.4994750000005, 42191.3583, 5621.778382499999, 8522.514000000001, 2257.9924499999997, 10201.63305, 1758.363915, 3319.5267000000003, 6900.1212, 2128.322805, 7179.237134999999, 5531.2090575, 7556.71035, 35595.68565, 18229.854405000002, 29892.364960500003, 20516.205149999998, 7399.05831, 14839.6896375, 8630.164095, 5069.300197500001, 5128.0593, 22255.608900000003, 9378.6882, 12429.018, 24403.5482565, 11708.319000000001, 57892.17219450001, 2559.9579599999997, 30999.323879999996, 21010.115332499998, 8644.752375, 20471.5551285, 42756.5786025, 6940.615185, 31694.183534999996, 2438.7528899999998, 1602.6275999999998, 5263.09455, 3330.6189, 14615.814045, 8117.998454999999, 55220.3708595, 24218.691735, 36018.325560000005, 11470.129860000001, 6780.735570000001, 18772.845714, 39133.65876, 11864.310150000001, 4189.33305, 37364.8548, 3366.8159174999996, 11337.20301, 7887.88035, 28744.700019, 35419.321035, 15737.8536, 5984.829375, 13185.485564999999, 33201.001113, 12449.232075, 7136.7064125, 6139.26348, 17939.53098, 8113.61586, 26651.41185, 11237.77452, 6383.655075000001, 26599.999482, 4763.0719500000005, 10063.087964999999, 4394.352795, 6370.483087500001, 8118.450742500001, 4233.852735, 1324.9519499999997, 9632.842432500001, 18507.5514855, 5334.100799999999, 8726.3811075, 40646.55, 14130.85884, 7120.42191, 24237.103096500003, 9962.02641, 5686.44426, 7403.1741, 12154.9365, 13604.9739, 7518.0987, 3734.7684150000005, 6692.2352175, 3209.2075050000003, 4122.04611, 13275.54669, 19974.423, 8522.082292500001, 12111.6162825, 5646.33069, 6514.096837499999, 2834.5467675, 21441.6348825, 4771.446540000001, 2263.465575, 1915.4996700000002, 4564.3745175, 10236.356129999998, 19158.820275000002, 26792.9693115, 16392.8030175, 21661.7976855, 8864.80035, 15756.9084225, 7504.846439999999, 13260.623880000001, 40196.886975, 13572.1803, 44321.69511, 10267.26456, 8984.752349999999, 9123.3017925, 5279.55393, 4261.6480725, 13597.57476, 3475.28223, 12473.059252500001, 10777.664205000001, 15076.282588499998, 22859.909415000002, 13276.818449999999, 4954.1137275, 31772.995337999997, 9511.666814999999, 12586.52661, 7114.759050000001, 10900.552634999998, 16608.884985, 49233.72426, 6206.4912, 19172.1768, 7903.0417725, 13800.5034825, 11950.391669999999, 13470.927855, 20159.941199999997, 12422.137560000001, 21812.309137499997, 2121.5799150000003, 2770.9950449999997, 5372.32542, 23585.1459375, 4448.9828775000005, 4511.084760000001, 3361.3074075, 17415.8225955, 36405.75456, 8194.368525, 8471.59425, 6875.6048025, 10356.645389999998, 2941.32174, 30645.806478000002, 6268.209150000001, 10359.6200925, 2470.6168724999998, 17490.6033225, 32489.30139, 8127.35385, 11626.8348, 13278.517350000002, 7508.646599999999, 9769.936995, 8760.0541875, 6562.95675, 1316.6328, 5133.48864, 27431.9585085, 3388.477155, 2863.764855, 2419.20231, 8066.8035, 6825.247694999999, 1906.669695, 10889.458177499999, 49670.570250000004, 14100.487170000002, 2068.0947, 7740.360599999999, 9641.2785, 22742.926605, 25833.200788500002, 13240.381371, 22322.3468475, 7715.5491, 12731.242019999998, 17112.738299999997, 19244.650005, 4685.85789, 9266.3403, 1789.7965049999998, 2623.3351199999997, 2448.0949499999997, 11131.7138625, 5072.1615, 48994.51452, 2330.4173549999996, 29506.399702500003, 11347.18095, 2063.019, 1797.8383500000002, 3457.1563425, 3878.0994, 1814.1742500000003, 10455.607680000001, 14745.650534999999, 8332.0557075, 46412.78627999999, 3335.102085, 44688.45192, 2374.64724, 7504.460249999999, 11525.058037499999, 39586.97064, 11507.296499999999, 5160.8128424999995, 1811.829915, 2316.2798399999997, 4955.5002525, 4340.7865725, 2208.234, 11639.866139999998, 38217.4548, 8751.31908, 1728.7511849999999, 30369.293766000003, 41577.27756, 7704.635399999999, 12856.757550000002, 2715.1431825, 27790.4522385, 6550.2128999999995, 12878.782245, 63022.4689185, 7502.1057825, 25165.752202500003, 14634.549825, 4655.057085, 9058.918155, 4060.1979599999995, 6734.8868999999995, 20930.1309, 2618.7231, 35145.5704845, 29338.351959000003, 2607.9228, 19911.330516, 8866.6977, 12964.5306, 8352.24285, 3049.2924000000003, 14997.63237, 18038.4981, 12882.0638625, 9335.696474999999, 6654.97938, 1188.08193, 1929.1459949999999, 1766.72685, 4677.1227825, 9264.44295, 2313.9227475, 41713.9947, 28389.809805, 10590.138299999999, 23083.694140500003, 12843.194280000002, 2537.80275, 40683.672855000004, 3580.8402, 13694.01705, 5241.99522, 31566.7595775, 9711.969959999999, 1177.967595, 13575.230655, 46004.55940499999, 12710.586, 13202.75145, 2714.53245, 7689.92155995, 3949.3565999999996, 41865.289515, 50324.43149999999, 3432.2889824999997, 8385.105749999999, 8644.27074, 12699.2019, 7090.6899, 13025.123055, 6629.44695, 46473.787395, 21820.563366000002, 51418.75998, 8005.8615, 5169.061695, 11871.2312775, 3756.89895, 9277.0281975, 1934.6449499999999, 13662.8190825, 14085.790005, 13378.2258225, 11531.626365, 48156.36525, 7279.9043625, 13786.0836225, 23602.53, 12008.5750575, 8830.5491925, 17278.493242499997, 5742.456929999999, 3521.1438150000004, 34972.92834, 10111.916850000001, 66958.9494105, 2844.567495, 9919.75152, 10354.07625, 1193.21937, 12701.48376, 7628.987625000001, 3714.58815, 3172.8996075000005, 1198.517355, 3196.423965, 1194.3431850000002, 7397.77395, 4187.3223, 4479.47409, 3009.3955499999997, 47259.403275, 21744.471357, 16921.069724999998, 38007.58395, 29757.1982925, 3010.4755800000003, 12144.615577499999, 10944.0624825, 11088.516285000002, 40157.8729335, 8691.39915, 4975.181610000001, 26574.963450000003, 11963.768827499998, 48511.034354999996, 25762.4834775, 14297.176529999999, 39358.671765, 14458.602795000003, 4451.8872825, 9829.393140000002, 11123.936985000002, 25746.277199999997, 3827.3438699999997, 11723.688532499998, 4446.67335, 13699.6989675, 19226.2791, 12240.604845, 2943.8827425, 39023.42199, 1779.53622, 22412.089035, 46644.99315, 8717.6624325, 20101.805345999997, 1923.6987, 7201.40358, 4054.2701325, 11721.746399999998, 1818.26085, 10045.340445000002, 9975.6017025, 1702.9768350000002, 2855.2437375000004, 1715.65989, 5730.9487725, 12432.813802499999, 12331.130805, 14144.34462, 20736.852549, 20330.09874, 21486.147543000003, 12322.673002499998, 9391.320855, 5502.803250000001, 5667.4975349999995, 13367.549579999999, 19704.1692225, 45941.0039025, 3562.62564, 4656.84891, 2928.51027, 4983.6612, 10462.262999999999, 6423.3692249999995, 12434.754937500002, 19746.452743499998, 12633.9423, 39338.6109375, 2209.31907, 11585.344785, 37375.36929, 10620.7592925, 14946.8256, 2332.6426724999997, 2328.48126, 16332.948187499998, 4907.06181, 11565.933434999999, 4792.4010225, 35437.80639, 28351.0339665, 50291.6309175, 9035.629575, 5529.6838800000005, 24741.166988999998, 11564.397495, 3230.9502749999997, 11507.679435, 10611.440962499999, 7790.451795, 5577.778342500001, 47995.7182425, 10208.907975, 6273.103935, 11982.269250000001, 48458.680725, 11853.5647125, 9427.094355000001, 14287.7371875, 43759.885155, 22974.861, 17636.232537000004, 27548.408968499996, 5282.833027500001, 12630.751035, 12834.043215000002, 22761.147622499997, 48567.868125, 8530.62882, 44217.84738, 8136.61422, 10018.7803275, 40644.6348, 8427.999929999998, 2582.706105, 6216.109304999999, 4922.186849999999, 1813.917, 44217.247935, 21783.288555, 3339.535605, 9846.799935, 6986.478029999999, 13120.055392499999, 2147.9695125000003, 39487.904085, 11816.092050000001, 5018.582415, 11966.74521, 15646.592535000002, 7712.338199999999, 1193.86155, 4744.7675625, 11130.575715, 8116.1280375, 15114.1180575, 20705.679435000002, 39629.704485, 35966.7560175, 12475.4259, 41828.34495, 3736.5512624999997, 5381.476485, 1794.3720375000003, 10189.9014525, 10371.488085, 19065.7698, 7191.4773, 2318.0823225, 1319.11395, 6493.514370000001, 10624.3452, 11336.1677625, 4619.71755, 4171.570935, 11093.128725, 42109.084500000004, 4566.935100000001, 30312.097094999997, 14435.2659675, 1221.635835, 6778.6557825, 6494.58684, 2524.97049, 5643.7899, 44418.8767575, 1324.5141, 7287.9553425, 4753.542097500001, 14969.002440000002, 1315.0273499999998, 10927.4401425, 13768.23504, 15202.2466575, 3655.9614, 2121.18585, 1714.6966200000002, 7813.1056499999995, 7691.30061, 2913.9517575, 7084.079625, 2868.50781, 2694.794235, 36518.59575, 11239.6935, 7818.2139, 4650.332242500001, 6713.2836225, 41592.345585, 5654.604795, 3441.0190500000003, 44015.05185, 1918.1851500000002, 3919.2563550000004, 6722.4059175, 1716.30207, 7045.701494999999, 7813.57605, 26113.32864, 9036.528269999999, 5395.169534999999, 6429.747240000001, 14673.1783275, 35602.9254, 1974.0735, 11131.4826, 8975.075865, 36822.843246, 2005.0038224999998, 17273.439435, 24471.874350000002, 14582.366925000002, 4473.7812, 21291.697885499998, 6999.55515, 6797.71365, 22886.85042, 7792.2542775, 4557.462944999999, 2223.2057925, 2207.3779350000004, 48419.186550000006, 19580.842784999997, 8941.546635, 7645.5808799999995, 20498.066609999998, 10405.8778425, 9138.6288, 6508.6893900000005, 23448.14514, 11526.066615, 1713.6380625000002, 4655.6116950000005, 18342.433095, 12241.298107500003, 3554.6691075000003, 27292.462091999998, 6879.337605, 7619.559255, 11920.88898, 7296.135839999999, 23251.2336, 12950.5194, 1461.105135, 10725.3678, 7726.0844325, 5751.938639999999, 6757.404885, 35149.608007500006, 27414.795502499997, 24997.60263, 14123.678099999997, 12131.93478, 10363.30071, 3923.287935, 14063.4438, 9728.03685, 35874.58665, 24407.02971, 2065.373835, 11347.860615000001, 27711.873304499997, 2262.07905, 16872.5389875, 3771.054, 4991.31864, 8834.1362025, 10957.900799999998, 13253.288475, 2879.0454, 23618.342622000004, 9011.417414999998, 13103.6943975, 24197.844468, 6679.04328, 2311.151955, 15131.478705, 5197.246635, 6627.549600000001, 10366.336049999998, 15991.8402525, 44099.496, 17615.119252499997, 12476.06808, 10612.581630000002, 12241.020802500001, 2764.6416000000004, 13717.077150000001, 41982.5972475, 5470.0577925, 14317.419795, 13877.949224999998, 15114.285795, 19780.638843, 3644.98008, 12330.46395, 6362.131649999999, 9746.604630000002, 8429.3664, 2597.000805, 3777.4758, 42287.327775, 4398.568754999999, 17406.668475000002, 4344.398835000001, 36904.904904, 36546.791085000004, 10098.5455725, 36161.848695, 1787.5780650000002, 8682.4962, 9221.592449999998, 5746.0714499999995, 7511.231594999999, 34175.757525, 4153.8750225, 41203.5141, 8008.3426500000005, 9766.9882275, 4050.6472125, 5932.200750000001, 37956.957675, 45417.1388475, 1591.112145, 2264.58939, 41762.99011499999, 2083.675965, 1830.3747, 14967.33861, 11648.304044999999, 8488.11579, 15172.34712, 12981.72435, 9026.669189999999, 15174.426907500001, 21922.7236515, 2846.3699775000005, 5035.43964, 25438.704102000003, 5593.7702625, 6923.183715, 5139.490965000001, 13628.325900000002, 17241.5192775, 6985.15524, 2370.3490125, 15447.330989999999, 6726.731235, 9034.7078325, 4536.4313925, 8015.4066299999995, 1713.2517149999999, 4686.365355, 50582.02904999999, 1824.2448000000002, 7518.346815, 29702.292542999996, 2417.4150000000004, 8849.472764999999, 4689.95247, 1847.3048999999999, 2158.091145, 11827.768049999999, 19744.99002, 12026.722575, 6015.455564999999, 18438.3987375, 2321.6872875, 10342.9536, 2363.37696, 13052.501017499999, 9265.1850375, 42003.4988625, 1721.5412549999999, 4144.783755, 9046.064999999999, 2306.29686, 40336.2477, 10737.59841, 14411.745432, 49871.3191725, 15300.48534, 9416.746500000001, 10841.466300000002, 16620.2628165, 7583.9255625000005, 9885.666, 37266.221999999994, 2998.2094275, 5700.164085, 14701.351035, 4663.2738075, 3773.8793925, 4140.77517, 3758.820135, 9268.570394999999, 3423.20895, 25312.2581775, 25905.246507, 15034.98255, 4358.580135, 5896.13745, 6930.3790500000005, 5710.686555, 13270.104749999999, 7893.926617499999, 14680.9428675, 5516.2002, 27447.378314999998, 38123.188215, 6417.9705975, 15178.426252500001, 61499.62820400001, 49774.07399999999, 7336.03185, 9104.750812499999, 6231.09879, 3044.4638175, 9881.55525, 10545.41145, 42979.050975, 12130.549200000001, 12096.104842499999, 5489.388187500001, 5409.740699999999, 10855.87818, 14825.601, 12646.559100000002, 2587.84974, 4789.247925000001, 36580.81665, 6275.672654999999, 44046.706305, 3198.3651, 9752.428035, 1831.68825, 11331.557999999997, 3615.2171999999996, 8129.21529, 4181.07564, 3400.357485, 7815.825202499999, 6821.7303, 9203.51145, 2984.8987875, 13670.119102499999, 16294.0892625, 21186.554686499996, 13261.391535, 65722.5167445, 1714.1926725, 15147.3775425, 1858.0082324999998, 4879.09695, 48929.063819999996, 13596.61317, 7221.879105, 38756.1384315, 38990.59311, 11806.595744999999, 31798.875087, 25389.980175, 9314.709285, 2824.61949, 25738.745822999997, 5380.3981349999995, 1929.09885, 23533.280925, 7490.597625, 14581.564199999999, 14135.646, 4278.176385, 19992.9198, 46814.7286635, 6930.2162475, 1711.325175, 8694.653835, 36196.48305, 7219.759050000001, 15029.538615, 2241.646575, 28910.608545, 15427.3028175, 1790.9057249999998, 2480.3405025, 8417.9142075, 8113.1967, 3561.9834600000004, 18546.30141, 8697.864735000001, 7532.0279475, 5520.3833475, 13885.2599025, 14075.659814999999, 2328.3426074999998, 4554.62196, 14060.086949999999, 2275.0686, 1815.34185, 6972.5720925000005, 3842.3133000000003, 10973.0796, 5945.33625, 9437.5666875, 9412.2635775, 7139.430899999999, 14513.94315, 3042.1896749999996, 5000.44545, 4340.323732499999, 40999.64925, 9653.530424999999, 33714.095961, 15067.34712, 8948.10315, 11931.44736, 9238.52265, 10873.42305, 5405.98023, 8621.65521, 10743.074895000002, 8652.619079999999, 3665.076555, 20657.0025165, 9860.9133, 14522.67096, 44230.741064999995, 49836.038700000005, 2237.209695, 17984.847384, 2013.18432, 29900.571739500003, 12883.1730825, 7561.7858925, 7402.522365, 8033.312437500001, 18799.753402500002, 14537.03706, 1703.297925, 9500.428665, 22863.038257499997, 3731.91315, 49054.071412499994, 10116.2649, 20416.47909, 6386.525250000001, 14921.062747499998, 10956.8185125, 5254.045650000001, 5524.5429225, 19902.981178500002, 14536.7313, 12754.319549999998, 2649.3279749999997, 12845.5194, 19538.675099999997, 40261.794299999994, 5089.2661575, 13099.118865, 5671.029525, 8978.91435, 5652.7128, 15919.61112, 6270.996899999999, 13885.92765, 14101.77825, 1303.64325, 29199.161355, 9979.525814999999, 12028.044000000002, 3535.003185, 6596.34675, 12478.251009, 12425.471415000002, 3945.7370399999995, 4755.950849999999, 8965.2028725, 1326.4114499999998, 13801.0580925, 1969.1112, 6604.242645, 5507.488245, 1789.9351574999998, 11105.941350000001, 24453.374819999997, 12835.5683925, 5181.44025, 18635.931510000002, 13149.785039999999, 8664.898514999999, 11850.865635, 43085.93247000001, 8966.654550000001, 29110.503187500002, 1805.4081150000002, 46620.42672, 21246.5974875, 1696.5550349999999, 12324.741282, 3739.983345, 10664.622360000001, 12257.8365, 15928.57245, 8462.663055, 18220.314315, 14701.190489999999, 52056.54552, 2775.431925, 11390.541014999999, 8179.11675, 8961.40539, 23302.058965499997, 41534.319225, 3547.8554999999997, 8532.073725, 36570.08670000001, 6674.084235, 27319.898046, 8385.7990125, 10601.8185, 40948.4733, 4799.983702500001, 10985.078370000001, 1706.7054374999998, 2244.974235, 19134.62376, 3059.24745, 3374.3031524999997, 12847.631159999999, 28713.344173499998, 7789.4481, 51109.293585, 8004.6939, 1708.6465724999998, 6418.8926025, 12940.1328, 11934.2496, 2514.9301275, 45757.88637, 43152.019837499996, 3675.642915, 2727.66795, 1793.40147, 34370.895615, 25262.6641995, 43744.6821, 6882.823867499999, 31674.9490785, 4988.6235, 4242.5861625, 5079.461415000001, 19921.119749999998, 1709.8944450000001, 8998.35489, 18825.7685385, 11930.892749999999, 41708.88351, 30598.428314999997, 49408.308704999996, 8424.2922225, 1974.51135, 26160.981892500004, 42988.34967, 6676.7152725000005, 7820.8241474999995, 10707.66081, 21175.7028315, 25082.045835, 7914.022095, 1717.5203324999998, 4193.88669, 42439.970055, 47987.123467499994, 4131.938895, 21156.789044999998, 7606.004280000001, 1192.7377350000002, 15139.19442, 16611.73395, 11335.734196500001, 4729.89552, 13281.138570000001, 13437.070101000001, 4069.5208050000006, 2866.6132425, 25700.3024355, 2071.5975, 12440.54805, 20175.4408065, 4671.935100000001, 10490.5895325, 26939.404023000003, 4357.2228, 11489.2386525, 10126.465125, 46873.25727, 2313.6454424999997, 13632.018435, 7510.30497, 5874.587775000001, 11912.794950000001, 1206.865695, 3955.22799, 38409.296268000006, 16889.383875, 11747.039535, 42949.40947500001, 12328.8123, 12736.0948575, 10290.93261, 4984.405545, 3658.5475500000002, 9597.998549999998, 20414.471175000002, 11893.050613500001, 10782.932999999997, 11475.29145, 6586.10106, 1806.371385, 7569.96639, 9556.8879, 1748.2495800000002, 2580.0717075000002, 26335.856232000002, 4101.43335, 10107.216, 2079.0735, 4071.1694625000005, 38797.769535, 3215.6336624999994, 9414.0855375, 1204.13643, 23329.020644999997, 14144.403, 4611.2346, 17044.48935, 12434.5641, 12056.7665925, 9034.01457, 46141.069905000004, 36348.7326825, 11124.226627500002, 46726.46811000001, 22284.859590000004, 9377.4812775, 10027.043355, 7334.782297499999, 4455.7695525, 8942.67045, 50976.6372675, 38030.3757225, 40732.319879999995, 5004.3231, 30397.99266, 7520.11281, 6148.697625000001, 19706.124585, 7086.02076, 20491.31868, 9169.8907125, 46091.195115, 13222.161225, 4568.04012, 11645.25369, 15320.1636525, 11366.516384999999, 17729.1702, 11835.9479595, 5911.9807425, 26117.054145, 2243.7263625, 51107.23673999999, 2076.70575, 13559.692019999999, 26160.798572999996, 38679.34035, 4040.0577000000003, 49633.3467, 4904.1720000000005, 5252.921834999999, 4920.708135000001, 5508.3493499999995, 18371.121300000003, 3443.8619774999997, 48437.052825, 3520.9482000000003, 25900.789950000002, 4205.693625, 2844.7061475, 28272.84012, 2086.28007, 7589.626432499999, 6045.2841225, 5994.62262, 17935.134000000002, 5863.520984999999, 37930.802385, 2823.97017, 22136.267999999996, 6223.1883, 15198.40875, 37889.47994999999, 14232.755145000001, 18935.666295, 10374.071399999999, 22293.791373, 12351.150945, 12541.824067499998, 8021.3883225, 22033.298280000003, 5591.93355, 17895.50847, 43022.873145000005, 18037.616520000003, 22546.102740000002, 13783.0113225, 3944.45268, 5178.22935, 7020.752865, 13456.2171975, 12535.1687475, 13534.560532500002, 3048.051825, 11513.7183, 13890.2892975, 5151.7301325, 13864.4999325, 9031.395765, 9904.571565, 9683.522729999999, 6997.9202475, 5978.102025, 2244.53628, 40437.209715, 2310.8723925, 5762.6751, 24571.371037499997, 10210.7565, 9747.7401, 20574.550132499997, 7431.04887, 12316.163475, 9855.469364999999, 6288.999832500001, 1796.57814, 3330.195645, 14574.99645, 4955.7233774999995, 3224.3491350000004, 51329.3923905, 10568.683649999999, 2654.2095825, 11132.50425, 3073.4179349999995, 18839.2113, 39721.21041, 4622.34465, 2080.6609949999997, 10101.347235000001, 3563.0241674999997, 38933.3406, 1304.373, 6708.846742500001, 12749.70753, 1611.019725, 13630.412985, 2308.0993425, 1721.5412549999999, 2001.6761625, 4635.91674, 13110.090945000002, 44898.527310000005, 7624.82805, 12527.6815125, 4848.983895, 8570.8520625, 1713.41226, 28579.3591125, 11636.706059999999, 50943.441307500005, 8880.7089, 11249.326200000001, 37822.06176, 9754.646475, 30797.5323075, 5758.690665000001, 5696.2745175, 19848.665980499998, 1304.9568000000002, 4574.895832499999, 2580.3770999999997, 4900.9880325, 1687.885605, 12542.389335, 28688.870553, 8751.1804275, 5535.78459, 11924.493945000002, 20317.887345000003, 22416.1413, 6435.2373225, 8465.9022, 1836.2126999999998, 38743.669734, 3335.656695, 2515.900695, 5994.310350000001, 36918.1412985, 14707.5831, 12543.957194999999, 12088.02525, 6128.34642, 6506.2704, 49655.60775, 2993.2179375, 34426.8315195, 6265.231769999999, 4261.0219050000005]\n",
      "Age  [45, 59, 21, 52, 46, 32, 41, 48, 23, 52, 33, 37, 33, 49, 22, 47, 22, 28, 38, 21, 43, 36, 40, 25, 30, 48, 37, 42, 18, 44, 27, 36, 53, 50, 58, 25, 53, 33, 23, 63, 34, 46, 35, 46, 40, 59, 26, 21, 34, 28, 60, 44, 60, 47, 18, 54, 38, 25, 37, 50, 32, 22, 25, 52, 39, 34, 18, 64, 41, 61, 62, 58, 37, 35, 20, 43, 54, 50, 38, 50, 34, 49, 33, 38, 45, 30, 19, 51, 32, 25, 43, 31, 62, 41, 19, 53, 40, 42, 57, 62, 42, 28, 38, 20, 22, 56, 39, 44, 57, 36, 37, 26, 37, 32, 22, 23, 31, 52, 27, 54, 62, 55, 50, 27, 44, 57, 33, 59, 47, 49, 47, 49, 37, 27, 61, 25, 55, 49, 34, 43, 60, 30, 60, 50, 55, 41, 49, 25, 64, 40, 30, 46, 61, 58, 18, 31, 57, 36, 21, 22, 35, 39, 30, 22, 26, 21, 28, 48, 47, 36, 53, 18, 53, 42, 51, 24, 29, 61, 44, 56, 57, 38, 49, 46, 43, 19, 36, 20, 25, 25, 18, 40, 40, 23, 49, 63, 61, 24, 41, 49, 39, 46, 24, 42, 45, 59, 19, 23, 32, 46, 18, 27, 19, 55, 20, 53, 18, 62, 52, 20, 18, 26, 27, 19, 51, 62, 45, 47, 26, 43, 20, 46, 56, 34, 57, 20, 18, 18, 30, 31, 21, 50, 19, 46, 19, 60, 41, 43, 59, 21, 52, 39, 56, 52, 38, 51, 62, 29, 47, 32, 35, 25, 27, 52, 61, 27, 30, 50, 59, 41, 26, 18, 40, 55, 44, 39, 18, 23, 22, 32, 46, 18, 49, 64, 53, 33, 58, 23, 31, 26, 61, 34, 55, 48, 18, 59, 56, 54, 61, 21, 18, 31, 37, 64, 28, 39, 46, 54, 34, 33, 37, 54, 55, 59, 44, 29, 54, 27, 50, 19, 60, 61, 60, 57, 43, 38, 61, 43, 51, 43, 64, 36, 27, 19, 50, 54, 19, 48, 51, 18, 54, 41, 24, 25, 18, 24, 18, 42, 26, 30, 29, 60, 57, 29, 29, 45, 29, 57, 54, 51, 42, 48, 31, 47, 55, 44, 47, 61, 22, 63, 31, 51, 56, 50, 30, 56, 24, 55, 27, 56, 19, 22, 18, 18, 55, 44, 43, 19, 41, 21, 53, 19, 49, 46, 18, 19, 18, 36, 57, 58, 62, 50, 35, 53, 58, 46, 35, 38, 60, 30, 36, 26, 28, 23, 35, 51, 39, 57, 43, 57, 20, 21, 48, 22, 47, 61, 19, 18, 63, 32, 48, 26, 19, 62, 59, 45, 36, 39, 54, 21, 53, 50, 44, 28, 62, 52, 38, 52, 46, 52, 48, 58, 47, 43, 27, 47, 31, 57, 58, 46, 51, 49, 25, 41, 50, 36, 46, 20, 40, 19, 18, 46, 30, 21, 51, 33, 54, 22, 32, 53, 33, 52, 64, 45, 18, 34, 50, 42, 57, 32, 36, 24, 55, 37, 27, 35, 18, 45, 51, 29, 43, 18, 19, 34, 50, 55, 36, 32, 53, 39, 28, 61, 18, 18, 38, 41, 21, 33, 55, 19, 42, 30, 63, 19, 47, 60, 43, 18, 21, 18, 45, 43, 23, 36, 22, 20, 19, 55, 45, 28, 40, 27, 34, 28, 50, 23, 28, 35, 18, 39, 43, 52, 43, 29, 39, 63, 22, 20, 56, 47, 45, 21, 19, 49, 63, 27, 29, 33, 42, 59, 44, 28, 19, 21, 37, 24, 45, 37, 30, 50, 49, 37, 40, 49, 19, 29, 19, 56, 26, 52, 33, 41, 57, 44, 42, 59, 20, 55, 41, 36, 37, 20, 56, 49, 62, 57, 53, 29, 63, 51, 23, 53, 20, 55, 48, 22, 64, 23, 30, 45, 54, 59, 22, 19, 39, 54, 52, 33, 18, 64, 31, 37, 51, 62, 54, 33, 55, 50, 56, 25, 61, 35, 29, 61, 60, 64, 19, 29, 59, 33, 49, 45, 24, 23, 41, 25, 27, 30, 24, 27, 50, 19, 18, 48, 51, 36, 41, 19, 27, 30, 44, 46, 31, 39, 18, 53, 21, 22, 35, 20, 19, 63, 56, 47, 63, 56, 39, 63, 47, 19, 33, 58, 31, 40, 34, 62, 27, 38, 20, 20, 37, 45, 34, 44, 18, 31, 60, 19, 42, 59, 26, 47, 23, 19, 22, 53, 27, 56, 35, 20, 18, 54, 22, 58, 46, 40, 19, 29, 45, 18, 36, 55, 41, 58, 24, 48, 52, 40, 45, 46, 34, 24, 30, 59, 31, 25, 29, 21, 50, 31, 49, 26, 64, 30, 28, 40, 40, 60, 44, 63, 32, 49, 18, 37, 26, 31, 61, 40, 48, 35, 23, 46, 48, 30, 49, 51, 35, 32, 54, 61, 56, 24, 18, 27, 38, 38, 24, 49, 19, 55, 22, 46, 26, 25, 42, 40, 48, 24, 58, 18, 28, 60, 45, 19, 23, 20, 37, 61, 56, 37, 59, 27, 53, 50, 48, 48, 23, 61, 34, 19, 56, 38, 63, 62, 32, 33, 29, 40, 18, 48, 24, 41, 64, 19, 57, 64, 18, 20, 42, 44, 26, 28, 48, 40, 33, 57, 63, 18, 28, 63, 22, 19, 38, 30, 54, 39, 49, 48, 31, 64, 26, 35, 28, 37, 46, 44, 63, 43, 58, 51, 53, 32, 44, 54, 46, 26, 28, 51, 64, 43, 51, 19, 24, 21, 40, 55, 39, 42, 42, 33, 62, 18, 50, 43, 30, 62, 52, 40, 38, 64, 54, 34, 33, 24, 19, 60, 25, 59, 36, 20, 27, 54, 38, 47, 38, 63, 33, 60, 56, 19, 62, 53, 57, 29, 41, 18, 58, 31, 29, 41, 19, 61, 20, 41, 35, 18, 56, 28, 58, 31, 19, 60, 40, 55, 43, 47, 20, 18, 51, 35, 18, 34, 27, 49, 56, 63, 40, 19, 59, 64, 22, 51, 48, 47, 57, 44, 26, 49, 19, 39, 21, 39, 46, 44, 33, 53, 19, 19, 18, 19, 25, 58, 53, 39, 57, 44, 19, 31, 59, 58, 23, 57, 50, 23, 21, 18, 32, 19, 46, 38, 64, 35, 29, 30, 34, 19, 47, 45, 58, 19, 61, 63, 44, 20, 47, 43, 42, 45, 52, 20, 52, 38, 19, 32, 37, 48, 34, 39, 36, 18, 64, 38, 23, 25, 60, 44, 31, 19, 54, 24, 58, 37, 28, 52, 50, 30, 53, 51, 51, 18, 62, 44, 34, 58, 18, 28, 61, 64, 52, 23, 53, 59, 49, 35, 26, 52, 29, 33, 49, 54, 41, 18, 39, 45, 22, 20, 24, 25, 52, 20, 26, 30, 28, 39, 18, 51, 62, 25, 20, 58, 18, 45, 34, 18, 55, 22, 48, 47, 50, 37, 31, 45, 54, 19, 18, 33, 63, 42, 38, 43, 36, 42, 46, 42, 52, 31, 56, 59, 54, 19, 18, 35, 53, 19, 60, 24, 59, 35, 30, 28, 52, 32, 34, 32, 35, 32, 21, 60, 29, 52, 22, 19, 64, 24, 36, 39, 41, 19, 36, 25, 28, 39, 35, 63, 26, 62, 23, 51, 48, 56, 58, 42, 35, 30, 26, 48, 18, 32, 23, 31, 31, 37, 59, 58, 18, 26, 57, 60, 29, 60, 49, 46, 41, 41, 30, 25, 23, 18, 38, 47, 52, 51, 44, 40, 53, 51, 34, 18, 28, 63, 28, 27, 44, 53, 22, 56, 26, 21, 43, 36, 24, 47, 18, 33, 19, 40, 60, 21, 62, 18, 19, 21, 34, 55, 45, 41, 58, 24, 40, 18, 57, 55, 61, 50, 55, 23, 49, 64, 38, 31, 27, 19, 32, 24, 32, 18, 57, 54, 46, 36, 57, 31, 42, 32, 47, 19, 19, 26, 23, 29, 55, 59, 58, 54, 35, 34, 64, 24, 42, 42, 29]\n",
      "[5, 0, 1, 0, 2, 3, 1, 3, 3, 3, 2, 4, 1, 0, 0, 2, 0, 0, 2, 0, 0, 0, 3, 0, 2, 1, 0, 1, 0, 2, 3, 0, 0, 0, 0, 2, 2, 0, 1, 0, 1, 1, 4, 3, 1, 3, 0, 0, 1, 0, 3, 2, 0, 0, 2, 0, 2, 0, 0, 4, 0, 0, 0, 1, 4, 2, 0, 2, 0, 0, 1, 0, 3, 2, 1, 1, 3, 3, 1, 2, 1, 1, 0, 1, 0, 1, 0, 0, 1, 5, 2, 2, 0, 1, 0, 0, 0, 1, 1, 0, 2, 0, 1, 2, 2, 2, 5, 2, 0, 1, 2, 0, 0, 0, 0, 0, 0, 1, 0, 1, 3, 0, 0, 2, 1, 2, 1, 2, 1, 1, 1, 0, 0, 2, 0, 1, 1, 3, 1, 1, 0, 1, 0, 1, 3, 1, 3, 0, 0, 0, 3, 0, 0, 0, 2, 3, 0, 1, 0, 1, 1, 1, 1, 3, 0, 0, 0, 0, 1, 3, 0, 2, 2, 0, 0, 0, 1, 3, 2, 0, 2, 3, 2, 1, 0, 0, 0, 0, 1, 0, 2, 3, 1, 0, 2, 2, 0, 0, 2, 1, 3, 0, 1, 2, 0, 0, 0, 1, 1, 2, 0, 0, 1, 0, 5, 3, 1, 0, 2, 1, 0, 1, 2, 0, 1, 0, 0, 2, 0, 2, 0, 0, 0, 1, 0, 5, 1, 0, 1, 0, 1, 3, 2, 1, 0, 0, 3, 1, 0, 0, 2, 1, 2, 3, 2, 2, 1, 2, 1, 0, 3, 3, 0, 2, 3, 0, 1, 0, 1, 3, 1, 0, 1, 2, 3, 2, 0, 0, 0, 1, 2, 0, 0, 0, 1, 0, 0, 1, 3, 1, 0, 0, 3, 1, 0, 2, 2, 3, 0, 1, 0, 0, 1, 1, 0, 3, 1, 3, 3, 0, 2, 2, 0, 1, 1, 2, 1, 1, 0, 1, 0, 0, 0, 0, 0, 2, 0, 2, 3, 3, 3, 0, 0, 0, 2, 0, 1, 1, 1, 0, 2, 2, 2, 0, 0, 0, 0, 1, 2, 2, 0, 0, 0, 0, 0, 1, 0, 0, 0, 3, 1, 0, 1, 3, 1, 2, 2, 0, 2, 0, 1, 0, 0, 1, 0, 0, 3, 3, 0, 0, 2, 1, 0, 0, 0, 2, 2, 1, 1, 3, 2, 0, 1, 3, 0, 1, 0, 0, 0, 0, 0, 3, 3, 3, 0, 3, 1, 0, 0, 3, 3, 1, 2, 1, 1, 1, 1, 0, 2, 1, 3, 0, 4, 3, 3, 2, 1, 0, 3, 2, 4, 2, 0, 1, 1, 3, 0, 2, 2, 2, 1, 1, 0, 3, 0, 0, 1, 3, 3, 3, 2, 2, 0, 2, 1, 1, 2, 0, 0, 1, 3, 0, 2, 2, 0, 1, 0, 0, 0, 5, 1, 0, 3, 2, 1, 5, 3, 0, 1, 3, 1, 2, 0, 0, 0, 0, 3, 2, 4, 1, 0, 0, 2, 2, 0, 1, 0, 3, 1, 2, 1, 0, 0, 3, 2, 0, 0, 0, 0, 2, 2, 1, 0, 0, 2, 0, 0, 2, 0, 0, 1, 1, 0, 0, 4, 1, 5, 3, 0, 0, 1, 0, 1, 3, 0, 2, 0, 0, 1, 2, 1, 0, 1, 1, 1, 0, 0, 2, 0, 2, 2, 3, 3, 3, 1, 0, 0, 0, 0, 1, 0, 0, 1, 2, 0, 3, 1, 5, 0, 0, 0, 2, 0, 0, 2, 0, 2, 3, 1, 1, 1, 2, 1, 4, 0, 2, 0, 0, 0, 3, 3, 2, 0, 0, 0, 1, 0, 0, 1, 1, 3, 0, 1, 2, 0, 1, 0, 0, 0, 0, 0, 1, 0, 1, 1, 0, 2, 3, 2, 2, 1, 0, 0, 2, 5, 3, 0, 3, 1, 0, 2, 2, 1, 2, 1, 2, 2, 2, 0, 0, 0, 3, 3, 0, 0, 0, 3, 1, 0, 4, 1, 2, 0, 3, 1, 2, 0, 0, 0, 1, 1, 0, 0, 0, 0, 1, 1, 0, 1, 2, 1, 3, 0, 0, 0, 0, 0, 0, 1, 0, 0, 0, 0, 1, 0, 3, 5, 0, 0, 1, 1, 0, 2, 2, 1, 0, 3, 3, 0, 0, 2, 2, 0, 1, 0, 2, 0, 0, 2, 1, 0, 1, 3, 0, 0, 3, 3, 0, 2, 1, 0, 0, 0, 0, 1, 2, 0, 1, 3, 0, 2, 0, 1, 2, 0, 2, 2, 4, 0, 3, 0, 0, 3, 3, 1, 1, 0, 2, 0, 0, 3, 4, 0, 1, 5, 2, 0, 0, 1, 0, 3, 1, 0, 1, 2, 1, 1, 2, 0, 3, 0, 2, 2, 3, 5, 4, 0, 2, 0, 2, 1, 0, 4, 0, 1, 3, 0, 1, 0, 1, 3, 1, 2, 1, 1, 1, 1, 0, 1, 0, 2, 0, 0, 0, 2, 0, 0, 0, 4, 2, 2, 0, 2, 2, 3, 1, 0, 0, 2, 1, 0, 2, 0, 0, 1, 1, 2, 1, 0, 0, 0, 2, 0, 0, 0, 0, 0, 1, 2, 2, 1, 3, 0, 2, 2, 2, 0, 0, 1, 0, 0, 0, 2, 1, 1, 0, 0, 1, 5, 0, 0, 1, 1, 1, 2, 2, 1, 3, 0, 0, 0, 1, 2, 0, 1, 1, 0, 1, 0, 3, 2, 0, 4, 0, 1, 2, 2, 0, 1, 0, 0, 0, 1, 0, 0, 3, 0, 2, 2, 0, 0, 1, 2, 0, 0, 0, 0, 0, 2, 2, 3, 3, 0, 1, 0, 3, 3, 1, 3, 0, 0, 0, 0, 0, 1, 2, 0, 0, 2, 3, 0, 0, 0, 1, 1, 0, 0, 1, 0, 2, 0, 0, 3, 0, 1, 1, 1, 1, 0, 0, 0, 2, 1, 2, 1, 3, 3, 0, 3, 2, 1, 2, 0, 0, 1, 1, 1, 0, 0, 2, 2, 3, 5, 2, 0, 1, 0, 0, 3, 2, 0, 0, 0, 3, 1, 1, 0, 3, 0, 0, 0, 0, 0, 2, 1, 0, 2, 2, 1, 1, 1, 1, 1, 3, 2, 0, 1, 0, 0, 0, 0, 0, 1, 0, 3, 3, 0, 0, 0, 0, 1, 3, 0, 0, 0, 2, 0, 0, 4, 0, 1, 0, 0, 4, 0, 0, 1, 1, 0, 0, 0, 0, 3, 0, 0, 1, 1, 0, 2, 0, 0, 1, 1, 0, 0, 1, 4, 3, 2, 1, 3, 0, 2, 1, 2, 0, 2, 1, 3, 1, 1, 1, 2, 3, 0, 0, 0, 3, 0, 1, 2, 0, 0, 5, 0, 1, 0, 3, 0, 0, 0, 2, 1, 0, 0, 1, 0, 1, 1, 3, 1, 2, 3, 0, 0, 1, 0, 2, 1, 2, 3, 0, 2, 2, 5, 1, 0, 3, 1, 0, 1, 1, 3, 0, 0, 0, 1, 2, 0, 2, 2, 2, 1, 2, 1, 0, 2, 3, 0, 2, 3, 1, 0, 0, 3, 0, 0, 0, 2, 2, 0, 1, 3, 1, 2, 0, 0, 1, 0, 1, 0, 1, 2, 3, 0, 0, 1, 4, 0, 0, 2, 2, 0, 0, 0, 1, 0, 0, 2, 0, 0, 2, 5, 1, 3, 0, 2, 0, 1, 1, 1, 0, 1, 1, 2, 1, 2, 1, 0, 0, 2, 0, 0, 1, 0, 0, 1, 4, 0, 0, 0, 3, 2, 0, 0, 1, 0, 0, 0, 0, 0, 0, 0, 3, 2, 2, 0, 3, 4, 0, 0, 0, 1, 0, 0, 2, 1, 0, 1, 3, 1, 0, 0, 0, 1, 0, 1, 3, 1, 0, 0, 0, 0, 3, 1, 0, 0, 0, 0, 4, 1, 3, 1, 1, 2, 3, 2, 0, 3, 0, 2]\n",
      "bmi  [23.580699999999997, 22.945350000000005, 16.31055, 24.1142, 37.0249, 36.03065000000001, 27.2085, 33.271, 30.7781, 31.23885, 34.6775, 33.077000000000005, 21.470950000000002, 29.391, 23.570999999999998, 25.802000000000003, 32.7569, 25.026, 33.756, 38.3053, 25.249100000000002, 26.078450000000004, 34.241, 29.294, 22.300299999999996, 35.569900000000004, 25.607999999999997, 25.3946, 37.131600000000006, 28.915699999999998, 18.33785, 25.414, 20.273, 24.832000000000004, 24.444000000000003, 24.23545, 25.899, 34.4641, 48.86860000000001, 26.907799999999998, 26.99995, 27.2085, 38.518699999999995, 29.58015, 39.9931, 28.9351, 34.357400000000005, 30.167, 32.689, 32.397999999999996, 32.1167, 29.7693, 31.816, 26.995099999999997, 30.7296, 31.6996, 28.3822, 40.08525, 29.856600000000004, 32.689, 39.867000000000004, 34.532000000000004, 22.76105, 29.856600000000004, 28.712000000000003, 21.747400000000003, 30.7781, 24.832000000000004, 32.5435, 30.6229, 35.7542, 37.8785, 29.94875, 42.03980000000001, 26.0348, 33.5426, 24.347, 27.3152, 35.9385, 31.1467, 41.613, 33.72690000000001, 23.580699999999997, 27.18425, 34.74055, 23.406100000000002, 33.367999999999995, 30.685950000000002, 22.940499999999997, 23.182999999999996, 29.764449999999997, 35.211, 29.0224, 34.9976, 32.107, 28.5956, 24.327599999999997, 28.13, 42.389, 20.757999999999996, 34.726, 33.72690000000001, 39.34805, 30.8363, 33.5426, 32.8054, 17.751, 31.05455, 17.784950000000002, 32.8054, 27.18425, 30.133050000000004, 28.906, 19.9044, 27.2085, 31.5832, 30.133050000000004, 46.3078, 28.275499999999997, 24.696199999999997, 31.976050000000004, 36.181, 24.541, 17.416349999999998, 33.2904, 24.967799999999997, 34.6775, 28.809, 34.9976, 29.856600000000004, 34.92, 21.83955, 28.750799999999998, 32.16035, 37.2286, 25.0648, 31.423150000000007, 27.829300000000003, 31.816, 24.5119, 34.047000000000004, 21.286649999999998, 27.737149999999996, 43.4269, 32.8636, 31.234, 35.5311, 23.406100000000002, 32.8636, 28.712000000000003, 23.667999999999996, 19.259349999999998, 32.528949999999995, 47.58820000000001, 16.7713, 25.122999999999998, 22.4846, 27.18425, 33.8239, 27.460699999999996, 17.324199999999998, 29.02725, 26.81565, 20.641600000000004, 38.97945, 30.0894, 30.7296, 38.945499999999996, 35.114000000000004, 27.737149999999996, 23.5904, 31.156399999999998, 31.331, 26.092999999999996, 32.89755, 22.945350000000005, 21.10235, 29.0224, 35.987, 26.384, 36.86, 27.16, 36.384699999999995, 38.24225, 22.504, 27.839000000000002, 29.0224, 23.687400000000004, 32.9703, 29.6723, 25.3946, 32.01, 28.915699999999998, 25.714700000000004, 32.344649999999994, 31.234, 30.2252, 22.697999999999997, 35.987, 20.660999999999998, 24.1433, 26.772000000000002, 25.9863, 23.86685, 34.241, 24.696199999999997, 26.869, 27.635299999999997, 32.8054, 29.294, 22.300299999999996, 32.6502, 27.548, 31.791749999999997, 35.89, 35.7542, 36.1713, 25.89415, 32.301, 21.34, 27.645, 32.89755, 44.523, 17.266000000000002, 26.907799999999998, 30.7781, 37.136449999999996, 37.7718, 21.5631, 36.9182, 30.962400000000002, 21.631, 32.71325, 30.962400000000002, 22.989, 29.21155, 32.7569, 30.962400000000002, 22.20815, 21.10235, 21.631, 27.2764, 33.659, 32.4368, 34.4641, 25.0648, 29.856600000000004, 29.002999999999997, 34.144, 21.470950000000002, 35.66205, 31.525, 36.384699999999995, 33.450450000000004, 26.99995, 24.051150000000003, 26.723499999999998, 30.7781, 18.6143, 28.0136, 26.869, 28.809, 29.585, 36.399249999999995, 35.017, 22.407000000000004, 37.665099999999995, 25.802000000000003, 35.987, 31.622000000000003, 29.1, 21.0102, 19.206000000000003, 31.791749999999997, 21.1945, 31.369800000000005, 29.235799999999998, 40.652699999999996, 38.315, 26.99995, 28.032999999999998, 29.39585, 29.973, 22.300299999999996, 35.017, 22.023849999999996, 32.4368, 34.144, 33.3583, 41.128, 27.354, 22.853199999999998, 36.58355, 28.0136, 22.5137, 30.8363, 30.8363, 29.875999999999998, 42.098, 16.878, 28.29005, 28.227000000000004, 35.9579, 32.786, 34.37195, 22.116, 26.888399999999997, 22.31, 18.43, 34.18765, 29.875999999999998, 33.1837, 32.01, 39.9058, 25.026, 31.1467, 26.81565, 33.756, 31.23885, 27.548, 23.31395, 20.4573, 35.84635, 39.158899999999996, 44.81400000000001, 18.89075, 22.945350000000005, 25.899, 35.29345, 29.21155, 29.21155, 26.907799999999998, 20.825899999999997, 29.1194, 31.331, 45.9877, 23.774700000000003, 26.5392, 25.026, 32.6502, 28.0136, 35.9385, 27.645, 33.450450000000004, 36.1713, 24.5119, 33.3971, 24.541, 33.174, 42.8934, 26.384, 31.4765, 39.071600000000004, 21.1945, 33.367999999999995, 26.81565, 27.101800000000004, 39.71665, 23.31395, 32.330099999999995, 25.2879, 28.032999999999998, 31.6996, 28.906, 34.18765, 42.573299999999996, 26.81565, 21.378800000000002, 35.9579, 27.460699999999996, 25.15695, 21.747400000000003, 33.3971, 26.772000000000002, 24.696199999999997, 25.15695, 29.197000000000003, 24.604049999999997, 27.645, 27.460699999999996, 19.99655, 36.4914, 15.481200000000001, 29.21155, 34.144, 21.470950000000002, 34.648399999999995, 20.273, 23.2218, 19.62795, 34.823, 19.982, 21.9317, 24.051150000000003, 30.1961, 30.870250000000002, 38.6254, 19.259349999999998, 29.58015, 33.3583, 37.98519999999999, 26.995099999999997, 23.687400000000004, 36.9182, 27.737149999999996, 42.573299999999996, 30.07, 36.598099999999995, 28.750799999999998, 22.945350000000005, 40.63815, 29.0224, 26.1706, 26.5392, 26.287000000000003, 31.331, 21.1945, 30.870250000000002, 34.2507, 19.497, 34.55625, 26.5392, 39.9931, 30.0894, 32.89755, 37.927, 24.78835, 39.071600000000004, 40.08525, 36.0646, 27.092100000000002, 28.47435, 30.962400000000002, 30.516199999999998, 35.66205, 19.7395, 25.0648, 33.077000000000005, 20.379700000000003, 23.0375, 36.3071, 26.26275, 25.6177, 25.525550000000003, 31.05455, 32.2525, 28.0621, 43.35900000000001, 41.079499999999996, 31.791749999999997, 36.1713, 30.870250000000002, 35.104299999999995, 23.959, 29.6723, 23.377000000000002, 26.81565, 21.5631, 26.3549, 22.945350000000005, 35.9385, 34.7842, 44.1738, 32.068200000000004, 43.402649999999994, 34.144, 26.907799999999998, 29.6723, 35.104299999999995, 27.742000000000004, 34.144, 34.4641, 27.829300000000003, 21.2333, 29.129100000000005, 32.4368, 34.74055, 24.41975, 32.6211, 27.742000000000004, 27.4219, 37.2286, 38.150099999999995, 32.107, 33.077000000000005, 33.63475, 30.040899999999997, 25.34125, 27.92145, 28.0621, 33.3971, 30.133050000000004, 28.809, 33.756, 24.41975, 23.406100000000002, 25.34125, 38.79515, 36.598099999999995, 28.842950000000002, 29.197000000000003, 32.16035, 29.487999999999996, 28.3822, 30.652, 28.105750000000004, 28.809, 28.0621, 32.2525, 34.241, 32.01, 27.460699999999996, 20.918050000000004, 51.536100000000005, 26.99995, 30.0894, 34.648399999999995, 31.912999999999997, 29.764449999999997, 33.077000000000005, 25.525550000000003, 27.552850000000003, 25.433399999999995, 26.772000000000002, 27.36855, 23.5904, 24.7544, 29.487999999999996, 33.562000000000005, 37.98519999999999, 29.294, 24.327599999999997, 16.863450000000004, 26.723499999999998, 22.4846, 30.1961, 33.756, 29.585, 32.689, 21.83955, 28.47435, 40.8661, 25.6177, 35.987, 31.331, 33.367999999999995, 16.7713, 22.76105, 39.0522, 23.774700000000003, 31.622000000000003, 23.5904, 26.5392, 37.665099999999995, 25.433399999999995, 30.501649999999998, 29.487999999999996, 32.01, 38.412000000000006, 28.488899999999997, 22.20815, 30.31735, 25.249100000000002, 24.832000000000004, 35.7445, 29.391, 28.750799999999998, 41.128, 36.763, 36.278, 26.81565, 25.714700000000004, 21.83955, 25.249100000000002, 46.172, 28.9351, 26.995099999999997, 26.907799999999998, 27.5286, 29.21155, 27.839000000000002, 23.5904, 27.2764, 40.225899999999996, 24.41975, 31.1467, 27.460699999999996, 27.92145, 27.92145, 25.607999999999997, 35.2013, 29.6723, 30.5938, 38.3344, 29.1, 26.675, 32.330099999999995, 29.002999999999997, 30.685950000000002, 29.0224, 45.1341, 29.764449999999997, 25.89415, 25.0648, 24.25, 27.101800000000004, 28.0136, 25.249100000000002, 32.107, 19.982, 30.458, 22.1936, 27.092100000000002, 31.6899, 34.832699999999996, 26.287000000000003, 30.870250000000002, 31.719, 41.82639999999999, 29.58015, 28.324, 30.4095, 29.487999999999996, 26.44705, 23.1539, 23.86685, 29.94875, 41.651799999999994, 23.3673, 37.0443, 35.5311, 28.615, 33.174, 36.952149999999996, 29.875999999999998, 18.52215, 29.235799999999998, 22.8338, 27.737149999999996, 29.391, 42.68, 33.081849999999996, 21.83955, 34.832699999999996, 26.723499999999998, 25.6177, 27.092100000000002, 37.7718, 25.607999999999997, 28.517999999999997, 25.0648, 27.839000000000002, 32.9703, 35.987, 34.6775, 25.9863, 24.0075, 27.092100000000002, 27.645, 30.1961, 26.631349999999998, 32.1167, 20.825899999999997, 22.116, 24.637999999999998, 25.122999999999998, 27.460699999999996, 29.3425, 30.31735, 36.666, 26.675, 24.972649999999998, 29.94875, 31.816, 35.7445, 33.081849999999996, 22.5137, 27.9554, 35.569900000000004, 39.2559, 28.032999999999998, 24.327599999999997, 40.652699999999996, 46.09440000000001, 21.0102, 35.017, 33.2904, 22.39245, 32.344649999999994, 24.972649999999998, 38.6254, 40.652699999999996, 31.791749999999997, 24.220899999999997, 24.5119, 36.278, 19.44365, 20.4864, 28.105750000000004, 21.747400000000003, 28.9351, 23.31395, 34.74055, 31.369800000000005, 37.0249, 37.2383, 38.702999999999996, 23.959, 34.890899999999995, 35.424400000000006, 20.176000000000002, 18.9829, 33.9112, 39.285, 31.1467, 35.502, 29.487999999999996, 24.880499999999998, 33.72690000000001, 27.18425, 34.55625, 30.652, 28.0136, 31.976050000000004, 32.71325, 31.791749999999997, 29.6723, 28.7023, 26.675, 24.327599999999997, 32.397999999999996, 37.131600000000006, 21.10235, 35.84635, 19.9044, 29.294, 37.442, 28.421, 20.73375, 29.875999999999998, 29.875999999999998, 32.344649999999994, 36.3071, 26.995099999999997, 26.078450000000004, 21.83955, 30.2252, 32.6211, 25.6177, 19.788, 23.129649999999998, 28.750799999999998, 38.509, 32.330099999999995, 23.570999999999998, 29.002999999999997, 40.439299999999996, 29.585, 24.604049999999997, 35.66205, 29.875999999999998, 26.287000000000003, 37.0249, 33.081849999999996, 16.67915, 36.952149999999996, 35.211, 31.331, 35.47775, 33.2904, 33.819050000000004, 31.331, 31.331, 37.8785, 30.942999999999998, 23.682550000000003, 25.34125, 28.906, 30.302799999999998, 31.331, 25.802000000000003, 26.888399999999997, 30.4095, 30.458, 29.7693, 37.2383, 25.802000000000003, 28.9351, 28.906, 20.855, 33.756, 25.821399999999997, 29.0224, 40.8661, 35.10915, 26.577999999999996, 31.331, 23.498250000000002, 31.423150000000007, 24.41975, 26.675, 23.794100000000004, 29.4492, 24.78835, 22.4846, 28.842950000000002, 29.875999999999998, 34.7842, 32.6502, 16.7713, 33.756, 34.9976, 25.6177, 24.604049999999997, 25.074500000000004, 31.263099999999994, 27.2764, 24.327599999999997, 40.8661, 23.862000000000002, 19.351499999999998, 19.351499999999998, 35.211, 32.204, 29.129100000000005, 26.287000000000003, 34.435, 33.081849999999996, 35.7445, 30.1961, 31.719, 31.234, 34.890899999999995, 34.095499999999994, 28.915699999999998, 31.976050000000004, 23.0375, 31.423150000000007, 24.23545, 26.577999999999996, 28.5956, 23.2606, 32.330099999999995, 22.023849999999996, 23.86685, 33.26615, 40.225899999999996, 38.97945, 28.0136, 29.875999999999998, 34.92, 18.042, 16.31055, 30.458, 38.412000000000006, 40.546, 29.02725, 30.501649999999998, 27.645, 33.465, 28.5665, 37.442, 25.15695, 33.174, 19.351499999999998, 28.842950000000002, 21.0102, 33.367999999999995, 34.9976, 35.89, 25.802000000000003, 30.5938, 23.2606, 29.3037, 32.4368, 31.515300000000003, 32.8054, 38.509, 39.26559999999999, 34.890899999999995, 41.613, 31.1467, 32.6211, 35.7542, 40.177400000000006, 32.528949999999995, 25.525550000000003, 31.883899999999997, 40.08525, 24.051150000000003, 31.6996, 30.4095, 35.9579, 26.078450000000004, 26.869, 29.94875, 36.278, 21.553399999999996, 33.659, 36.76785, 31.791749999999997, 26.675, 26.631349999999998, 26.772000000000002, 21.049, 28.032999999999998, 26.723499999999998, 26.675, 21.922000000000004, 38.217999999999996, 31.60745, 20.825899999999997, 38.945499999999996, 31.04, 26.772000000000002, 32.6502, 37.733, 27.839000000000002, 31.331, 19.206000000000003, 25.5013, 40.225899999999996, 27.839000000000002, 34.4641, 27.936, 21.126600000000003, 22.0869, 25.821399999999997, 23.862000000000002, 32.16035, 34.337999999999994, 32.89755, 28.712000000000003, 33.1837, 33.1837, 22.39245, 21.437, 23.5904, 27.36855, 25.026, 28.0136, 23.5904, 22.668899999999997, 28.9351, 33.9112, 22.892000000000003, 34.2507, 28.488899999999997, 36.9182, 27.18425, 25.9281, 26.19, 22.5137, 22.4846, 34.726, 38.606, 27.829300000000003, 28.1979, 26.888399999999997, 35.8512, 30.4095, 35.569900000000004, 28.809, 23.5904, 23.2606, 30.4095, 19.206000000000003, 35.7445, 33.852999999999994, 44.0671, 31.6996, 22.576749999999997, 25.026, 29.294, 25.89415, 30.2252, 19.812250000000002, 36.3071, 26.461600000000004, 22.697999999999997, 27.737149999999996, 35.3856, 30.4095, 33.077000000000005, 40.8661, 24.25, 21.10235, 29.58015, 23.959, 36.86, 23.129649999999998, 30.2252, 30.870250000000002, 38.0919, 25.607999999999997, 24.696199999999997, 17.23205, 29.6723, 33.562000000000005, 26.44705, 23.959, 29.585, 28.105750000000004, 30.6229, 24.541, 21.9317, 43.9604, 30.8363, 34.629, 43.53360000000001, 28.1979, 34.0373, 35.84635, 32.301, 27.36855, 31.5832, 30.31735, 38.61085, 22.4846, 21.146, 23.406100000000002, 29.3037, 26.99995, 42.8934, 37.2383, 39.34805, 33.1837, 25.6177, 28.1688, 32.330099999999995, 37.98519999999999, 18.721, 32.397999999999996, 32.6502, 36.9182, 35.3856, 38.3053, 38.42655, 29.1194, 25.026, 32.107, 35.104299999999995, 32.01, 17.784950000000002, 26.5392, 31.427999999999997, 24.051150000000003, 17.5085, 33.9112, 29.21155, 38.7321, 36.9182, 32.2525, 22.601, 41.7197, 36.4914, 32.330099999999995, 37.8785, 30.7781, 41.4675, 27.257, 27.92145, 41.3996, 26.7817, 22.989, 33.077000000000005, 32.344649999999994, 41.1862, 31.331, 30.942999999999998, 21.126600000000003, 29.129100000000005, 30.962400000000002, 24.929000000000002, 26.0348, 27.92145, 22.5137, 25.996, 30.264, 32.01, 29.94875, 34.4641, 29.94875, 23.498250000000002, 39.9058, 22.5137, 38.024, 23.570999999999998, 26.480999999999998, 28.13, 32.8636, 22.853199999999998, 29.3037, 32.528949999999995, 26.81565, 51.0026, 23.687400000000004, 28.65865, 44.707300000000004, 22.023849999999996, 27.737149999999996, 27.742000000000004, 39.34805, 35.84635, 40.9728, 17.945, 26.1706, 36.0646, 19.351499999999998, 19.5261, 28.0136, 23.9008, 39.16375, 39.158899999999996, 45.3475, 28.3822, 38.6254, 31.423150000000007, 32.6211, 27.063, 27.460699999999996, 34.74055, 21.9317, 35.47775, 39.6924, 28.421, 24.696199999999997, 36.952149999999996, 34.241, 23.086, 40.546, 34.144, 25.9281, 45.1341, 33.756, 23.862000000000002, 24.972649999999998, 30.4095, 25.122999999999998, 24.541, 19.351499999999998, 23.86685, 23.047200000000004, 34.7842, 21.470950000000002, 41.37535, 39.0522, 27.451, 33.3971, 32.330099999999995, 36.9182, 27.451, 28.032999999999998, 34.144, 31.912999999999997, 31.1467, 27.460699999999996, 38.315, 28.712000000000003, 31.1467, 33.819050000000004, 32.16035, 26.907799999999998, 29.973, 26.248199999999997, 32.1167, 26.5392, 27.2764, 27.16, 24.967799999999997, 22.892000000000003, 22.668899999999997, 25.709850000000003, 29.39585, 37.9658, 28.275499999999997, 27.257, 34.92485, 19.62795, 17.784950000000002, 26.3549, 46.6279, 28.750799999999998, 27.552850000000003, 19.351499999999998, 24.967799999999997, 35.569900000000004, 27.36855, 30.07, 25.34125, 29.294, 33.077000000000005, 19.62795, 24.696199999999997, 23.0375, 34.890899999999995, 36.21495, 22.6204, 32.1167, 30.846, 23.129649999999998, 25.249100000000002, 36.9182, 20.757999999999996, 19.62795, 39.091, 45.1341, 24.929000000000002, 26.965999999999998, 30.555, 31.049699999999998, 28.9351, 37.505050000000004, 32.495, 19.691000000000003, 25.525550000000003, 24.967799999999997, 35.7445, 37.665099999999995, 25.525550000000003, 29.6723, 28.105750000000004, 26.888399999999997, 39.5857, 35.3856, 33.174, 24.41975, 29.3037, 29.94875, 37.131600000000006, 28.105750000000004, 26.1706, 35.29345, 35.114000000000004, 35.987, 31.7966, 30.4095, 26.078450000000004, 27.4219, 30.133050000000004, 31.423150000000007, 20.078999999999997, 28.842950000000002, 21.922000000000004, 36.21495, 20.1663, 32.6211, 30.942999999999998, 32.344649999999994, 29.1194, 32.9897, 28.915699999999998, 25.802000000000003, 32.16035, 31.331, 31.912999999999997, 31.515300000000003, 21.9317, 23.774700000000003, 24.832000000000004, 25.996, 31.137000000000004, 31.049699999999998, 31.331, 34.7842, 36.86, 30.361, 29.02725, 27.460699999999996, 24.1142, 36.1713]\n"
     ]
    }
   ],
   "source": [
    "charges_list = df['charges'].tolist()\n",
    "  \n",
    "# show the list\n",
    "print('Charges ',charges_list)\n",
    "age_list=df['age'].tolist()\n",
    "print('Age ',age_list)\n",
    "children_list=df['children'].tolist()\n",
    "print(children_list)\n",
    "bmi_list=df['bmi'].tolist()\n",
    "print('bmi ',bmi_list)"
   ]
  },
  {
   "cell_type": "code",
   "execution_count": 65,
   "metadata": {
    "colab": {
     "base_uri": "https://localhost:8080/",
     "height": 361
    },
    "executionInfo": {
     "elapsed": 944,
     "status": "ok",
     "timestamp": 1679767644697,
     "user": {
      "displayName": "Faisal Osman",
      "userId": "03675104962384198116"
     },
     "user_tz": -360
    },
    "id": "OJ0pqdVdPYR5",
    "outputId": "41a50d03-8b77-4bbe-ea0e-541ee7f119d1"
   },
   "outputs": [
    {
     "data": {
      "text/plain": [
       "Text(0.5, 1.0, 'Age vs charges')"
      ]
     },
     "execution_count": 65,
     "metadata": {},
     "output_type": "execute_result"
    },
    {
     "data": {
      "image/png": "[encoded data removed]",
      "text/plain": [
       "<Figure size 648x360 with 1 Axes>"
      ]
     },
     "metadata": {
      "needs_background": "light"
     },
     "output_type": "display_data"
    }
   ],
   "source": [
    "# First line\n",
    "plt.plot(age_list, charges_list, 'b-x', linewidth=2, markersize=20, markeredgewidth=4, markeredgecolor='navy')\n",
    "\n",
    "\n",
    "\n",
    "# Title\n",
    "plt.title('Age vs charges')\n",
    "\n"
   ]
  },
  {
   "cell_type": "code",
   "execution_count": 66,
   "metadata": {
    "colab": {
     "base_uri": "https://localhost:8080/",
     "height": 361
    },
    "executionInfo": {
     "elapsed": 31,
     "status": "ok",
     "timestamp": 1679767645742,
     "user": {
      "displayName": "Faisal Osman",
      "userId": "03675104962384198116"
     },
     "user_tz": -360
    },
    "id": "6PBmM-jhUlQl",
    "outputId": "0522a632-5310-43b1-9f6b-e1cdb2efd72f"
   },
   "outputs": [
    {
     "data": {
      "text/plain": [
       "Text(0.5, 1.0, 'Bmi vs charges')"
      ]
     },
     "execution_count": 66,
     "metadata": {},
     "output_type": "execute_result"
    },
    {
     "data": {
      "image/png": "[encoded data removed]",
      "text/plain": [
       "<Figure size 648x360 with 1 Axes>"
      ]
     },
     "metadata": {
      "needs_background": "light"
     },
     "output_type": "display_data"
    }
   ],
   "source": [
    "# First line\n",
    "plt.plot(bmi_list, charges_list, 'b-x', linewidth=2, markersize=20, markeredgewidth=4, markeredgecolor='navy')\n",
    "\n",
    "\n",
    "\n",
    "# Title\n",
    "plt.title('Bmi vs charges')"
   ]
  },
  {
   "cell_type": "code",
   "execution_count": 67,
   "metadata": {
    "colab": {
     "base_uri": "https://localhost:8080/",
     "height": 361
    },
    "executionInfo": {
     "elapsed": 1159,
     "status": "ok",
     "timestamp": 1679767646881,
     "user": {
      "displayName": "Faisal Osman",
      "userId": "03675104962384198116"
     },
     "user_tz": -360
    },
    "id": "fjm5fDB3UrTG",
    "outputId": "ab592cf0-5143-40d9-879b-68833aad7996"
   },
   "outputs": [
    {
     "data": {
      "text/plain": [
       "Text(0.5, 1.0, 'Children vs charges')"
      ]
     },
     "execution_count": 67,
     "metadata": {},
     "output_type": "execute_result"
    },
    {
     "data": {
      "image/png": "[encoded data removed]",
      "text/plain": [
       "<Figure size 648x360 with 1 Axes>"
      ]
     },
     "metadata": {
      "needs_background": "light"
     },
     "output_type": "display_data"
    }
   ],
   "source": [
    "# First line\n",
    "plt.plot(children_list, charges_list, 'b-x', linewidth=2, markersize=20, markeredgewidth=4, markeredgecolor='navy')\n",
    "\n",
    "\n",
    "\n",
    "# Title\n",
    "plt.title('Children vs charges')"
   ]
  },
  {
   "cell_type": "markdown",
   "metadata": {
    "id": "4_bmcfe5dd5N"
   },
   "source": [
    "Remember to commit your notebook to Jovian after every step, so that you don't lose your work."
   ]
  },
  {
   "cell_type": "code",
   "execution_count": 68,
   "metadata": {
    "executionInfo": {
     "elapsed": 3440,
     "status": "ok",
     "timestamp": 1679767650280,
     "user": {
      "displayName": "Faisal Osman",
      "userId": "03675104962384198116"
     },
     "user_tz": -360
    },
    "id": "13ruHDFZdd5O"
   },
   "outputs": [],
   "source": [
    "!pip install jovian --upgrade -q"
   ]
  },
  {
   "cell_type": "code",
   "execution_count": 69,
   "metadata": {
    "executionInfo": {
     "elapsed": 23,
     "status": "ok",
     "timestamp": 1679767650281,
     "user": {
      "displayName": "Faisal Osman",
      "userId": "03675104962384198116"
     },
     "user_tz": -360
    },
    "id": "XmtuVcmvdd5O"
   },
   "outputs": [],
   "source": [
    "import jovian"
   ]
  },
  {
   "cell_type": "code",
   "execution_count": 70,
   "metadata": {
    "colab": {
     "base_uri": "https://localhost:8080/"
    },
    "executionInfo": {
     "elapsed": 22,
     "status": "ok",
     "timestamp": 1679767650281,
     "user": {
      "displayName": "Faisal Osman",
      "userId": "03675104962384198116"
     },
     "user_tz": -360
    },
    "id": "uN8tP4Cydd5O",
    "outputId": "84f00e58-a634-4a20-847e-ce6420d4a416"
   },
   "outputs": [
    {
     "name": "stdout",
     "output_type": "stream",
     "text": [
      "[jovian] Detected Colab notebook...\u001b[0m\n",
      "[jovian] jovian.commit() is no longer required on Google Colab. If you ran this notebook from Jovian, \n",
      "then just save this file in Colab using Ctrl+S/Cmd+S and it will be updated on Jovian. \n",
      "Also, you can also delete this cell, it's no longer necessary.\u001b[0m\n"
     ]
    }
   ],
   "source": [
    "jovian.commit()"
   ]
  },
  {
   "cell_type": "markdown",
   "metadata": {
    "id": "NEr-uvZhdd5O"
   },
   "source": [
    "## Step 2: Prepare the dataset for training\n",
    "\n",
    "We need to convert the data from the Pandas dataframe into a PyTorch tensors for training. To do this, the first step is to convert it numpy arrays. If you've filled out `input_cols`, `categorial_cols` and `output_cols` correctly, this following function will perform the conversion to numpy arrays."
   ]
  },
  {
   "cell_type": "code",
   "execution_count": 71,
   "metadata": {
    "executionInfo": {
     "elapsed": 16,
     "status": "ok",
     "timestamp": 1679767650282,
     "user": {
      "displayName": "Faisal Osman",
      "userId": "03675104962384198116"
     },
     "user_tz": -360
    },
    "id": "JMg_ojgPdd5O"
   },
   "outputs": [],
   "source": [
    "def dataframe_to_arrays(dataframe):\n",
    "    # Make a copy of the original dataframe\n",
    "    dataframe1 = dataframe.copy(deep=True)\n",
    "    # Convert non-numeric categorical columns to numbers\n",
    "    for col in categorical_cols:\n",
    "        dataframe1[col] = dataframe1[col].astype('category').cat.codes\n",
    "    # Extract input & outupts as numpy arrays\n",
    "    inputs_array = dataframe1[input_cols].to_numpy()\n",
    "    targets_array = dataframe1[output_cols].to_numpy()\n",
    "    return inputs_array, targets_array"
   ]
  },
  {
   "cell_type": "markdown",
   "metadata": {
    "id": "aEo9Glycdd5P"
   },
   "source": [
    "Read through the [Pandas documentation](https://pandas.pydata.org/pandas-docs/stable/user_guide/categorical.html) to understand how we're converting categorical variables into numbers."
   ]
  },
  {
   "cell_type": "code",
   "execution_count": 72,
   "metadata": {
    "colab": {
     "base_uri": "https://localhost:8080/"
    },
    "executionInfo": {
     "elapsed": 16,
     "status": "ok",
     "timestamp": 1679767650282,
     "user": {
      "displayName": "Faisal Osman",
      "userId": "03675104962384198116"
     },
     "user_tz": -360
    },
    "id": "_aTczaXUdd5P",
    "outputId": "270745eb-ace9-4a4a-f1f8-8ab87f6ccf82"
   },
   "outputs": [
    {
     "data": {
      "text/plain": [
       "(array([[45.     ,  1.     , 23.5807 ,  5.     ,  0.     ],\n",
       "        [59.     ,  0.     , 22.94535,  0.     ,  1.     ],\n",
       "        [21.     ,  0.     , 16.31055,  1.     ,  0.     ],\n",
       "        ...,\n",
       "        [42.     ,  1.     , 27.4607 ,  3.     ,  1.     ],\n",
       "        [42.     ,  1.     , 24.1142 ,  0.     ,  0.     ],\n",
       "        [29.     ,  1.     , 36.1713 ,  2.     ,  0.     ]]),\n",
       " array([[10278.309195 ],\n",
       "        [26962.7173725],\n",
       "        [ 3325.8286425],\n",
       "        ...,\n",
       "        [34426.8315195],\n",
       "        [ 6265.23177  ],\n",
       "        [ 4261.021905 ]]))"
      ]
     },
     "execution_count": 72,
     "metadata": {},
     "output_type": "execute_result"
    }
   ],
   "source": [
    "inputs_array, targets_array = dataframe_to_arrays(dataframe)\n",
    "inputs_array, targets_array"
   ]
  },
  {
   "cell_type": "markdown",
   "metadata": {
    "id": "Ub1c8EMydd5P"
   },
   "source": [
    "**Q6: Convert the numpy arrays `inputs_array` and `targets_array` into PyTorch tensors. Make sure that the data type is `torch.float32`.**"
   ]
  },
  {
   "cell_type": "code",
   "execution_count": 73,
   "metadata": {
    "executionInfo": {
     "elapsed": 6,
     "status": "ok",
     "timestamp": 1679767651472,
     "user": {
      "displayName": "Faisal Osman",
      "userId": "03675104962384198116"
     },
     "user_tz": -360
    },
    "id": "ZApB2NQ4dd5P"
   },
   "outputs": [],
   "source": [
    "inputs =  torch.Tensor(inputs_array)\n",
    "targets =  torch.Tensor(targets_array)"
   ]
  },
  {
   "cell_type": "code",
   "execution_count": 74,
   "metadata": {
    "colab": {
     "base_uri": "https://localhost:8080/"
    },
    "executionInfo": {
     "elapsed": 17,
     "status": "ok",
     "timestamp": 1679767655620,
     "user": {
      "displayName": "Faisal Osman",
      "userId": "03675104962384198116"
     },
     "user_tz": -360
    },
    "id": "oQ9-nAkMdd5P",
    "outputId": "39e0939c-994f-4ede-8bb7-a127d5a31400"
   },
   "outputs": [
    {
     "data": {
      "text/plain": [
       "(torch.float32, torch.float32)"
      ]
     },
     "execution_count": 74,
     "metadata": {},
     "output_type": "execute_result"
    }
   ],
   "source": [
    "inputs.dtype, targets.dtype"
   ]
  },
  {
   "cell_type": "markdown",
   "metadata": {
    "id": "CkiGtVpxdd5Q"
   },
   "source": [
    "Next, we need to create PyTorch datasets & data loaders for training & validation. We'll start by creating a `TensorDataset`."
   ]
  },
  {
   "cell_type": "code",
   "execution_count": 75,
   "metadata": {
    "executionInfo": {
     "elapsed": 9,
     "status": "ok",
     "timestamp": 1679767657132,
     "user": {
      "displayName": "Faisal Osman",
      "userId": "03675104962384198116"
     },
     "user_tz": -360
    },
    "id": "93lanisYdd5Q"
   },
   "outputs": [],
   "source": [
    "dataset = TensorDataset(inputs, targets)"
   ]
  },
  {
   "cell_type": "markdown",
   "metadata": {
    "id": "L88urRmXdd5Q"
   },
   "source": [
    "**Q7: Pick a number between `0.1` and `0.2` to determine the fraction of data that will be used for creating the validation set. Then use `random_split` to create training & validation datasets.**"
   ]
  },
  {
   "cell_type": "code",
   "execution_count": 76,
   "metadata": {
    "colab": {
     "base_uri": "https://localhost:8080/"
    },
    "executionInfo": {
     "elapsed": 4,
     "status": "ok",
     "timestamp": 1679767659578,
     "user": {
      "displayName": "Faisal Osman",
      "userId": "03675104962384198116"
     },
     "user_tz": -360
    },
    "id": "470umyjSdd5Q",
    "outputId": "7ee6e3a2-5d02-4b3a-ea35-6dab16d9cd15"
   },
   "outputs": [
    {
     "name": "stdout",
     "output_type": "stream",
     "text": [
      "241\n",
      "1030\n"
     ]
    }
   ],
   "source": [
    "val_percent = 0.19 # between 0.1 and 0.2\n",
    "val_size = int(num_rows * val_percent)\n",
    "train_size = num_rows - val_size\n",
    "print(val_size)\n",
    "print(train_size)\n",
    "\n",
    "\n",
    "train_ds, val_ds =random_split(dataset, [1030, 241])  # Use the random_split function to split dataset into 2 parts of the desired length"
   ]
  },
  {
   "cell_type": "markdown",
   "metadata": {
    "id": "GwUdwIM2dd5Q"
   },
   "source": [
    "Finally, we can create data loaders for training & validation.\n",
    "\n",
    "**Q8: Pick a batch size for the data loader.**"
   ]
  },
  {
   "cell_type": "code",
   "execution_count": 144,
   "metadata": {
    "executionInfo": {
     "elapsed": 548,
     "status": "ok",
     "timestamp": 1679770002935,
     "user": {
      "displayName": "Faisal Osman",
      "userId": "03675104962384198116"
     },
     "user_tz": -360
    },
    "id": "Au0_01F-dd5Q"
   },
   "outputs": [],
   "source": [
    "batch_size = 32"
   ]
  },
  {
   "cell_type": "code",
   "execution_count": 145,
   "metadata": {
    "executionInfo": {
     "elapsed": 9,
     "status": "ok",
     "timestamp": 1679770003404,
     "user": {
      "displayName": "Faisal Osman",
      "userId": "03675104962384198116"
     },
     "user_tz": -360
    },
    "id": "vOk07VsRdd5R"
   },
   "outputs": [],
   "source": [
    "train_loader = DataLoader(train_ds, batch_size, shuffle=True)\n",
    "val_loader = DataLoader(val_ds, batch_size)"
   ]
  },
  {
   "cell_type": "markdown",
   "metadata": {
    "id": "uSdQ8mxPdd5R"
   },
   "source": [
    "Let's look at a batch of data to verify everything is working fine so far."
   ]
  },
  {
   "cell_type": "code",
   "execution_count": 146,
   "metadata": {
    "colab": {
     "base_uri": "https://localhost:8080/"
    },
    "executionInfo": {
     "elapsed": 9,
     "status": "ok",
     "timestamp": 1679770003405,
     "user": {
      "displayName": "Faisal Osman",
      "userId": "03675104962384198116"
     },
     "user_tz": -360
    },
    "id": "HsTGdMpydd5S",
    "outputId": "c1ad74ec-94ec-47ef-ddad-c89b7aa7181a"
   },
   "outputs": [
    {
     "name": "stdout",
     "output_type": "stream",
     "text": [
      "inputs: tensor([[43.0000,  1.0000, 36.9182,  2.0000,  1.0000],\n",
      "        [64.0000,  1.0000, 37.0443,  0.0000,  0.0000],\n",
      "        [26.0000,  0.0000, 19.2060,  1.0000,  0.0000],\n",
      "        [21.0000,  1.0000, 19.6280,  3.0000,  0.0000],\n",
      "        [62.0000,  0.0000, 36.9521,  2.0000,  0.0000],\n",
      "        [18.0000,  1.0000, 21.1266,  2.0000,  0.0000],\n",
      "        [34.0000,  1.0000, 21.7474,  2.0000,  0.0000],\n",
      "        [41.0000,  1.0000, 39.0522,  0.0000,  0.0000],\n",
      "        [34.0000,  1.0000, 27.0000,  1.0000,  1.0000],\n",
      "        [61.0000,  1.0000, 31.3310,  2.0000,  0.0000],\n",
      "        [49.0000,  0.0000, 26.3549,  0.0000,  0.0000],\n",
      "        [40.0000,  1.0000, 33.0818,  1.0000,  0.0000],\n",
      "        [51.0000,  0.0000, 33.0770,  0.0000,  0.0000],\n",
      "        [51.0000,  0.0000, 33.1740,  1.0000,  0.0000],\n",
      "        [31.0000,  0.0000, 28.3822,  1.0000,  0.0000],\n",
      "        [22.0000,  0.0000, 27.2085,  0.0000,  0.0000],\n",
      "        [28.0000,  1.0000, 23.5710,  5.0000,  0.0000],\n",
      "        [40.0000,  1.0000, 22.0238,  2.0000,  0.0000],\n",
      "        [33.0000,  1.0000, 34.6775,  2.0000,  0.0000],\n",
      "        [36.0000,  1.0000, 27.7372,  3.0000,  0.0000],\n",
      "        [19.0000,  1.0000, 28.1979,  0.0000,  1.0000],\n",
      "        [40.0000,  1.0000, 40.4393,  0.0000,  0.0000],\n",
      "        [52.0000,  1.0000, 40.5460,  2.0000,  1.0000],\n",
      "        [58.0000,  0.0000, 31.4231,  1.0000,  0.0000],\n",
      "        [26.0000,  0.0000, 33.1740,  2.0000,  0.0000],\n",
      "        [19.0000,  1.0000, 25.2491,  1.0000,  1.0000],\n",
      "        [46.0000,  1.0000, 42.5733,  3.0000,  0.0000],\n",
      "        [45.0000,  1.0000, 35.3856,  2.0000,  1.0000],\n",
      "        [54.0000,  1.0000, 38.4120,  1.0000,  0.0000],\n",
      "        [21.0000,  1.0000, 24.9727,  2.0000,  0.0000],\n",
      "        [43.0000,  1.0000, 22.5040,  0.0000,  0.0000],\n",
      "        [32.0000,  0.0000, 28.9060,  2.0000,  0.0000]])\n",
      "targets: tensor([[44688.4531],\n",
      "        [15131.4785],\n",
      "        [ 3547.8555],\n",
      "        [ 4054.2700],\n",
      "        [15991.8398],\n",
      "        [12478.2510],\n",
      "        [28744.6992],\n",
      "        [ 5994.6226],\n",
      "        [21010.1152],\n",
      "        [14825.6006],\n",
      "        [ 9031.3955],\n",
      "        [ 6930.2163],\n",
      "        [ 9747.7402],\n",
      "        [10366.3359],\n",
      "        [ 4568.0400],\n",
      "        [ 2263.4656],\n",
      "        [ 5896.1372],\n",
      "        [ 7532.0278],\n",
      "        [ 5134.4995],\n",
      "        [ 6875.6050],\n",
      "        [18220.3145],\n",
      "        [ 5710.6865],\n",
      "        [49633.3477],\n",
      "        [13670.1191],\n",
      "        [ 4187.3223],\n",
      "        [17273.4395],\n",
      "        [ 9391.3213],\n",
      "        [44898.5273],\n",
      "        [10973.0801],\n",
      "        [ 3443.8621],\n",
      "        [ 6562.9565],\n",
      "        [ 5409.7407]])\n"
     ]
    }
   ],
   "source": [
    "for xb, yb in train_loader:\n",
    "    print(\"inputs:\", xb)\n",
    "    print(\"targets:\", yb)\n",
    "    break"
   ]
  },
  {
   "cell_type": "markdown",
   "metadata": {
    "id": "H73G5Gmzdd5T"
   },
   "source": [
    "Let's save our work by committing to Jovian."
   ]
  },
  {
   "cell_type": "code",
   "execution_count": 147,
   "metadata": {
    "colab": {
     "base_uri": "https://localhost:8080/"
    },
    "executionInfo": {
     "elapsed": 17,
     "status": "ok",
     "timestamp": 1679770004717,
     "user": {
      "displayName": "Faisal Osman",
      "userId": "03675104962384198116"
     },
     "user_tz": -360
    },
    "id": "Q4uBTV1_dd5T",
    "outputId": "cc6fc45a-1d57-4290-ef6a-29aa7ba87e6d"
   },
   "outputs": [
    {
     "name": "stdout",
     "output_type": "stream",
     "text": [
      "[jovian] Detected Colab notebook...\u001b[0m\n",
      "[jovian] jovian.commit() is no longer required on Google Colab. If you ran this notebook from Jovian, \n",
      "then just save this file in Colab using Ctrl+S/Cmd+S and it will be updated on Jovian. \n",
      "Also, you can also delete this cell, it's no longer necessary.\u001b[0m\n"
     ]
    }
   ],
   "source": [
    "jovian.commit(project=project_name, environment=None)"
   ]
  },
  {
   "cell_type": "markdown",
   "metadata": {
    "id": "GKXM8BMgdd5T"
   },
   "source": [
    "## Step 3: Create a Linear Regression Model\n",
    "\n",
    "Our model itself is a fairly straightforward linear regression (we'll build more complex models in the next assignment). \n"
   ]
  },
  {
   "cell_type": "code",
   "execution_count": 148,
   "metadata": {
    "colab": {
     "base_uri": "https://localhost:8080/"
    },
    "executionInfo": {
     "elapsed": 10,
     "status": "ok",
     "timestamp": 1679770004719,
     "user": {
      "displayName": "Faisal Osman",
      "userId": "03675104962384198116"
     },
     "user_tz": -360
    },
    "id": "RzBR0lgJdd5U",
    "outputId": "f88b1120-b493-4b10-a1df-0ed0002256a7"
   },
   "outputs": [
    {
     "name": "stdout",
     "output_type": "stream",
     "text": [
      "5\n"
     ]
    }
   ],
   "source": [
    "input_size = len(input_cols)\n",
    "output_size = len(output_cols)\n",
    "print(input_size)"
   ]
  },
  {
   "cell_type": "markdown",
   "metadata": {
    "id": "tnGimTDSdd5U"
   },
   "source": [
    "**Q9: Complete the class definition below by filling out the constructor (`__init__`), `forward`, `training_step` and `validation_step` methods.**\n",
    "\n",
    "Hint: Think carefully about picking a good loss fuction (it's not cross entropy). Maybe try 2-3 of them and see which one works best. See https://pytorch.org/docs/stable/nn.functional.html#loss-functions"
   ]
  },
  {
   "cell_type": "code",
   "execution_count": 149,
   "metadata": {
    "executionInfo": {
     "elapsed": 6,
     "status": "ok",
     "timestamp": 1679770005358,
     "user": {
      "displayName": "Faisal Osman",
      "userId": "03675104962384198116"
     },
     "user_tz": -360
    },
    "id": "OVegnCJqFlQW"
   },
   "outputs": [],
   "source": [
    "loss_fn = F.mse_loss"
   ]
  },
  {
   "cell_type": "code",
   "execution_count": 158,
   "metadata": {
    "executionInfo": {
     "elapsed": 567,
     "status": "ok",
     "timestamp": 1679770176741,
     "user": {
      "displayName": "Faisal Osman",
      "userId": "03675104962384198116"
     },
     "user_tz": -360
    },
    "id": "t3gvlL9Edd5U"
   },
   "outputs": [],
   "source": [
    "class InsuranceModel(nn.Module):\n",
    "    def __init__(self):\n",
    "        super().__init__()\n",
    "        self.linear = nn.Linear(input_size, output_size)                  \n",
    "        \n",
    "    def forward(self, xb):\n",
    "        out = self.linear(xb)                      \n",
    "        return out\n",
    "    \n",
    "    def training_step(self, batch):\n",
    "        inputs, targets = batch \n",
    "        # Generate predictions\n",
    "        out = self(inputs)          \n",
    "        # Calcuate loss\n",
    "        loss = F.l1_loss(out, targets)                        \n",
    "        return loss\n",
    "    \n",
    "    def validation_step(self, batch):\n",
    "        inputs, targets = batch\n",
    "        # Generate predictions\n",
    "        out = self(inputs)\n",
    "        # Calculate loss\n",
    "        loss = F.l1_loss(out, targets)               \n",
    "        return {'val_loss': loss.detach()}\n",
    "        \n",
    "    def validation_epoch_end(self, outputs):\n",
    "        batch_losses = [x['val_loss'] for x in outputs]\n",
    "        epoch_loss = torch.stack(batch_losses).mean()   # Combine losses\n",
    "        return {'val_loss': epoch_loss.item()}\n",
    "    \n",
    "    def epoch_end(self, epoch, result, num_epochs):\n",
    "        # Print result every 20th epoch\n",
    "        if (epoch+1) % 20 == 0 or epoch == num_epochs-1:\n",
    "            print(\"Epoch [{}], val_loss: {:.4f}\".format(epoch+1, result['val_loss']))"
   ]
  },
  {
   "cell_type": "markdown",
   "metadata": {
    "id": "xcrBUVh9dd5V"
   },
   "source": [
    "Let us create a model using the `InsuranceModel` class. You may need to come back later and re-run the next cell to reinitialize the model, in case the loss becomes `nan` or `infinity`."
   ]
  },
  {
   "cell_type": "code",
   "execution_count": 159,
   "metadata": {
    "executionInfo": {
     "elapsed": 571,
     "status": "ok",
     "timestamp": 1679770181711,
     "user": {
      "displayName": "Faisal Osman",
      "userId": "03675104962384198116"
     },
     "user_tz": -360
    },
    "id": "3aXcXv_bdd5W"
   },
   "outputs": [],
   "source": [
    "model = InsuranceModel()"
   ]
  },
  {
   "cell_type": "markdown",
   "metadata": {
    "id": "h0k1LmjOdd5W"
   },
   "source": [
    "Let's check out the weights and biases of the model using `model.parameters`."
   ]
  },
  {
   "cell_type": "code",
   "execution_count": 160,
   "metadata": {
    "colab": {
     "base_uri": "https://localhost:8080/"
    },
    "executionInfo": {
     "elapsed": 7,
     "status": "ok",
     "timestamp": 1679770182596,
     "user": {
      "displayName": "Faisal Osman",
      "userId": "03675104962384198116"
     },
     "user_tz": -360
    },
    "id": "1a80yE96dd5X",
    "outputId": "cadc1d7b-2a36-4f2c-ce98-5ad7c9f3dd63"
   },
   "outputs": [
    {
     "data": {
      "text/plain": [
       "[Parameter containing:\n",
       " tensor([[-0.1354,  0.0418, -0.2582, -0.3388, -0.3350]], requires_grad=True),\n",
       " Parameter containing:\n",
       " tensor([-0.1211], requires_grad=True)]"
      ]
     },
     "execution_count": 160,
     "metadata": {},
     "output_type": "execute_result"
    }
   ],
   "source": [
    "list(model.parameters())"
   ]
  },
  {
   "cell_type": "markdown",
   "metadata": {
    "id": "P52RHu35dd5X"
   },
   "source": [
    "One final commit before we train the model."
   ]
  },
  {
   "cell_type": "code",
   "execution_count": 161,
   "metadata": {
    "colab": {
     "base_uri": "https://localhost:8080/"
    },
    "executionInfo": {
     "elapsed": 14,
     "status": "ok",
     "timestamp": 1679770183428,
     "user": {
      "displayName": "Faisal Osman",
      "userId": "03675104962384198116"
     },
     "user_tz": -360
    },
    "id": "EjVyJscbdd5X",
    "outputId": "49e32556-f066-48f2-8bbb-b8152dc958d0"
   },
   "outputs": [
    {
     "name": "stdout",
     "output_type": "stream",
     "text": [
      "[jovian] Detected Colab notebook...\u001b[0m\n",
      "[jovian] jovian.commit() is no longer required on Google Colab. If you ran this notebook from Jovian, \n",
      "then just save this file in Colab using Ctrl+S/Cmd+S and it will be updated on Jovian. \n",
      "Also, you can also delete this cell, it's no longer necessary.\u001b[0m\n"
     ]
    }
   ],
   "source": [
    "jovian.commit(project=project_name, environment=None)"
   ]
  },
  {
   "cell_type": "markdown",
   "metadata": {
    "id": "Mmp9r68Rdd5Y"
   },
   "source": [
    "## Step 4: Train the model to fit the data\n",
    "\n",
    "To train our model, we'll use the same `fit` function explained in the lecture. That's the benefit of defining a generic training loop - you can use it for any problem."
   ]
  },
  {
   "cell_type": "code",
   "execution_count": 162,
   "metadata": {
    "executionInfo": {
     "elapsed": 7,
     "status": "ok",
     "timestamp": 1679770183947,
     "user": {
      "displayName": "Faisal Osman",
      "userId": "03675104962384198116"
     },
     "user_tz": -360
    },
    "id": "LSCD-Vzjdd5Y"
   },
   "outputs": [],
   "source": [
    "def evaluate(model, val_loader):\n",
    "    outputs = [model.validation_step(batch) for batch in val_loader]\n",
    "    return model.validation_epoch_end(outputs)\n",
    "\n",
    "def fit(epochs, lr, model, train_loader, val_loader, opt_func=torch.optim.SGD):\n",
    "    history = []\n",
    "    optimizer = opt_func(model.parameters(), lr)\n",
    "    for epoch in range(epochs):\n",
    "        # Training Phase \n",
    "        for batch in train_loader:\n",
    "            loss = model.training_step(batch)\n",
    "            loss.backward()\n",
    "            optimizer.step()\n",
    "            optimizer.zero_grad()\n",
    "        # Validation phase\n",
    "        result = evaluate(model, val_loader)\n",
    "        model.epoch_end(epoch, result, epochs)\n",
    "        history.append(result)\n",
    "    return history"
   ]
  },
  {
   "cell_type": "markdown",
   "metadata": {
    "id": "7ekHOrs_dd5Y"
   },
   "source": [
    "**Q10: Use the `evaluate` function to calculate the loss on the validation set before training.**"
   ]
  },
  {
   "cell_type": "code",
   "execution_count": 163,
   "metadata": {
    "colab": {
     "base_uri": "https://localhost:8080/"
    },
    "executionInfo": {
     "elapsed": 26,
     "status": "ok",
     "timestamp": 1679770185986,
     "user": {
      "displayName": "Faisal Osman",
      "userId": "03675104962384198116"
     },
     "user_tz": -360
    },
    "id": "74zH7jG7dd5Y",
    "outputId": "b8cb1b85-ee87-421d-ff66-8fd8c0baae7a"
   },
   "outputs": [
    {
     "name": "stdout",
     "output_type": "stream",
     "text": [
      "{'val_loss': 14648.7197265625}\n"
     ]
    }
   ],
   "source": [
    "result = evaluate(model, val_loader) # Use the the evaluate function\n",
    "print(result)"
   ]
  },
  {
   "cell_type": "markdown",
   "metadata": {
    "id": "vzUjEKindd5Z"
   },
   "source": [
    "\n",
    "We are now ready to train the model. You may need to run the training loop many times, for different number of epochs and with different learning rates, to get a good result. Also, if your loss becomes too large (or `nan`), you may have to re-initialize the model by running the cell `model = InsuranceModel()`. Experiment with this for a while, and try to get to as low a loss as possible."
   ]
  },
  {
   "cell_type": "markdown",
   "metadata": {
    "id": "LFLeBDx8dd5Z"
   },
   "source": [
    "**Q11: Train the model 4-5 times with different learning rates & for different number of epochs.**\n",
    "\n",
    "Hint: Vary learning rates by orders of 10 (e.g. `1e-2`, `1e-3`, `1e-4`, `1e-5`, `1e-6`) to figure out what works."
   ]
  },
  {
   "cell_type": "code",
   "execution_count": 164,
   "metadata": {
    "colab": {
     "base_uri": "https://localhost:8080/"
    },
    "executionInfo": {
     "elapsed": 2310,
     "status": "ok",
     "timestamp": 1679770192214,
     "user": {
      "displayName": "Faisal Osman",
      "userId": "03675104962384198116"
     },
     "user_tz": -360
    },
    "id": "f2lVxQTydd5a",
    "outputId": "d531f430-96c5-44fe-f59f-215ba5ebb296"
   },
   "outputs": [
    {
     "name": "stdout",
     "output_type": "stream",
     "text": [
      "Epoch [20], val_loss: 8517.9326\n",
      "Epoch [40], val_loss: 8426.3594\n",
      "Epoch [60], val_loss: 8351.9570\n",
      "Epoch [80], val_loss: 8284.8750\n",
      "Epoch [100], val_loss: 8224.5186\n"
     ]
    }
   ],
   "source": [
    "epochs = 100\n",
    "lr = 1e-2\n",
    "history1 = fit(epochs, lr, model, train_loader, val_loader)"
   ]
  },
  {
   "cell_type": "code",
   "execution_count": 165,
   "metadata": {
    "colab": {
     "base_uri": "https://localhost:8080/"
    },
    "executionInfo": {
     "elapsed": 10188,
     "status": "ok",
     "timestamp": 1679770253089,
     "user": {
      "displayName": "Faisal Osman",
      "userId": "03675104962384198116"
     },
     "user_tz": -360
    },
    "id": "IyhdnUKhdd5a",
    "outputId": "f346bcc9-291a-420f-f9d8-530b16c59d71"
   },
   "outputs": [
    {
     "name": "stdout",
     "output_type": "stream",
     "text": [
      "Epoch [20], val_loss: 8223.9346\n",
      "Epoch [40], val_loss: 8223.3506\n",
      "Epoch [60], val_loss: 8222.7559\n",
      "Epoch [80], val_loss: 8222.1641\n",
      "Epoch [100], val_loss: 8221.5742\n",
      "Epoch [120], val_loss: 8220.9902\n",
      "Epoch [140], val_loss: 8220.3975\n",
      "Epoch [160], val_loss: 8219.8164\n",
      "Epoch [180], val_loss: 8219.2314\n",
      "Epoch [200], val_loss: 8218.6445\n",
      "Epoch [220], val_loss: 8218.0566\n",
      "Epoch [240], val_loss: 8217.4736\n",
      "Epoch [260], val_loss: 8216.9023\n",
      "Epoch [280], val_loss: 8216.3242\n",
      "Epoch [300], val_loss: 8215.7471\n",
      "Epoch [320], val_loss: 8215.1748\n",
      "Epoch [340], val_loss: 8214.6016\n",
      "Epoch [360], val_loss: 8214.0186\n",
      "Epoch [380], val_loss: 8213.4443\n",
      "Epoch [400], val_loss: 8212.8594\n",
      "Epoch [420], val_loss: 8212.2754\n",
      "Epoch [440], val_loss: 8211.6973\n",
      "Epoch [460], val_loss: 8211.1328\n",
      "Epoch [480], val_loss: 8210.5625\n",
      "Epoch [500], val_loss: 8209.9980\n"
     ]
    }
   ],
   "source": [
    "epochs = 500\n",
    "lr = 1e-4\n",
    "history2 = fit(epochs, lr, model, train_loader, val_loader)"
   ]
  },
  {
   "cell_type": "code",
   "execution_count": 166,
   "metadata": {
    "colab": {
     "base_uri": "https://localhost:8080/"
    },
    "executionInfo": {
     "elapsed": 14124,
     "status": "ok",
     "timestamp": 1679770294832,
     "user": {
      "displayName": "Faisal Osman",
      "userId": "03675104962384198116"
     },
     "user_tz": -360
    },
    "id": "goSjM2izdd5a",
    "outputId": "7d8e8866-2701-4dc1-b5d5-6cd520ce3f2a"
   },
   "outputs": [
    {
     "name": "stdout",
     "output_type": "stream",
     "text": [
      "Epoch [20], val_loss: 8209.9980\n",
      "Epoch [40], val_loss: 8209.9971\n",
      "Epoch [60], val_loss: 8209.9961\n",
      "Epoch [80], val_loss: 8209.9961\n",
      "Epoch [100], val_loss: 8209.9961\n",
      "Epoch [120], val_loss: 8209.9951\n",
      "Epoch [140], val_loss: 8209.9961\n",
      "Epoch [160], val_loss: 8209.9951\n",
      "Epoch [180], val_loss: 8209.9941\n",
      "Epoch [200], val_loss: 8209.9941\n",
      "Epoch [220], val_loss: 8209.9941\n",
      "Epoch [240], val_loss: 8209.9932\n",
      "Epoch [260], val_loss: 8209.9932\n",
      "Epoch [280], val_loss: 8209.9932\n",
      "Epoch [300], val_loss: 8209.9922\n",
      "Epoch [320], val_loss: 8209.9922\n",
      "Epoch [340], val_loss: 8209.9912\n",
      "Epoch [360], val_loss: 8209.9912\n",
      "Epoch [380], val_loss: 8209.9912\n",
      "Epoch [400], val_loss: 8209.9902\n",
      "Epoch [420], val_loss: 8209.9902\n",
      "Epoch [440], val_loss: 8209.9902\n",
      "Epoch [460], val_loss: 8209.9902\n",
      "Epoch [480], val_loss: 8209.9883\n",
      "Epoch [500], val_loss: 8209.9893\n",
      "Epoch [520], val_loss: 8209.9883\n",
      "Epoch [540], val_loss: 8209.9883\n",
      "Epoch [560], val_loss: 8209.9883\n",
      "Epoch [580], val_loss: 8209.9873\n",
      "Epoch [600], val_loss: 8209.9873\n",
      "Epoch [620], val_loss: 8209.9863\n",
      "Epoch [640], val_loss: 8209.9863\n",
      "Epoch [660], val_loss: 8209.9863\n",
      "Epoch [680], val_loss: 8209.9854\n",
      "Epoch [700], val_loss: 8209.9844\n"
     ]
    }
   ],
   "source": [
    "epochs = 700\n",
    "lr = 1e-7\n",
    "history3 = fit(epochs, lr, model, train_loader, val_loader)"
   ]
  },
  {
   "cell_type": "code",
   "execution_count": 167,
   "metadata": {
    "colab": {
     "base_uri": "https://localhost:8080/"
    },
    "executionInfo": {
     "elapsed": 21546,
     "status": "ok",
     "timestamp": 1679770349096,
     "user": {
      "displayName": "Faisal Osman",
      "userId": "03675104962384198116"
     },
     "user_tz": -360
    },
    "id": "h_sYg3CRdd5b",
    "outputId": "27716afe-e810-4463-bbe5-04be1c5f8958"
   },
   "outputs": [
    {
     "name": "stdout",
     "output_type": "stream",
     "text": [
      "Epoch [20], val_loss: 8209.4102\n",
      "Epoch [40], val_loss: 8208.8311\n",
      "Epoch [60], val_loss: 8208.2510\n",
      "Epoch [80], val_loss: 8207.6797\n",
      "Epoch [100], val_loss: 8207.1016\n",
      "Epoch [120], val_loss: 8206.5273\n",
      "Epoch [140], val_loss: 8205.9600\n",
      "Epoch [160], val_loss: 8205.3857\n",
      "Epoch [180], val_loss: 8204.8135\n",
      "Epoch [200], val_loss: 8204.2373\n",
      "Epoch [220], val_loss: 8203.6602\n",
      "Epoch [240], val_loss: 8203.0781\n",
      "Epoch [260], val_loss: 8202.5000\n",
      "Epoch [280], val_loss: 8201.9297\n",
      "Epoch [300], val_loss: 8201.3447\n",
      "Epoch [320], val_loss: 8200.7695\n",
      "Epoch [340], val_loss: 8200.1973\n",
      "Epoch [360], val_loss: 8199.6211\n",
      "Epoch [380], val_loss: 8199.0557\n",
      "Epoch [400], val_loss: 8198.4941\n",
      "Epoch [420], val_loss: 8197.9170\n",
      "Epoch [440], val_loss: 8197.3486\n",
      "Epoch [460], val_loss: 8196.7842\n",
      "Epoch [480], val_loss: 8196.2178\n",
      "Epoch [500], val_loss: 8195.6543\n",
      "Epoch [520], val_loss: 8195.0938\n",
      "Epoch [540], val_loss: 8194.5361\n",
      "Epoch [560], val_loss: 8193.9736\n",
      "Epoch [580], val_loss: 8193.4131\n",
      "Epoch [600], val_loss: 8192.8516\n",
      "Epoch [620], val_loss: 8192.2988\n",
      "Epoch [640], val_loss: 8191.7480\n",
      "Epoch [660], val_loss: 8191.1963\n",
      "Epoch [680], val_loss: 8190.6362\n",
      "Epoch [700], val_loss: 8190.0796\n",
      "Epoch [720], val_loss: 8189.5229\n",
      "Epoch [740], val_loss: 8188.9639\n",
      "Epoch [760], val_loss: 8188.4038\n",
      "Epoch [780], val_loss: 8187.8477\n",
      "Epoch [800], val_loss: 8187.2905\n",
      "Epoch [820], val_loss: 8186.7305\n",
      "Epoch [840], val_loss: 8186.1699\n",
      "Epoch [860], val_loss: 8185.6182\n",
      "Epoch [880], val_loss: 8185.0654\n",
      "Epoch [900], val_loss: 8184.5034\n",
      "Epoch [920], val_loss: 8183.9463\n",
      "Epoch [940], val_loss: 8183.3975\n",
      "Epoch [960], val_loss: 8182.8491\n",
      "Epoch [980], val_loss: 8182.3018\n",
      "Epoch [1000], val_loss: 8181.7539\n"
     ]
    }
   ],
   "source": [
    "epochs = 1000\n",
    "lr = 1e-4\n",
    "history4 = fit(epochs, lr, model, train_loader, val_loader)"
   ]
  },
  {
   "cell_type": "code",
   "execution_count": 168,
   "metadata": {
    "colab": {
     "base_uri": "https://localhost:8080/"
    },
    "executionInfo": {
     "elapsed": 105598,
     "status": "ok",
     "timestamp": 1679770477816,
     "user": {
      "displayName": "Faisal Osman",
      "userId": "03675104962384198116"
     },
     "user_tz": -360
    },
    "id": "chaefCp6dd5b",
    "outputId": "635bb4f2-7855-4012-c918-3d6714170a03"
   },
   "outputs": [
    {
     "name": "stdout",
     "output_type": "stream",
     "text": [
      "Epoch [20], val_loss: 8181.2051\n",
      "Epoch [40], val_loss: 8180.6479\n",
      "Epoch [60], val_loss: 8180.1025\n",
      "Epoch [80], val_loss: 8179.6050\n",
      "Epoch [100], val_loss: 8179.1211\n",
      "Epoch [120], val_loss: 8178.6240\n",
      "Epoch [140], val_loss: 8178.1343\n",
      "Epoch [160], val_loss: 8177.6411\n",
      "Epoch [180], val_loss: 8177.1465\n",
      "Epoch [200], val_loss: 8176.6577\n",
      "Epoch [220], val_loss: 8176.1709\n",
      "Epoch [240], val_loss: 8175.6904\n",
      "Epoch [260], val_loss: 8175.1997\n",
      "Epoch [280], val_loss: 8174.7246\n",
      "Epoch [300], val_loss: 8174.2485\n",
      "Epoch [320], val_loss: 8173.7637\n",
      "Epoch [340], val_loss: 8173.2744\n",
      "Epoch [360], val_loss: 8172.7788\n",
      "Epoch [380], val_loss: 8172.2861\n",
      "Epoch [400], val_loss: 8171.8101\n",
      "Epoch [420], val_loss: 8171.3320\n",
      "Epoch [440], val_loss: 8170.8599\n",
      "Epoch [460], val_loss: 8170.3862\n",
      "Epoch [480], val_loss: 8169.9233\n",
      "Epoch [500], val_loss: 8169.4526\n",
      "Epoch [520], val_loss: 8168.9756\n",
      "Epoch [540], val_loss: 8168.5103\n",
      "Epoch [560], val_loss: 8168.0146\n",
      "Epoch [580], val_loss: 8167.5332\n",
      "Epoch [600], val_loss: 8167.0474\n",
      "Epoch [620], val_loss: 8166.5635\n",
      "Epoch [640], val_loss: 8166.0913\n",
      "Epoch [660], val_loss: 8165.5981\n",
      "Epoch [680], val_loss: 8165.1191\n",
      "Epoch [700], val_loss: 8164.6338\n",
      "Epoch [720], val_loss: 8164.1450\n",
      "Epoch [740], val_loss: 8163.6509\n",
      "Epoch [760], val_loss: 8163.1592\n",
      "Epoch [780], val_loss: 8162.6660\n",
      "Epoch [800], val_loss: 8162.1802\n",
      "Epoch [820], val_loss: 8161.7007\n",
      "Epoch [840], val_loss: 8161.2295\n",
      "Epoch [860], val_loss: 8160.7710\n",
      "Epoch [880], val_loss: 8160.3120\n",
      "Epoch [900], val_loss: 8159.8892\n",
      "Epoch [920], val_loss: 8159.4800\n",
      "Epoch [940], val_loss: 8159.0435\n",
      "Epoch [960], val_loss: 8158.6211\n",
      "Epoch [980], val_loss: 8158.2017\n",
      "Epoch [1000], val_loss: 8157.7969\n",
      "Epoch [1020], val_loss: 8157.3687\n",
      "Epoch [1040], val_loss: 8156.9336\n",
      "Epoch [1060], val_loss: 8156.5117\n",
      "Epoch [1080], val_loss: 8156.0728\n",
      "Epoch [1100], val_loss: 8155.6333\n",
      "Epoch [1120], val_loss: 8155.2236\n",
      "Epoch [1140], val_loss: 8154.8076\n",
      "Epoch [1160], val_loss: 8154.4077\n",
      "Epoch [1180], val_loss: 8154.0156\n",
      "Epoch [1200], val_loss: 8153.6025\n",
      "Epoch [1220], val_loss: 8153.2129\n",
      "Epoch [1240], val_loss: 8152.8003\n",
      "Epoch [1260], val_loss: 8152.4004\n",
      "Epoch [1280], val_loss: 8152.0210\n",
      "Epoch [1300], val_loss: 8151.6089\n",
      "Epoch [1320], val_loss: 8151.2065\n",
      "Epoch [1340], val_loss: 8150.7954\n",
      "Epoch [1360], val_loss: 8150.4048\n",
      "Epoch [1380], val_loss: 8149.9937\n",
      "Epoch [1400], val_loss: 8149.6001\n",
      "Epoch [1420], val_loss: 8149.2134\n",
      "Epoch [1440], val_loss: 8148.8242\n",
      "Epoch [1460], val_loss: 8148.4321\n",
      "Epoch [1480], val_loss: 8148.0298\n",
      "Epoch [1500], val_loss: 8147.6445\n",
      "Epoch [1520], val_loss: 8147.2466\n",
      "Epoch [1540], val_loss: 8146.8501\n",
      "Epoch [1560], val_loss: 8146.4692\n",
      "Epoch [1580], val_loss: 8146.1035\n",
      "Epoch [1600], val_loss: 8145.7544\n",
      "Epoch [1620], val_loss: 8145.3896\n",
      "Epoch [1640], val_loss: 8145.0479\n",
      "Epoch [1660], val_loss: 8144.6826\n",
      "Epoch [1680], val_loss: 8144.3140\n",
      "Epoch [1700], val_loss: 8143.9541\n",
      "Epoch [1720], val_loss: 8143.5889\n",
      "Epoch [1740], val_loss: 8143.2031\n",
      "Epoch [1760], val_loss: 8142.8496\n",
      "Epoch [1780], val_loss: 8142.4932\n",
      "Epoch [1800], val_loss: 8142.1201\n",
      "Epoch [1820], val_loss: 8141.7661\n",
      "Epoch [1840], val_loss: 8141.3882\n",
      "Epoch [1860], val_loss: 8141.0483\n",
      "Epoch [1880], val_loss: 8140.6880\n",
      "Epoch [1900], val_loss: 8140.3418\n",
      "Epoch [1920], val_loss: 8139.9692\n",
      "Epoch [1940], val_loss: 8139.6147\n",
      "Epoch [1960], val_loss: 8139.2715\n",
      "Epoch [1980], val_loss: 8138.8818\n",
      "Epoch [2000], val_loss: 8138.4907\n",
      "Epoch [2020], val_loss: 8138.1079\n",
      "Epoch [2040], val_loss: 8137.6953\n",
      "Epoch [2060], val_loss: 8137.3452\n",
      "Epoch [2080], val_loss: 8136.9697\n",
      "Epoch [2100], val_loss: 8136.5732\n",
      "Epoch [2120], val_loss: 8136.1772\n",
      "Epoch [2140], val_loss: 8135.8247\n",
      "Epoch [2160], val_loss: 8135.4810\n",
      "Epoch [2180], val_loss: 8135.1021\n",
      "Epoch [2200], val_loss: 8134.7070\n",
      "Epoch [2220], val_loss: 8134.3184\n",
      "Epoch [2240], val_loss: 8133.9307\n",
      "Epoch [2260], val_loss: 8133.5518\n",
      "Epoch [2280], val_loss: 8133.1758\n",
      "Epoch [2300], val_loss: 8132.8149\n",
      "Epoch [2320], val_loss: 8132.4395\n",
      "Epoch [2340], val_loss: 8132.0698\n",
      "Epoch [2360], val_loss: 8131.6875\n",
      "Epoch [2380], val_loss: 8131.3066\n",
      "Epoch [2400], val_loss: 8130.9062\n",
      "Epoch [2420], val_loss: 8130.5298\n",
      "Epoch [2440], val_loss: 8130.1099\n",
      "Epoch [2460], val_loss: 8129.7095\n",
      "Epoch [2480], val_loss: 8129.3066\n",
      "Epoch [2500], val_loss: 8128.9150\n",
      "Epoch [2520], val_loss: 8128.5503\n",
      "Epoch [2540], val_loss: 8128.1841\n",
      "Epoch [2560], val_loss: 8127.7710\n",
      "Epoch [2580], val_loss: 8127.3765\n",
      "Epoch [2600], val_loss: 8126.9951\n",
      "Epoch [2620], val_loss: 8126.6377\n",
      "Epoch [2640], val_loss: 8126.2778\n",
      "Epoch [2660], val_loss: 8125.9033\n",
      "Epoch [2680], val_loss: 8125.5259\n",
      "Epoch [2700], val_loss: 8125.1382\n",
      "Epoch [2720], val_loss: 8124.7549\n",
      "Epoch [2740], val_loss: 8124.3643\n",
      "Epoch [2760], val_loss: 8123.9653\n",
      "Epoch [2780], val_loss: 8123.5737\n",
      "Epoch [2800], val_loss: 8123.2222\n",
      "Epoch [2820], val_loss: 8122.8403\n",
      "Epoch [2840], val_loss: 8122.4756\n",
      "Epoch [2860], val_loss: 8122.0977\n",
      "Epoch [2880], val_loss: 8121.7178\n",
      "Epoch [2900], val_loss: 8121.3481\n",
      "Epoch [2920], val_loss: 8120.9746\n",
      "Epoch [2940], val_loss: 8120.5859\n",
      "Epoch [2960], val_loss: 8120.1836\n",
      "Epoch [2980], val_loss: 8119.8359\n",
      "Epoch [3000], val_loss: 8119.4834\n",
      "Epoch [3020], val_loss: 8119.0947\n",
      "Epoch [3040], val_loss: 8118.6997\n",
      "Epoch [3060], val_loss: 8118.3203\n",
      "Epoch [3080], val_loss: 8117.9375\n",
      "Epoch [3100], val_loss: 8117.5532\n",
      "Epoch [3120], val_loss: 8117.1968\n",
      "Epoch [3140], val_loss: 8116.7783\n",
      "Epoch [3160], val_loss: 8116.4316\n",
      "Epoch [3180], val_loss: 8116.0728\n",
      "Epoch [3200], val_loss: 8115.6885\n",
      "Epoch [3220], val_loss: 8115.3418\n",
      "Epoch [3240], val_loss: 8114.9927\n",
      "Epoch [3260], val_loss: 8114.6621\n",
      "Epoch [3280], val_loss: 8114.2969\n",
      "Epoch [3300], val_loss: 8113.9292\n",
      "Epoch [3320], val_loss: 8113.5601\n",
      "Epoch [3340], val_loss: 8113.1831\n",
      "Epoch [3360], val_loss: 8112.8008\n",
      "Epoch [3380], val_loss: 8112.4717\n",
      "Epoch [3400], val_loss: 8112.1226\n",
      "Epoch [3420], val_loss: 8111.7773\n",
      "Epoch [3440], val_loss: 8111.4326\n",
      "Epoch [3460], val_loss: 8111.0649\n",
      "Epoch [3480], val_loss: 8110.7144\n",
      "Epoch [3500], val_loss: 8110.4067\n",
      "Epoch [3520], val_loss: 8110.0820\n",
      "Epoch [3540], val_loss: 8109.7349\n",
      "Epoch [3560], val_loss: 8109.3984\n",
      "Epoch [3580], val_loss: 8109.0781\n",
      "Epoch [3600], val_loss: 8108.7417\n",
      "Epoch [3620], val_loss: 8108.4385\n",
      "Epoch [3640], val_loss: 8108.1304\n",
      "Epoch [3660], val_loss: 8107.8066\n",
      "Epoch [3680], val_loss: 8107.4644\n",
      "Epoch [3700], val_loss: 8107.1226\n",
      "Epoch [3720], val_loss: 8106.7915\n",
      "Epoch [3740], val_loss: 8106.4663\n",
      "Epoch [3760], val_loss: 8106.1748\n",
      "Epoch [3780], val_loss: 8105.8159\n",
      "Epoch [3800], val_loss: 8105.4580\n",
      "Epoch [3820], val_loss: 8105.1309\n",
      "Epoch [3840], val_loss: 8104.7759\n",
      "Epoch [3860], val_loss: 8104.4507\n",
      "Epoch [3880], val_loss: 8104.1167\n",
      "Epoch [3900], val_loss: 8103.8276\n",
      "Epoch [3920], val_loss: 8103.4985\n",
      "Epoch [3940], val_loss: 8103.1392\n",
      "Epoch [3960], val_loss: 8102.8325\n",
      "Epoch [3980], val_loss: 8102.5161\n",
      "Epoch [4000], val_loss: 8102.2061\n",
      "Epoch [4020], val_loss: 8101.8965\n",
      "Epoch [4040], val_loss: 8101.6421\n",
      "Epoch [4060], val_loss: 8101.3647\n",
      "Epoch [4080], val_loss: 8101.0439\n",
      "Epoch [4100], val_loss: 8100.7373\n",
      "Epoch [4120], val_loss: 8100.4590\n",
      "Epoch [4140], val_loss: 8100.1753\n",
      "Epoch [4160], val_loss: 8099.8931\n",
      "Epoch [4180], val_loss: 8099.6084\n",
      "Epoch [4200], val_loss: 8099.3022\n",
      "Epoch [4220], val_loss: 8099.0107\n",
      "Epoch [4240], val_loss: 8098.7197\n",
      "Epoch [4260], val_loss: 8098.3867\n",
      "Epoch [4280], val_loss: 8098.0552\n",
      "Epoch [4300], val_loss: 8097.7739\n",
      "Epoch [4320], val_loss: 8097.4658\n",
      "Epoch [4340], val_loss: 8097.1465\n",
      "Epoch [4360], val_loss: 8096.8281\n",
      "Epoch [4380], val_loss: 8096.5205\n",
      "Epoch [4400], val_loss: 8096.2314\n",
      "Epoch [4420], val_loss: 8095.9033\n",
      "Epoch [4440], val_loss: 8095.5542\n",
      "Epoch [4460], val_loss: 8095.2603\n",
      "Epoch [4480], val_loss: 8094.9468\n",
      "Epoch [4500], val_loss: 8094.6108\n",
      "Epoch [4520], val_loss: 8094.2471\n",
      "Epoch [4540], val_loss: 8093.9155\n",
      "Epoch [4560], val_loss: 8093.5874\n",
      "Epoch [4580], val_loss: 8093.2812\n",
      "Epoch [4600], val_loss: 8092.9385\n",
      "Epoch [4620], val_loss: 8092.6060\n",
      "Epoch [4640], val_loss: 8092.2793\n",
      "Epoch [4660], val_loss: 8091.9658\n",
      "Epoch [4680], val_loss: 8091.6216\n",
      "Epoch [4700], val_loss: 8091.2754\n",
      "Epoch [4720], val_loss: 8090.9302\n",
      "Epoch [4740], val_loss: 8090.5894\n",
      "Epoch [4760], val_loss: 8090.2593\n",
      "Epoch [4780], val_loss: 8089.9141\n",
      "Epoch [4800], val_loss: 8089.5859\n",
      "Epoch [4820], val_loss: 8089.2656\n",
      "Epoch [4840], val_loss: 8088.9185\n",
      "Epoch [4860], val_loss: 8088.6123\n",
      "Epoch [4880], val_loss: 8088.3276\n",
      "Epoch [4900], val_loss: 8088.0713\n",
      "Epoch [4920], val_loss: 8087.7310\n",
      "Epoch [4940], val_loss: 8087.3979\n",
      "Epoch [4960], val_loss: 8087.0645\n",
      "Epoch [4980], val_loss: 8086.7822\n",
      "Epoch [5000], val_loss: 8086.4976\n"
     ]
    }
   ],
   "source": [
    "epochs = 5000\n",
    "lr = 1e-4\n",
    "history5 = fit(epochs, lr, model, train_loader, val_loader)"
   ]
  },
  {
   "cell_type": "code",
   "execution_count": 169,
   "metadata": {
    "colab": {
     "base_uri": "https://localhost:8080/"
    },
    "executionInfo": {
     "elapsed": 208682,
     "status": "ok",
     "timestamp": 1679770708387,
     "user": {
      "displayName": "Faisal Osman",
      "userId": "03675104962384198116"
     },
     "user_tz": -360
    },
    "id": "ukaQzobOH5dt",
    "outputId": "17154645-51ca-42f7-cd6f-f424458fb4b5"
   },
   "outputs": [
    {
     "name": "stdout",
     "output_type": "stream",
     "text": [
      "Epoch [20], val_loss: 8086.2212\n",
      "Epoch [40], val_loss: 8085.9360\n",
      "Epoch [60], val_loss: 8085.6284\n",
      "Epoch [80], val_loss: 8085.3184\n",
      "Epoch [100], val_loss: 8085.0278\n",
      "Epoch [120], val_loss: 8084.7271\n",
      "Epoch [140], val_loss: 8084.4795\n",
      "Epoch [160], val_loss: 8084.2280\n",
      "Epoch [180], val_loss: 8083.9717\n",
      "Epoch [200], val_loss: 8083.7324\n",
      "Epoch [220], val_loss: 8083.4663\n",
      "Epoch [240], val_loss: 8083.1841\n",
      "Epoch [260], val_loss: 8082.8813\n",
      "Epoch [280], val_loss: 8082.6001\n",
      "Epoch [300], val_loss: 8082.3364\n",
      "Epoch [320], val_loss: 8082.1162\n",
      "Epoch [340], val_loss: 8081.8833\n",
      "Epoch [360], val_loss: 8081.6147\n",
      "Epoch [380], val_loss: 8081.3564\n",
      "Epoch [400], val_loss: 8081.1143\n",
      "Epoch [420], val_loss: 8080.8384\n",
      "Epoch [440], val_loss: 8080.5449\n",
      "Epoch [460], val_loss: 8080.2661\n",
      "Epoch [480], val_loss: 8079.9863\n",
      "Epoch [500], val_loss: 8079.6919\n",
      "Epoch [520], val_loss: 8079.4268\n",
      "Epoch [540], val_loss: 8079.1431\n",
      "Epoch [560], val_loss: 8078.8872\n",
      "Epoch [580], val_loss: 8078.5894\n",
      "Epoch [600], val_loss: 8078.3032\n",
      "Epoch [620], val_loss: 8078.0361\n",
      "Epoch [640], val_loss: 8077.7256\n",
      "Epoch [660], val_loss: 8077.4272\n",
      "Epoch [680], val_loss: 8077.1279\n",
      "Epoch [700], val_loss: 8076.8428\n",
      "Epoch [720], val_loss: 8076.5723\n",
      "Epoch [740], val_loss: 8076.2871\n",
      "Epoch [760], val_loss: 8075.9946\n",
      "Epoch [780], val_loss: 8075.6987\n",
      "Epoch [800], val_loss: 8075.4570\n",
      "Epoch [820], val_loss: 8075.1909\n",
      "Epoch [840], val_loss: 8074.9160\n",
      "Epoch [860], val_loss: 8074.6421\n",
      "Epoch [880], val_loss: 8074.3887\n",
      "Epoch [900], val_loss: 8074.1538\n",
      "Epoch [920], val_loss: 8073.8916\n",
      "Epoch [940], val_loss: 8073.6587\n",
      "Epoch [960], val_loss: 8073.4570\n",
      "Epoch [980], val_loss: 8073.2847\n",
      "Epoch [1000], val_loss: 8073.0503\n",
      "Epoch [1020], val_loss: 8072.8228\n",
      "Epoch [1040], val_loss: 8072.5996\n",
      "Epoch [1060], val_loss: 8072.3433\n",
      "Epoch [1080], val_loss: 8072.1206\n",
      "Epoch [1100], val_loss: 8071.9111\n",
      "Epoch [1120], val_loss: 8071.6548\n",
      "Epoch [1140], val_loss: 8071.4019\n",
      "Epoch [1160], val_loss: 8071.1865\n",
      "Epoch [1180], val_loss: 8070.9858\n",
      "Epoch [1200], val_loss: 8070.7847\n",
      "Epoch [1220], val_loss: 8070.5410\n",
      "Epoch [1240], val_loss: 8070.2910\n",
      "Epoch [1260], val_loss: 8070.0688\n",
      "Epoch [1280], val_loss: 8069.8486\n",
      "Epoch [1300], val_loss: 8069.6230\n",
      "Epoch [1320], val_loss: 8069.3564\n",
      "Epoch [1340], val_loss: 8069.1284\n",
      "Epoch [1360], val_loss: 8068.8799\n",
      "Epoch [1380], val_loss: 8068.6401\n",
      "Epoch [1400], val_loss: 8068.4375\n",
      "Epoch [1420], val_loss: 8068.2080\n",
      "Epoch [1440], val_loss: 8068.0083\n",
      "Epoch [1460], val_loss: 8067.8096\n",
      "Epoch [1480], val_loss: 8067.5972\n",
      "Epoch [1500], val_loss: 8067.3682\n",
      "Epoch [1520], val_loss: 8067.1807\n",
      "Epoch [1540], val_loss: 8066.9868\n",
      "Epoch [1560], val_loss: 8066.8032\n",
      "Epoch [1580], val_loss: 8066.5991\n",
      "Epoch [1600], val_loss: 8066.4102\n",
      "Epoch [1620], val_loss: 8066.2466\n",
      "Epoch [1640], val_loss: 8066.0210\n",
      "Epoch [1660], val_loss: 8065.8428\n",
      "Epoch [1680], val_loss: 8065.6377\n",
      "Epoch [1700], val_loss: 8065.4785\n",
      "Epoch [1720], val_loss: 8065.2920\n",
      "Epoch [1740], val_loss: 8065.0776\n",
      "Epoch [1760], val_loss: 8064.8638\n",
      "Epoch [1780], val_loss: 8064.6826\n",
      "Epoch [1800], val_loss: 8064.4824\n",
      "Epoch [1820], val_loss: 8064.2666\n",
      "Epoch [1840], val_loss: 8064.0635\n",
      "Epoch [1860], val_loss: 8063.9019\n",
      "Epoch [1880], val_loss: 8063.7246\n",
      "Epoch [1900], val_loss: 8063.5566\n",
      "Epoch [1920], val_loss: 8063.3901\n",
      "Epoch [1940], val_loss: 8063.1685\n",
      "Epoch [1960], val_loss: 8063.0215\n",
      "Epoch [1980], val_loss: 8062.8296\n",
      "Epoch [2000], val_loss: 8062.6245\n",
      "Epoch [2020], val_loss: 8062.4194\n",
      "Epoch [2040], val_loss: 8062.1738\n",
      "Epoch [2060], val_loss: 8061.9863\n",
      "Epoch [2080], val_loss: 8061.7769\n",
      "Epoch [2100], val_loss: 8061.6089\n",
      "Epoch [2120], val_loss: 8061.4688\n",
      "Epoch [2140], val_loss: 8061.2969\n",
      "Epoch [2160], val_loss: 8061.0962\n",
      "Epoch [2180], val_loss: 8060.9468\n",
      "Epoch [2200], val_loss: 8060.7285\n",
      "Epoch [2220], val_loss: 8060.5186\n",
      "Epoch [2240], val_loss: 8060.2935\n",
      "Epoch [2260], val_loss: 8060.0962\n",
      "Epoch [2280], val_loss: 8059.9170\n",
      "Epoch [2300], val_loss: 8059.7124\n",
      "Epoch [2320], val_loss: 8059.5454\n",
      "Epoch [2340], val_loss: 8059.3418\n",
      "Epoch [2360], val_loss: 8059.1548\n",
      "Epoch [2380], val_loss: 8058.9888\n",
      "Epoch [2400], val_loss: 8058.7466\n",
      "Epoch [2420], val_loss: 8058.4961\n",
      "Epoch [2440], val_loss: 8058.2871\n",
      "Epoch [2460], val_loss: 8058.0601\n",
      "Epoch [2480], val_loss: 8057.8198\n",
      "Epoch [2500], val_loss: 8057.5962\n",
      "Epoch [2520], val_loss: 8057.4014\n",
      "Epoch [2540], val_loss: 8057.1885\n",
      "Epoch [2560], val_loss: 8057.0171\n",
      "Epoch [2580], val_loss: 8056.7915\n",
      "Epoch [2600], val_loss: 8056.6343\n",
      "Epoch [2620], val_loss: 8056.4692\n",
      "Epoch [2640], val_loss: 8056.3115\n",
      "Epoch [2660], val_loss: 8056.1367\n",
      "Epoch [2680], val_loss: 8055.9824\n",
      "Epoch [2700], val_loss: 8055.8218\n",
      "Epoch [2720], val_loss: 8055.6890\n",
      "Epoch [2740], val_loss: 8055.5225\n",
      "Epoch [2760], val_loss: 8055.3687\n",
      "Epoch [2780], val_loss: 8055.2236\n",
      "Epoch [2800], val_loss: 8055.0571\n",
      "Epoch [2820], val_loss: 8054.9048\n",
      "Epoch [2840], val_loss: 8054.7656\n",
      "Epoch [2860], val_loss: 8054.6079\n",
      "Epoch [2880], val_loss: 8054.4531\n",
      "Epoch [2900], val_loss: 8054.3091\n",
      "Epoch [2920], val_loss: 8054.1470\n",
      "Epoch [2940], val_loss: 8053.9932\n",
      "Epoch [2960], val_loss: 8053.8086\n",
      "Epoch [2980], val_loss: 8053.6333\n",
      "Epoch [3000], val_loss: 8053.4688\n",
      "Epoch [3020], val_loss: 8053.3008\n",
      "Epoch [3040], val_loss: 8053.1714\n",
      "Epoch [3060], val_loss: 8052.9897\n",
      "Epoch [3080], val_loss: 8052.8491\n",
      "Epoch [3100], val_loss: 8052.6699\n",
      "Epoch [3120], val_loss: 8052.5376\n",
      "Epoch [3140], val_loss: 8052.4072\n",
      "Epoch [3160], val_loss: 8052.2764\n",
      "Epoch [3180], val_loss: 8052.1504\n",
      "Epoch [3200], val_loss: 8051.9917\n",
      "Epoch [3220], val_loss: 8051.8643\n",
      "Epoch [3240], val_loss: 8051.6924\n",
      "Epoch [3260], val_loss: 8051.5317\n",
      "Epoch [3280], val_loss: 8051.3770\n",
      "Epoch [3300], val_loss: 8051.2524\n",
      "Epoch [3320], val_loss: 8051.1592\n",
      "Epoch [3340], val_loss: 8051.0845\n",
      "Epoch [3360], val_loss: 8050.9170\n",
      "Epoch [3380], val_loss: 8050.7822\n",
      "Epoch [3400], val_loss: 8050.6455\n",
      "Epoch [3420], val_loss: 8050.4907\n",
      "Epoch [3440], val_loss: 8050.3809\n",
      "Epoch [3460], val_loss: 8050.2388\n",
      "Epoch [3480], val_loss: 8050.1455\n",
      "Epoch [3500], val_loss: 8050.0103\n",
      "Epoch [3520], val_loss: 8049.8872\n",
      "Epoch [3540], val_loss: 8049.7915\n",
      "Epoch [3560], val_loss: 8049.7158\n",
      "Epoch [3580], val_loss: 8049.6006\n",
      "Epoch [3600], val_loss: 8049.4819\n",
      "Epoch [3620], val_loss: 8049.3857\n",
      "Epoch [3640], val_loss: 8049.3105\n",
      "Epoch [3660], val_loss: 8049.2026\n",
      "Epoch [3680], val_loss: 8049.1343\n",
      "Epoch [3700], val_loss: 8049.0464\n",
      "Epoch [3720], val_loss: 8048.9023\n",
      "Epoch [3740], val_loss: 8048.7485\n",
      "Epoch [3760], val_loss: 8048.6104\n",
      "Epoch [3780], val_loss: 8048.4912\n",
      "Epoch [3800], val_loss: 8048.3501\n",
      "Epoch [3820], val_loss: 8048.2402\n",
      "Epoch [3840], val_loss: 8048.1001\n",
      "Epoch [3860], val_loss: 8047.9658\n",
      "Epoch [3880], val_loss: 8047.8433\n",
      "Epoch [3900], val_loss: 8047.7456\n",
      "Epoch [3920], val_loss: 8047.5811\n",
      "Epoch [3940], val_loss: 8047.4814\n",
      "Epoch [3960], val_loss: 8047.3511\n",
      "Epoch [3980], val_loss: 8047.1743\n",
      "Epoch [4000], val_loss: 8047.0830\n",
      "Epoch [4020], val_loss: 8046.9199\n",
      "Epoch [4040], val_loss: 8046.7539\n",
      "Epoch [4060], val_loss: 8046.6011\n",
      "Epoch [4080], val_loss: 8046.4609\n",
      "Epoch [4100], val_loss: 8046.2627\n",
      "Epoch [4120], val_loss: 8046.1196\n",
      "Epoch [4140], val_loss: 8045.9521\n",
      "Epoch [4160], val_loss: 8045.8018\n",
      "Epoch [4180], val_loss: 8045.6621\n",
      "Epoch [4200], val_loss: 8045.5112\n",
      "Epoch [4220], val_loss: 8045.3281\n",
      "Epoch [4240], val_loss: 8045.1807\n",
      "Epoch [4260], val_loss: 8045.0542\n",
      "Epoch [4280], val_loss: 8044.9014\n",
      "Epoch [4300], val_loss: 8044.7163\n",
      "Epoch [4320], val_loss: 8044.4814\n",
      "Epoch [4340], val_loss: 8044.3413\n",
      "Epoch [4360], val_loss: 8044.1401\n",
      "Epoch [4380], val_loss: 8043.9849\n",
      "Epoch [4400], val_loss: 8043.8091\n",
      "Epoch [4420], val_loss: 8043.6538\n",
      "Epoch [4440], val_loss: 8043.4912\n",
      "Epoch [4460], val_loss: 8043.3340\n",
      "Epoch [4480], val_loss: 8043.2676\n",
      "Epoch [4500], val_loss: 8043.2056\n",
      "Epoch [4520], val_loss: 8043.1255\n",
      "Epoch [4540], val_loss: 8043.0728\n",
      "Epoch [4560], val_loss: 8042.9424\n",
      "Epoch [4580], val_loss: 8042.8154\n",
      "Epoch [4600], val_loss: 8042.7764\n",
      "Epoch [4620], val_loss: 8042.6562\n",
      "Epoch [4640], val_loss: 8042.6006\n",
      "Epoch [4660], val_loss: 8042.5308\n",
      "Epoch [4680], val_loss: 8042.3936\n",
      "Epoch [4700], val_loss: 8042.2905\n",
      "Epoch [4720], val_loss: 8042.1670\n",
      "Epoch [4740], val_loss: 8042.0913\n",
      "Epoch [4760], val_loss: 8042.0142\n",
      "Epoch [4780], val_loss: 8041.8931\n",
      "Epoch [4800], val_loss: 8041.7876\n",
      "Epoch [4820], val_loss: 8041.6885\n",
      "Epoch [4840], val_loss: 8041.5820\n",
      "Epoch [4860], val_loss: 8041.4961\n",
      "Epoch [4880], val_loss: 8041.3999\n",
      "Epoch [4900], val_loss: 8041.3691\n",
      "Epoch [4920], val_loss: 8041.2803\n",
      "Epoch [4940], val_loss: 8041.2300\n",
      "Epoch [4960], val_loss: 8041.1436\n",
      "Epoch [4980], val_loss: 8041.0610\n",
      "Epoch [5000], val_loss: 8040.9678\n",
      "Epoch [5020], val_loss: 8040.8569\n",
      "Epoch [5040], val_loss: 8040.7773\n",
      "Epoch [5060], val_loss: 8040.6748\n",
      "Epoch [5080], val_loss: 8040.5654\n",
      "Epoch [5100], val_loss: 8040.4380\n",
      "Epoch [5120], val_loss: 8040.3735\n",
      "Epoch [5140], val_loss: 8040.2695\n",
      "Epoch [5160], val_loss: 8040.1929\n",
      "Epoch [5180], val_loss: 8040.0391\n",
      "Epoch [5200], val_loss: 8039.9111\n",
      "Epoch [5220], val_loss: 8039.8486\n",
      "Epoch [5240], val_loss: 8039.7305\n",
      "Epoch [5260], val_loss: 8039.6387\n",
      "Epoch [5280], val_loss: 8039.5312\n",
      "Epoch [5300], val_loss: 8039.4106\n",
      "Epoch [5320], val_loss: 8039.3149\n",
      "Epoch [5340], val_loss: 8039.2559\n",
      "Epoch [5360], val_loss: 8039.1309\n",
      "Epoch [5380], val_loss: 8038.9771\n",
      "Epoch [5400], val_loss: 8038.8691\n",
      "Epoch [5420], val_loss: 8038.7734\n",
      "Epoch [5440], val_loss: 8038.6689\n",
      "Epoch [5460], val_loss: 8038.5239\n",
      "Epoch [5480], val_loss: 8038.4346\n",
      "Epoch [5500], val_loss: 8038.3403\n",
      "Epoch [5520], val_loss: 8038.2197\n",
      "Epoch [5540], val_loss: 8038.1182\n",
      "Epoch [5560], val_loss: 8038.0225\n",
      "Epoch [5580], val_loss: 8037.9316\n",
      "Epoch [5600], val_loss: 8037.8325\n",
      "Epoch [5620], val_loss: 8037.7241\n",
      "Epoch [5640], val_loss: 8037.6221\n",
      "Epoch [5660], val_loss: 8037.5059\n",
      "Epoch [5680], val_loss: 8037.3447\n",
      "Epoch [5700], val_loss: 8037.2163\n",
      "Epoch [5720], val_loss: 8037.0630\n",
      "Epoch [5740], val_loss: 8036.9365\n",
      "Epoch [5760], val_loss: 8036.7856\n",
      "Epoch [5780], val_loss: 8036.6367\n",
      "Epoch [5800], val_loss: 8036.5317\n",
      "Epoch [5820], val_loss: 8036.3779\n",
      "Epoch [5840], val_loss: 8036.3228\n",
      "Epoch [5860], val_loss: 8036.2227\n",
      "Epoch [5880], val_loss: 8036.1211\n",
      "Epoch [5900], val_loss: 8036.0181\n",
      "Epoch [5920], val_loss: 8035.9248\n",
      "Epoch [5940], val_loss: 8035.8774\n",
      "Epoch [5960], val_loss: 8035.7744\n",
      "Epoch [5980], val_loss: 8035.6929\n",
      "Epoch [6000], val_loss: 8035.6104\n",
      "Epoch [6020], val_loss: 8035.5430\n",
      "Epoch [6040], val_loss: 8035.4209\n",
      "Epoch [6060], val_loss: 8035.3242\n",
      "Epoch [6080], val_loss: 8035.2207\n",
      "Epoch [6100], val_loss: 8035.1294\n",
      "Epoch [6120], val_loss: 8035.0503\n",
      "Epoch [6140], val_loss: 8034.9756\n",
      "Epoch [6160], val_loss: 8034.9292\n",
      "Epoch [6180], val_loss: 8034.8877\n",
      "Epoch [6200], val_loss: 8034.8350\n",
      "Epoch [6220], val_loss: 8034.7588\n",
      "Epoch [6240], val_loss: 8034.7227\n",
      "Epoch [6260], val_loss: 8034.6514\n",
      "Epoch [6280], val_loss: 8034.5815\n",
      "Epoch [6300], val_loss: 8034.5186\n",
      "Epoch [6320], val_loss: 8034.4336\n",
      "Epoch [6340], val_loss: 8034.3726\n",
      "Epoch [6360], val_loss: 8034.2910\n",
      "Epoch [6380], val_loss: 8034.2373\n",
      "Epoch [6400], val_loss: 8034.1973\n",
      "Epoch [6420], val_loss: 8034.1235\n",
      "Epoch [6440], val_loss: 8034.0391\n",
      "Epoch [6460], val_loss: 8033.9727\n",
      "Epoch [6480], val_loss: 8033.8892\n",
      "Epoch [6500], val_loss: 8033.8062\n",
      "Epoch [6520], val_loss: 8033.7783\n",
      "Epoch [6540], val_loss: 8033.6968\n",
      "Epoch [6560], val_loss: 8033.6289\n",
      "Epoch [6580], val_loss: 8033.5693\n",
      "Epoch [6600], val_loss: 8033.5176\n",
      "Epoch [6620], val_loss: 8033.4204\n",
      "Epoch [6640], val_loss: 8033.3540\n",
      "Epoch [6660], val_loss: 8033.2827\n",
      "Epoch [6680], val_loss: 8033.2266\n",
      "Epoch [6700], val_loss: 8033.1611\n",
      "Epoch [6720], val_loss: 8033.0840\n",
      "Epoch [6740], val_loss: 8033.0278\n",
      "Epoch [6760], val_loss: 8032.9678\n",
      "Epoch [6780], val_loss: 8032.9155\n",
      "Epoch [6800], val_loss: 8032.8589\n",
      "Epoch [6820], val_loss: 8032.8242\n",
      "Epoch [6840], val_loss: 8032.7485\n",
      "Epoch [6860], val_loss: 8032.6958\n",
      "Epoch [6880], val_loss: 8032.6182\n",
      "Epoch [6900], val_loss: 8032.5762\n",
      "Epoch [6920], val_loss: 8032.5049\n",
      "Epoch [6940], val_loss: 8032.4521\n",
      "Epoch [6960], val_loss: 8032.4102\n",
      "Epoch [6980], val_loss: 8032.3594\n",
      "Epoch [7000], val_loss: 8032.3169\n",
      "Epoch [7020], val_loss: 8032.2769\n",
      "Epoch [7040], val_loss: 8032.2275\n",
      "Epoch [7060], val_loss: 8032.1777\n",
      "Epoch [7080], val_loss: 8032.1274\n",
      "Epoch [7100], val_loss: 8032.0933\n",
      "Epoch [7120], val_loss: 8032.0166\n",
      "Epoch [7140], val_loss: 8031.9702\n",
      "Epoch [7160], val_loss: 8031.9165\n",
      "Epoch [7180], val_loss: 8031.8633\n",
      "Epoch [7200], val_loss: 8031.8047\n",
      "Epoch [7220], val_loss: 8031.7588\n",
      "Epoch [7240], val_loss: 8031.7041\n",
      "Epoch [7260], val_loss: 8031.6479\n",
      "Epoch [7280], val_loss: 8031.6084\n",
      "Epoch [7300], val_loss: 8031.5757\n",
      "Epoch [7320], val_loss: 8031.5171\n",
      "Epoch [7340], val_loss: 8031.4795\n",
      "Epoch [7360], val_loss: 8031.4214\n",
      "Epoch [7380], val_loss: 8031.3755\n",
      "Epoch [7400], val_loss: 8031.3022\n",
      "Epoch [7420], val_loss: 8031.2534\n",
      "Epoch [7440], val_loss: 8031.2236\n",
      "Epoch [7460], val_loss: 8031.1719\n",
      "Epoch [7480], val_loss: 8031.1431\n",
      "Epoch [7500], val_loss: 8031.0874\n",
      "Epoch [7520], val_loss: 8031.0410\n",
      "Epoch [7540], val_loss: 8030.9775\n",
      "Epoch [7560], val_loss: 8030.9214\n",
      "Epoch [7580], val_loss: 8030.8721\n",
      "Epoch [7600], val_loss: 8030.8145\n",
      "Epoch [7620], val_loss: 8030.7554\n",
      "Epoch [7640], val_loss: 8030.7139\n",
      "Epoch [7660], val_loss: 8030.6489\n",
      "Epoch [7680], val_loss: 8030.5840\n",
      "Epoch [7700], val_loss: 8030.5415\n",
      "Epoch [7720], val_loss: 8030.4751\n",
      "Epoch [7740], val_loss: 8030.4033\n",
      "Epoch [7760], val_loss: 8030.3545\n",
      "Epoch [7780], val_loss: 8030.3135\n",
      "Epoch [7800], val_loss: 8030.2559\n",
      "Epoch [7820], val_loss: 8030.2012\n",
      "Epoch [7840], val_loss: 8030.1479\n",
      "Epoch [7860], val_loss: 8030.1260\n",
      "Epoch [7880], val_loss: 8030.0820\n",
      "Epoch [7900], val_loss: 8030.0371\n",
      "Epoch [7920], val_loss: 8029.9922\n",
      "Epoch [7940], val_loss: 8029.9785\n",
      "Epoch [7960], val_loss: 8029.9258\n",
      "Epoch [7980], val_loss: 8029.8975\n",
      "Epoch [8000], val_loss: 8029.8594\n",
      "Epoch [8020], val_loss: 8029.8110\n",
      "Epoch [8040], val_loss: 8029.7725\n",
      "Epoch [8060], val_loss: 8029.7422\n",
      "Epoch [8080], val_loss: 8029.7192\n",
      "Epoch [8100], val_loss: 8029.6699\n",
      "Epoch [8120], val_loss: 8029.6406\n",
      "Epoch [8140], val_loss: 8029.6270\n",
      "Epoch [8160], val_loss: 8029.6108\n",
      "Epoch [8180], val_loss: 8029.5835\n",
      "Epoch [8200], val_loss: 8029.5630\n",
      "Epoch [8220], val_loss: 8029.5371\n",
      "Epoch [8240], val_loss: 8029.5356\n",
      "Epoch [8260], val_loss: 8029.5278\n",
      "Epoch [8280], val_loss: 8029.5005\n",
      "Epoch [8300], val_loss: 8029.4771\n",
      "Epoch [8320], val_loss: 8029.4331\n",
      "Epoch [8340], val_loss: 8029.3906\n",
      "Epoch [8360], val_loss: 8029.3691\n",
      "Epoch [8380], val_loss: 8029.3535\n",
      "Epoch [8400], val_loss: 8029.3516\n",
      "Epoch [8420], val_loss: 8029.2871\n",
      "Epoch [8440], val_loss: 8029.2686\n",
      "Epoch [8460], val_loss: 8029.2231\n",
      "Epoch [8480], val_loss: 8029.1919\n",
      "Epoch [8500], val_loss: 8029.1743\n",
      "Epoch [8520], val_loss: 8029.1504\n",
      "Epoch [8540], val_loss: 8029.1392\n",
      "Epoch [8560], val_loss: 8029.1392\n",
      "Epoch [8580], val_loss: 8029.0796\n",
      "Epoch [8600], val_loss: 8029.0361\n",
      "Epoch [8620], val_loss: 8029.0391\n",
      "Epoch [8640], val_loss: 8028.9800\n",
      "Epoch [8660], val_loss: 8028.9521\n",
      "Epoch [8680], val_loss: 8028.9053\n",
      "Epoch [8700], val_loss: 8028.8691\n",
      "Epoch [8720], val_loss: 8028.8848\n",
      "Epoch [8740], val_loss: 8028.8760\n",
      "Epoch [8760], val_loss: 8028.8770\n",
      "Epoch [8780], val_loss: 8028.8442\n",
      "Epoch [8800], val_loss: 8028.8125\n",
      "Epoch [8820], val_loss: 8028.7920\n",
      "Epoch [8840], val_loss: 8028.7642\n",
      "Epoch [8860], val_loss: 8028.7568\n",
      "Epoch [8880], val_loss: 8028.7324\n",
      "Epoch [8900], val_loss: 8028.7222\n",
      "Epoch [8920], val_loss: 8028.7275\n",
      "Epoch [8940], val_loss: 8028.6943\n",
      "Epoch [8960], val_loss: 8028.6519\n",
      "Epoch [8980], val_loss: 8028.6016\n",
      "Epoch [9000], val_loss: 8028.5454\n",
      "Epoch [9020], val_loss: 8028.5073\n",
      "Epoch [9040], val_loss: 8028.4697\n",
      "Epoch [9060], val_loss: 8028.4292\n",
      "Epoch [9080], val_loss: 8028.4170\n",
      "Epoch [9100], val_loss: 8028.3794\n",
      "Epoch [9120], val_loss: 8028.3438\n",
      "Epoch [9140], val_loss: 8028.3164\n",
      "Epoch [9160], val_loss: 8028.2676\n",
      "Epoch [9180], val_loss: 8028.2417\n",
      "Epoch [9200], val_loss: 8028.1777\n",
      "Epoch [9220], val_loss: 8028.1479\n",
      "Epoch [9240], val_loss: 8028.0938\n",
      "Epoch [9260], val_loss: 8028.0474\n",
      "Epoch [9280], val_loss: 8028.0215\n",
      "Epoch [9300], val_loss: 8027.9854\n",
      "Epoch [9320], val_loss: 8027.9775\n",
      "Epoch [9340], val_loss: 8027.9160\n",
      "Epoch [9360], val_loss: 8027.8862\n",
      "Epoch [9380], val_loss: 8027.8701\n",
      "Epoch [9400], val_loss: 8027.8760\n",
      "Epoch [9420], val_loss: 8027.8701\n",
      "Epoch [9440], val_loss: 8027.8447\n",
      "Epoch [9460], val_loss: 8027.8115\n",
      "Epoch [9480], val_loss: 8027.7837\n",
      "Epoch [9500], val_loss: 8027.7520\n",
      "Epoch [9520], val_loss: 8027.7134\n",
      "Epoch [9540], val_loss: 8027.7007\n",
      "Epoch [9560], val_loss: 8027.6914\n",
      "Epoch [9580], val_loss: 8027.6895\n",
      "Epoch [9600], val_loss: 8027.6191\n",
      "Epoch [9620], val_loss: 8027.5986\n",
      "Epoch [9640], val_loss: 8027.5728\n",
      "Epoch [9660], val_loss: 8027.5298\n",
      "Epoch [9680], val_loss: 8027.5220\n",
      "Epoch [9700], val_loss: 8027.5039\n",
      "Epoch [9720], val_loss: 8027.5015\n",
      "Epoch [9740], val_loss: 8027.4473\n",
      "Epoch [9760], val_loss: 8027.4326\n",
      "Epoch [9780], val_loss: 8027.3721\n",
      "Epoch [9800], val_loss: 8027.3428\n",
      "Epoch [9820], val_loss: 8027.3193\n",
      "Epoch [9840], val_loss: 8027.3242\n",
      "Epoch [9860], val_loss: 8027.2759\n",
      "Epoch [9880], val_loss: 8027.2266\n",
      "Epoch [9900], val_loss: 8027.1880\n",
      "Epoch [9920], val_loss: 8027.1719\n",
      "Epoch [9940], val_loss: 8027.1074\n",
      "Epoch [9960], val_loss: 8027.0850\n",
      "Epoch [9980], val_loss: 8027.0654\n",
      "Epoch [10000], val_loss: 8027.0518\n"
     ]
    }
   ],
   "source": [
    "epochs = 10000\n",
    "lr = 1e-4\n",
    "history5 = fit(epochs, lr, model, train_loader, val_loader)"
   ]
  },
  {
   "cell_type": "markdown",
   "metadata": {
    "id": "Z385mFifdd5b"
   },
   "source": [
    "**Q12: What is the final validation loss of your model?**"
   ]
  },
  {
   "cell_type": "code",
   "execution_count": 170,
   "metadata": {
    "executionInfo": {
     "elapsed": 13,
     "status": "ok",
     "timestamp": 1679770773815,
     "user": {
      "displayName": "Faisal Osman",
      "userId": "03675104962384198116"
     },
     "user_tz": -360
    },
    "id": "XBVz9BNJdd5c"
   },
   "outputs": [],
   "source": [
    "val_loss = 8027.0518"
   ]
  },
  {
   "cell_type": "markdown",
   "metadata": {
    "id": "VZPo3icWdd5c"
   },
   "source": [
    "Let's log the final validation loss to Jovian and commit the notebook"
   ]
  },
  {
   "cell_type": "code",
   "execution_count": 171,
   "metadata": {
    "colab": {
     "base_uri": "https://localhost:8080/"
    },
    "executionInfo": {
     "elapsed": 16599,
     "status": "ok",
     "timestamp": 1679770794074,
     "user": {
      "displayName": "Faisal Osman",
      "userId": "03675104962384198116"
     },
     "user_tz": -360
    },
    "id": "SRlJQnmYdd5c",
    "outputId": "7c523fd9-5b89-4d4c-a620-8597b542e7c2"
   },
   "outputs": [
    {
     "name": "stdout",
     "output_type": "stream",
     "text": [
      "[jovian] Please enter your API key ( from https://jovian.com/ ):\u001b[0m\n",
      "API KEY: ··········\n",
      "[jovian] Metrics logged.\u001b[0m\n"
     ]
    }
   ],
   "source": [
    "jovian.log_metrics(val_loss=val_loss)"
   ]
  },
  {
   "cell_type": "code",
   "execution_count": 172,
   "metadata": {
    "colab": {
     "base_uri": "https://localhost:8080/"
    },
    "executionInfo": {
     "elapsed": 15,
     "status": "ok",
     "timestamp": 1679770794074,
     "user": {
      "displayName": "Faisal Osman",
      "userId": "03675104962384198116"
     },
     "user_tz": -360
    },
    "id": "udPfGZVydd5d",
    "outputId": "1a7a8565-48d5-4933-b36d-2638c74afc92"
   },
   "outputs": [
    {
     "name": "stdout",
     "output_type": "stream",
     "text": [
      "[jovian] Detected Colab notebook...\u001b[0m\n",
      "[jovian] jovian.commit() is no longer required on Google Colab. If you ran this notebook from Jovian, \n",
      "then just save this file in Colab using Ctrl+S/Cmd+S and it will be updated on Jovian. \n",
      "Also, you can also delete this cell, it's no longer necessary.\u001b[0m\n"
     ]
    }
   ],
   "source": [
    "jovian.commit(project=project_name, environment=None)"
   ]
  },
  {
   "cell_type": "markdown",
   "metadata": {
    "id": "n4qGfISodd5d"
   },
   "source": [
    "Now scroll back up, re-initialize the model, and try different set of values for batch size, number of epochs, learning rate etc. Commit each experiment and use the \"Compare\" and \"View Diff\" options on Jovian to compare the different results."
   ]
  },
  {
   "cell_type": "markdown",
   "metadata": {
    "id": "HjIEY9DJdd5d"
   },
   "source": [
    "## Step 5: Make predictions using the trained model\n",
    "\n",
    "**Q13: Complete the following function definition to make predictions on a single input**"
   ]
  },
  {
   "cell_type": "code",
   "execution_count": 173,
   "metadata": {
    "executionInfo": {
     "elapsed": 485,
     "status": "ok",
     "timestamp": 1679770867466,
     "user": {
      "displayName": "Faisal Osman",
      "userId": "03675104962384198116"
     },
     "user_tz": -360
    },
    "id": "iRS1T7ukdd5d"
   },
   "outputs": [],
   "source": [
    "def predict_single(input, target, model):\n",
    "    inputs = input.unsqueeze(0)\n",
    "    predictions = model(inputs)              # fill this\n",
    "    prediction = predictions[0].detach()\n",
    "    print(\"Input:\", input)\n",
    "    print(\"Target:\", target)\n",
    "    print(\"Prediction:\", prediction)"
   ]
  },
  {
   "cell_type": "code",
   "execution_count": 174,
   "metadata": {
    "colab": {
     "base_uri": "https://localhost:8080/"
    },
    "executionInfo": {
     "elapsed": 11,
     "status": "ok",
     "timestamp": 1679770872082,
     "user": {
      "displayName": "Faisal Osman",
      "userId": "03675104962384198116"
     },
     "user_tz": -360
    },
    "id": "jgixMIqsdd5d",
    "outputId": "6aad49f0-ed0a-4f0b-e29e-d3426be477e6"
   },
   "outputs": [
    {
     "name": "stdout",
     "output_type": "stream",
     "text": [
      "Input: tensor([19.0000,  0.0000, 23.8668,  1.0000,  0.0000])\n",
      "Target: tensor([2844.7061])\n",
      "Prediction: tensor([3103.2520])\n"
     ]
    }
   ],
   "source": [
    "input, target = val_ds[0]\n",
    "predict_single(input, target, model)"
   ]
  },
  {
   "cell_type": "code",
   "execution_count": 175,
   "metadata": {
    "colab": {
     "base_uri": "https://localhost:8080/"
    },
    "executionInfo": {
     "elapsed": 430,
     "status": "ok",
     "timestamp": 1679770875509,
     "user": {
      "displayName": "Faisal Osman",
      "userId": "03675104962384198116"
     },
     "user_tz": -360
    },
    "id": "VpAzmLz_dd5e",
    "outputId": "fd8313a4-0b59-41e6-d1d4-51cf2b3a2bd1"
   },
   "outputs": [
    {
     "name": "stdout",
     "output_type": "stream",
     "text": [
      "Input: tensor([45.0000,  1.0000, 23.3139,  2.0000,  0.0000])\n",
      "Target: tensor([9034.7080])\n",
      "Prediction: tensor([9885.1758])\n"
     ]
    }
   ],
   "source": [
    "input, target = val_ds[10]\n",
    "predict_single(input, target, model)"
   ]
  },
  {
   "cell_type": "code",
   "execution_count": 176,
   "metadata": {
    "colab": {
     "base_uri": "https://localhost:8080/"
    },
    "executionInfo": {
     "elapsed": 441,
     "status": "ok",
     "timestamp": 1679770897778,
     "user": {
      "displayName": "Faisal Osman",
      "userId": "03675104962384198116"
     },
     "user_tz": -360
    },
    "id": "THM0j2h9dd5e",
    "outputId": "632afc38-9e38-42fb-d0a7-7d9b4e597362"
   },
   "outputs": [
    {
     "name": "stdout",
     "output_type": "stream",
     "text": [
      "Input: tensor([20.0000,  1.0000, 26.4810,  0.0000,  1.0000])\n",
      "Target: tensor([17044.4902])\n",
      "Prediction: tensor([3157.7856])\n"
     ]
    }
   ],
   "source": [
    "input, target = val_ds[23]\n",
    "predict_single(input, target, model)"
   ]
  },
  {
   "cell_type": "markdown",
   "metadata": {
    "id": "dxBLpe0Vdd5e"
   },
   "source": [
    "Are you happy with your model's predictions? Try to improve them further."
   ]
  },
  {
   "cell_type": "markdown",
   "metadata": {
    "id": "VsjBj7z_dd5e"
   },
   "source": [
    "## (Optional) Step 6: Try another dataset & blog about it\n",
    "\n",
    "While this last step is optional for the submission of your assignment, we highly recommend that you do it. Try to replicate this notebook for a different linear regression or logistic regression problem. This will help solidify your understanding, and give you a chance to differentiate the generic patterns in machine learning from problem-specific details.You can use one of these starer notebooks (just change the dataset):\n",
    "\n",
    "- Linear regression (minimal): https://jovian.ai/aakashns/housing-linear-minimal\n",
    "- Logistic regression (minimal): https://jovian.ai/aakashns/mnist-logistic-minimal\n",
    "\n",
    "Here are some sources to find good datasets:\n",
    "\n",
    "- https://lionbridge.ai/datasets/10-open-datasets-for-linear-regression/\n",
    "- https://www.kaggle.com/rtatman/datasets-for-regression-analysis\n",
    "- https://archive.ics.uci.edu/ml/datasets.php?format=&task=reg&att=&area=&numAtt=&numIns=&type=&sort=nameUp&view=table\n",
    "- https://people.sc.fsu.edu/~jburkardt/datasets/regression/regression.html\n",
    "- https://archive.ics.uci.edu/ml/datasets/wine+quality\n",
    "- https://pytorch.org/docs/stable/torchvision/datasets.html\n",
    "\n",
    "We also recommend that you write a blog about your approach to the problem. Here is a suggested structure for your post (feel free to experiment with it):\n",
    "\n",
    "- Interesting title & subtitle\n",
    "- Overview of what the blog covers (which dataset, linear regression or logistic regression, intro to PyTorch)\n",
    "- Downloading & exploring the data\n",
    "- Preparing the data for training\n",
    "- Creating a model using PyTorch\n",
    "- Training the model to fit the data\n",
    "- Your thoughts on how to experiment with different hyperparmeters to reduce loss\n",
    "- Making predictions using the model\n",
    "\n",
    "As with the previous assignment, you can [embed Juptyer notebook cells & outputs from Jovian](https://medium.com/jovianml/share-and-embed-jupyter-notebooks-online-with-jovian-ml-df709a03064e) into your blog. \n",
    "\n",
    "Don't forget to share your work on the forum: https://jovian.ai/forum/t/linear-regression-and-logistic-regression-notebooks-and-blog-posts/14039"
   ]
  },
  {
   "cell_type": "code",
   "execution_count": 177,
   "metadata": {
    "colab": {
     "base_uri": "https://localhost:8080/"
    },
    "executionInfo": {
     "elapsed": 494,
     "status": "ok",
     "timestamp": 1679770910026,
     "user": {
      "displayName": "Faisal Osman",
      "userId": "03675104962384198116"
     },
     "user_tz": -360
    },
    "id": "jgdiCwHsdd5e",
    "outputId": "802fd9af-671f-4f9a-c67e-bd04ea58ad0c"
   },
   "outputs": [
    {
     "name": "stdout",
     "output_type": "stream",
     "text": [
      "[jovian] Detected Colab notebook...\u001b[0m\n",
      "[jovian] jovian.commit() is no longer required on Google Colab. If you ran this notebook from Jovian, \n",
      "then just save this file in Colab using Ctrl+S/Cmd+S and it will be updated on Jovian. \n",
      "Also, you can also delete this cell, it's no longer necessary.\u001b[0m\n",
      "[jovian] Detected Colab notebook...\u001b[0m\n",
      "[jovian] jovian.commit() is no longer required on Google Colab. If you ran this notebook from Jovian, \n",
      "then just save this file in Colab using Ctrl+S/Cmd+S and it will be updated on Jovian. \n",
      "Also, you can also delete this cell, it's no longer necessary.\u001b[0m\n"
     ]
    }
   ],
   "source": [
    "jovian.commit(project=project_name, environment=None)\n",
    "jovian.commit(project=project_name, environment=None) # try again, kaggle fails sometimes"
   ]
  },
  {
   "cell_type": "code",
   "execution_count": null,
   "metadata": {
    "id": "068-s5rDdd5f"
   },
   "outputs": [],
   "source": []
  }
 ],
 "metadata": {
  "accelerator": "GPU",
  "colab": {
   "provenance": []
  },
  "gpuClass": "standard",
  "kernelspec": {
   "display_name": "Python 3 (ipykernel)",
   "language": "python",
   "name": "python3"
  },
  "language_info": {
   "codemirror_mode": {
    "name": "ipython",
    "version": 3
   },
   "file_extension": ".py",
   "mimetype": "text/x-python",
   "name": "python",
   "nbconvert_exporter": "python",
   "pygments_lexer": "ipython3",
   "version": "3.9.6"
  },
  "widgets": {
   "application/vnd.jupyter.widget-state+json": {
    "0483c24a29c8464c82e62e3e90fb238f": {
     "model_module": "@jupyter-widgets/base",
     "model_module_version": "1.2.0",
     "model_name": "LayoutModel",
     "state": {
      "_model_module": "@jupyter-widgets/base",
      "_model_module_version": "1.2.0",
      "_model_name": "LayoutModel",
      "_view_count": null,
      "_view_module": "@jupyter-widgets/base",
      "_view_module_version": "1.2.0",
      "_view_name": "LayoutView",
      "align_content": null,
      "align_items": null,
      "align_self": null,
      "border": null,
      "bottom": null,
      "display": null,
      "flex": null,
      "flex_flow": null,
      "grid_area": null,
      "grid_auto_columns": null,
      "grid_auto_flow": null,
      "grid_auto_rows": null,
      "grid_column": null,
      "grid_gap": null,
      "grid_row": null,
      "grid_template_areas": null,
      "grid_template_columns": null,
      "grid_template_rows": null,
      "height": null,
      "justify_content": null,
      "justify_items": null,
      "left": null,
      "margin": null,
      "max_height": null,
      "max_width": null,
      "min_height": null,
      "min_width": null,
      "object_fit": null,
      "object_position": null,
      "order": null,
      "overflow": null,
      "overflow_x": null,
      "overflow_y": null,
      "padding": null,
      "right": null,
      "top": null,
      "visibility": null,
      "width": null
     }
    },
    "4b767a15e6ca4cebb444468ce4ee1af0": {
     "model_module": "@jupyter-widgets/controls",
     "model_module_version": "1.5.0",
     "model_name": "HBoxModel",
     "state": {
      "_dom_classes": [],
      "_model_module": "@jupyter-widgets/controls",
      "_model_module_version": "1.5.0",
      "_model_name": "HBoxModel",
      "_view_count": null,
      "_view_module": "@jupyter-widgets/controls",
      "_view_module_version": "1.5.0",
      "_view_name": "HBoxView",
      "box_style": "",
      "children": [
       "IPY_MODEL_880c144049544c2aa45be0ddcac2db30",
       "IPY_MODEL_4da9af30628847d4a855414659d35dc6",
       "IPY_MODEL_84a9d1caa40a4a9799eaa6dca9968453"
      ],
      "layout": "IPY_MODEL_c65ad8300bbe44eb920f8e4cb5463fe6"
     }
    },
    "4da9af30628847d4a855414659d35dc6": {
     "model_module": "@jupyter-widgets/controls",
     "model_module_version": "1.5.0",
     "model_name": "FloatProgressModel",
     "state": {
      "_dom_classes": [],
      "_model_module": "@jupyter-widgets/controls",
      "_model_module_version": "1.5.0",
      "_model_name": "FloatProgressModel",
      "_view_count": null,
      "_view_module": "@jupyter-widgets/controls",
      "_view_module_version": "1.5.0",
      "_view_name": "ProgressView",
      "bar_style": "success",
      "description": "",
      "description_tooltip": null,
      "layout": "IPY_MODEL_9ec2124561da4dc9ae6ff593ee2732d9",
      "max": 54288,
      "min": 0,
      "orientation": "horizontal",
      "style": "IPY_MODEL_51dd7200503d4f4db55410beffa60067",
      "value": 54288
     }
    },
    "51dd7200503d4f4db55410beffa60067": {
     "model_module": "@jupyter-widgets/controls",
     "model_module_version": "1.5.0",
     "model_name": "ProgressStyleModel",
     "state": {
      "_model_module": "@jupyter-widgets/controls",
      "_model_module_version": "1.5.0",
      "_model_name": "ProgressStyleModel",
      "_view_count": null,
      "_view_module": "@jupyter-widgets/base",
      "_view_module_version": "1.2.0",
      "_view_name": "StyleView",
      "bar_color": null,
      "description_width": ""
     }
    },
    "53a32282ef474f92b4f052b697c269e7": {
     "model_module": "@jupyter-widgets/controls",
     "model_module_version": "1.5.0",
     "model_name": "DescriptionStyleModel",
     "state": {
      "_model_module": "@jupyter-widgets/controls",
      "_model_module_version": "1.5.0",
      "_model_name": "DescriptionStyleModel",
      "_view_count": null,
      "_view_module": "@jupyter-widgets/base",
      "_view_module_version": "1.2.0",
      "_view_name": "StyleView",
      "description_width": ""
     }
    },
    "830a62a80b7e464da22b7df4df5baab4": {
     "model_module": "@jupyter-widgets/controls",
     "model_module_version": "1.5.0",
     "model_name": "DescriptionStyleModel",
     "state": {
      "_model_module": "@jupyter-widgets/controls",
      "_model_module_version": "1.5.0",
      "_model_name": "DescriptionStyleModel",
      "_view_count": null,
      "_view_module": "@jupyter-widgets/base",
      "_view_module_version": "1.2.0",
      "_view_name": "StyleView",
      "description_width": ""
     }
    },
    "84a9d1caa40a4a9799eaa6dca9968453": {
     "model_module": "@jupyter-widgets/controls",
     "model_module_version": "1.5.0",
     "model_name": "HTMLModel",
     "state": {
      "_dom_classes": [],
      "_model_module": "@jupyter-widgets/controls",
      "_model_module_version": "1.5.0",
      "_model_name": "HTMLModel",
      "_view_count": null,
      "_view_module": "@jupyter-widgets/controls",
      "_view_module_version": "1.5.0",
      "_view_name": "HTMLView",
      "description": "",
      "description_tooltip": null,
      "layout": "IPY_MODEL_0483c24a29c8464c82e62e3e90fb238f",
      "placeholder": "​",
      "style": "IPY_MODEL_53a32282ef474f92b4f052b697c269e7",
      "value": " 54288/54288 [00:00&lt;00:00, 2208431.94it/s]"
     }
    },
    "880c144049544c2aa45be0ddcac2db30": {
     "model_module": "@jupyter-widgets/controls",
     "model_module_version": "1.5.0",
     "model_name": "HTMLModel",
     "state": {
      "_dom_classes": [],
      "_model_module": "@jupyter-widgets/controls",
      "_model_module_version": "1.5.0",
      "_model_name": "HTMLModel",
      "_view_count": null,
      "_view_module": "@jupyter-widgets/controls",
      "_view_module_version": "1.5.0",
      "_view_name": "HTMLView",
      "description": "",
      "description_tooltip": null,
      "layout": "IPY_MODEL_c019dfac5dee4097b12c47432018dcb7",
      "placeholder": "​",
      "style": "IPY_MODEL_830a62a80b7e464da22b7df4df5baab4",
      "value": "100%"
     }
    },
    "9ec2124561da4dc9ae6ff593ee2732d9": {
     "model_module": "@jupyter-widgets/base",
     "model_module_version": "1.2.0",
     "model_name": "LayoutModel",
     "state": {
      "_model_module": "@jupyter-widgets/base",
      "_model_module_version": "1.2.0",
      "_model_name": "LayoutModel",
      "_view_count": null,
      "_view_module": "@jupyter-widgets/base",
      "_view_module_version": "1.2.0",
      "_view_name": "LayoutView",
      "align_content": null,
      "align_items": null,
      "align_self": null,
      "border": null,
      "bottom": null,
      "display": null,
      "flex": null,
      "flex_flow": null,
      "grid_area": null,
      "grid_auto_columns": null,
      "grid_auto_flow": null,
      "grid_auto_rows": null,
      "grid_column": null,
      "grid_gap": null,
      "grid_row": null,
      "grid_template_areas": null,
      "grid_template_columns": null,
      "grid_template_rows": null,
      "height": null,
      "justify_content": null,
      "justify_items": null,
      "left": null,
      "margin": null,
      "max_height": null,
      "max_width": null,
      "min_height": null,
      "min_width": null,
      "object_fit": null,
      "object_position": null,
      "order": null,
      "overflow": null,
      "overflow_x": null,
      "overflow_y": null,
      "padding": null,
      "right": null,
      "top": null,
      "visibility": null,
      "width": null
     }
    },
    "c019dfac5dee4097b12c47432018dcb7": {
     "model_module": "@jupyter-widgets/base",
     "model_module_version": "1.2.0",
     "model_name": "LayoutModel",
     "state": {
      "_model_module": "@jupyter-widgets/base",
      "_model_module_version": "1.2.0",
      "_model_name": "LayoutModel",
      "_view_count": null,
      "_view_module": "@jupyter-widgets/base",
      "_view_module_version": "1.2.0",
      "_view_name": "LayoutView",
      "align_content": null,
      "align_items": null,
      "align_self": null,
      "border": null,
      "bottom": null,
      "display": null,
      "flex": null,
      "flex_flow": null,
      "grid_area": null,
      "grid_auto_columns": null,
      "grid_auto_flow": null,
      "grid_auto_rows": null,
      "grid_column": null,
      "grid_gap": null,
      "grid_row": null,
      "grid_template_areas": null,
      "grid_template_columns": null,
      "grid_template_rows": null,
      "height": null,
      "justify_content": null,
      "justify_items": null,
      "left": null,
      "margin": null,
      "max_height": null,
      "max_width": null,
      "min_height": null,
      "min_width": null,
      "object_fit": null,
      "object_position": null,
      "order": null,
      "overflow": null,
      "overflow_x": null,
      "overflow_y": null,
      "padding": null,
      "right": null,
      "top": null,
      "visibility": null,
      "width": null
     }
    },
    "c65ad8300bbe44eb920f8e4cb5463fe6": {
     "model_module": "@jupyter-widgets/base",
     "model_module_version": "1.2.0",
     "model_name": "LayoutModel",
     "state": {
      "_model_module": "@jupyter-widgets/base",
      "_model_module_version": "1.2.0",
      "_model_name": "LayoutModel",
      "_view_count": null,
      "_view_module": "@jupyter-widgets/base",
      "_view_module_version": "1.2.0",
      "_view_name": "LayoutView",
      "align_content": null,
      "align_items": null,
      "align_self": null,
      "border": null,
      "bottom": null,
      "display": null,
      "flex": null,
      "flex_flow": null,
      "grid_area": null,
      "grid_auto_columns": null,
      "grid_auto_flow": null,
      "grid_auto_rows": null,
      "grid_column": null,
      "grid_gap": null,
      "grid_row": null,
      "grid_template_areas": null,
      "grid_template_columns": null,
      "grid_template_rows": null,
      "height": null,
      "justify_content": null,
      "justify_items": null,
      "left": null,
      "margin": null,
      "max_height": null,
      "max_width": null,
      "min_height": null,
      "min_width": null,
      "object_fit": null,
      "object_position": null,
      "order": null,
      "overflow": null,
      "overflow_x": null,
      "overflow_y": null,
      "padding": null,
      "right": null,
      "top": null,
      "visibility": null,
      "width": null
     }
    }
   }
  }
 },
 "nbformat": 4,
 "nbformat_minor": 0
}